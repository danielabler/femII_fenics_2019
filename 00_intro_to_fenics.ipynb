{
 "cells": [
  {
   "cell_type": "code",
   "execution_count": 1,
   "metadata": {},
   "outputs": [],
   "source": [
    "# IPython magic to import matplotlib and plot inline\n",
    "%matplotlib inline"
   ]
  },
  {
   "cell_type": "markdown",
   "metadata": {
    "pycharm": {
     "name": "#%% md\n"
    }
   },
   "source": [
    "# Introduction to FEniCS"
   ]
  },
  {
   "cell_type": "markdown",
   "metadata": {},
   "source": [
    "[FEniCS](https://fenicsproject.org/) is a open-source computing platform for solving partial differential equations (PDEs). \n",
    "The FEniCS Project consists of a number of components with DOLFIN and UFL providing the main user interface. For Detailed documentation of the FEniCS programming interface and its components, see the links on https://fenics.readthedocs.io/en/latest/.\n",
    "\n",
    "\n",
    "[The FEniCS Book](https://link.springer.com/book/10.1007%2F978-3-642-23099-8) provides an overview of the finite element method, its implementation in FEniCS and application examples.\n",
    "[The FEniCS Tutorial](https://fenicsproject.org/tutorial/) is a collection of example problems for learning FEniCS 'by examples'. \n",
    "Source code for the examples used this book can be found [here](https://github.com/hplgit/fenics-tutorial/tree/master/src/vol1/python).\n",
    "Other examples can be found in the [DOLFIN documentation](https://fenicsproject.org/docs/dolfin/latest/python/demos.html).\n",
    "\n",
    "Be aware that FEniCS is under development and unfortunately some class and function names of the current version may differ from those in the tutorials...\n",
    "\n",
    "This notebook assumes FEniCS/Dolfin version `2019.1.0`. \n",
    "\n",
    "You are running this notebook with version:"
   ]
  },
  {
   "cell_type": "code",
   "execution_count": 2,
   "metadata": {},
   "outputs": [
    {
     "name": "stdout",
     "output_type": "stream",
     "text": [
      "Your Dolfin version:  2019.1.0\n"
     ]
    }
   ],
   "source": [
    "from dolfin import __version__ as dolfin_version\n",
    "print(\"Your Dolfin version: \", dolfin_version)"
   ]
  },
  {
   "cell_type": "markdown",
   "metadata": {},
   "source": [
    "## Getting Started"
   ]
  },
  {
   "cell_type": "markdown",
   "metadata": {},
   "source": [
    "- Follow the instructions in the *README.md* file in this repository to set up a running fenics installation.\n",
    "- Skim read section 1 of [The FEniCS Tutorial](https://fenicsproject.org/pub/tutorial/html/._ftut1003.html#ch:prelim)\n",
    "- Work through this notebook. This will give you a quick overview of the basic building blocks of any FEniCS program, and introduce an example how PDE problems can be solved in FEniCS. \n",
    "- Then, read and follow the examples of section 2 in [The FEniCS Tutorial](https://fenicsproject.org/pub/tutorial/html/._ftut1004.html#ch:fundamentals). You will already be familiar with many of the concepts, but they will be explained in more detail.\n",
    "\n",
    "After this, you are ready to explore any of the other examples in the tutorial.\n",
    "Particularly relevant for your projects are:\n",
    "- [Linear Elasticity](https://fenicsproject.org/pub/tutorial/html/._ftut1008.html#ftut:elast) example in the tutorial.\n",
    "- [Hyperelasticity](https://fenicsproject.org/docs/dolfin/1.4.0/python/demo/documented/hyperelasticity/python/documentation.html) from the Dolfin reference. Note that this code is based on an outdated version of Dolfing/FEniCS, so a few adapatations will be necessary to make it run.\n",
    "\n",
    "\n"
   ]
  },
  {
   "cell_type": "markdown",
   "metadata": {},
   "source": [
    "## Importing FEniCS libraries"
   ]
  },
  {
   "cell_type": "code",
   "execution_count": 3,
   "metadata": {},
   "outputs": [],
   "source": [
    "from fenics import *"
   ]
  },
  {
   "cell_type": "markdown",
   "metadata": {},
   "source": [
    "## Mesh Creation"
   ]
  },
  {
   "cell_type": "markdown",
   "metadata": {},
   "source": [
    "FEniCS provides various [built-in meshes](https://fenicsproject.org/docs/dolfin/latest/python/demos/built-in-meshes/demo_built-in-meshes.py.html) for simple standard geometries.\n",
    "Meshes for more complex geometries can be generated via [fenics-mshr](https://fenics.readthedocs.io/projects/mshr/en/latest/) / [CGAL](https://www.cgal.org)."
   ]
  },
  {
   "cell_type": "code",
   "execution_count": 4,
   "metadata": {},
   "outputs": [
    {
     "data": {
      "image/svg+xml": [
       "\n",
       "    <svg xmlns=\"http://www.w3.org/2000/svg\" version=\"1.1\" width=\"840\" height=\"840\">\n",
       "    <line x1=\"20\" y1=\"820\" x2=\"286\" y2=\"820\" style=\"fill:none; stroke:black; stroke-width:\"2\" />\n",
       "<line x1=\"20\" y1=\"820\" x2=\"20\" y2=\"553\" style=\"fill:none; stroke:black; stroke-width:\"2\" />\n",
       "<line x1=\"20\" y1=\"820\" x2=\"286\" y2=\"553\" style=\"fill:none; stroke:black; stroke-width:\"2\" />\n",
       "<line x1=\"286\" y1=\"820\" x2=\"553\" y2=\"820\" style=\"fill:none; stroke:black; stroke-width:\"2\" />\n",
       "<line x1=\"286\" y1=\"820\" x2=\"286\" y2=\"553\" style=\"fill:none; stroke:black; stroke-width:\"2\" />\n",
       "<line x1=\"286\" y1=\"820\" x2=\"553\" y2=\"553\" style=\"fill:none; stroke:black; stroke-width:\"2\" />\n",
       "<line x1=\"553\" y1=\"820\" x2=\"820\" y2=\"820\" style=\"fill:none; stroke:black; stroke-width:\"2\" />\n",
       "<line x1=\"553\" y1=\"820\" x2=\"553\" y2=\"553\" style=\"fill:none; stroke:black; stroke-width:\"2\" />\n",
       "<line x1=\"553\" y1=\"820\" x2=\"820\" y2=\"553\" style=\"fill:none; stroke:black; stroke-width:\"2\" />\n",
       "<line x1=\"820\" y1=\"820\" x2=\"820\" y2=\"553\" style=\"fill:none; stroke:black; stroke-width:\"2\" />\n",
       "<line x1=\"20\" y1=\"553\" x2=\"286\" y2=\"553\" style=\"fill:none; stroke:black; stroke-width:\"2\" />\n",
       "<line x1=\"20\" y1=\"553\" x2=\"20\" y2=\"286\" style=\"fill:none; stroke:black; stroke-width:\"2\" />\n",
       "<line x1=\"20\" y1=\"553\" x2=\"286\" y2=\"286\" style=\"fill:none; stroke:black; stroke-width:\"2\" />\n",
       "<line x1=\"286\" y1=\"553\" x2=\"553\" y2=\"553\" style=\"fill:none; stroke:black; stroke-width:\"2\" />\n",
       "<line x1=\"286\" y1=\"553\" x2=\"286\" y2=\"286\" style=\"fill:none; stroke:black; stroke-width:\"2\" />\n",
       "<line x1=\"286\" y1=\"553\" x2=\"553\" y2=\"286\" style=\"fill:none; stroke:black; stroke-width:\"2\" />\n",
       "<line x1=\"553\" y1=\"553\" x2=\"820\" y2=\"553\" style=\"fill:none; stroke:black; stroke-width:\"2\" />\n",
       "<line x1=\"553\" y1=\"553\" x2=\"553\" y2=\"286\" style=\"fill:none; stroke:black; stroke-width:\"2\" />\n",
       "<line x1=\"553\" y1=\"553\" x2=\"820\" y2=\"286\" style=\"fill:none; stroke:black; stroke-width:\"2\" />\n",
       "<line x1=\"820\" y1=\"553\" x2=\"820\" y2=\"286\" style=\"fill:none; stroke:black; stroke-width:\"2\" />\n",
       "<line x1=\"20\" y1=\"286\" x2=\"286\" y2=\"286\" style=\"fill:none; stroke:black; stroke-width:\"2\" />\n",
       "<line x1=\"20\" y1=\"286\" x2=\"20\" y2=\"20\" style=\"fill:none; stroke:black; stroke-width:\"2\" />\n",
       "<line x1=\"20\" y1=\"286\" x2=\"286\" y2=\"20\" style=\"fill:none; stroke:black; stroke-width:\"2\" />\n",
       "<line x1=\"286\" y1=\"286\" x2=\"553\" y2=\"286\" style=\"fill:none; stroke:black; stroke-width:\"2\" />\n",
       "<line x1=\"286\" y1=\"286\" x2=\"286\" y2=\"20\" style=\"fill:none; stroke:black; stroke-width:\"2\" />\n",
       "<line x1=\"286\" y1=\"286\" x2=\"553\" y2=\"20\" style=\"fill:none; stroke:black; stroke-width:\"2\" />\n",
       "<line x1=\"553\" y1=\"286\" x2=\"820\" y2=\"286\" style=\"fill:none; stroke:black; stroke-width:\"2\" />\n",
       "<line x1=\"553\" y1=\"286\" x2=\"553\" y2=\"20\" style=\"fill:none; stroke:black; stroke-width:\"2\" />\n",
       "<line x1=\"553\" y1=\"286\" x2=\"820\" y2=\"20\" style=\"fill:none; stroke:black; stroke-width:\"2\" />\n",
       "<line x1=\"820\" y1=\"286\" x2=\"820\" y2=\"20\" style=\"fill:none; stroke:black; stroke-width:\"2\" />\n",
       "<line x1=\"20\" y1=\"20\" x2=\"286\" y2=\"20\" style=\"fill:none; stroke:black; stroke-width:\"2\" />\n",
       "<line x1=\"286\" y1=\"20\" x2=\"553\" y2=\"20\" style=\"fill:none; stroke:black; stroke-width:\"2\" />\n",
       "<line x1=\"553\" y1=\"20\" x2=\"820\" y2=\"20\" style=\"fill:none; stroke:black; stroke-width:\"2\" />\n",
       "    <circle cx=\"20\" cy=\"820\" r=\"2\" stroke=\"black\" stroke-width=\"0\" fill=\"red\" />\n",
       "<circle cx=\"286\" cy=\"820\" r=\"2\" stroke=\"black\" stroke-width=\"0\" fill=\"red\" />\n",
       "<circle cx=\"553\" cy=\"820\" r=\"2\" stroke=\"black\" stroke-width=\"0\" fill=\"red\" />\n",
       "<circle cx=\"820\" cy=\"820\" r=\"2\" stroke=\"black\" stroke-width=\"0\" fill=\"red\" />\n",
       "<circle cx=\"20\" cy=\"553\" r=\"2\" stroke=\"black\" stroke-width=\"0\" fill=\"red\" />\n",
       "<circle cx=\"286\" cy=\"553\" r=\"2\" stroke=\"black\" stroke-width=\"0\" fill=\"red\" />\n",
       "<circle cx=\"553\" cy=\"553\" r=\"2\" stroke=\"black\" stroke-width=\"0\" fill=\"red\" />\n",
       "<circle cx=\"820\" cy=\"553\" r=\"2\" stroke=\"black\" stroke-width=\"0\" fill=\"red\" />\n",
       "<circle cx=\"20\" cy=\"286\" r=\"2\" stroke=\"black\" stroke-width=\"0\" fill=\"red\" />\n",
       "<circle cx=\"286\" cy=\"286\" r=\"2\" stroke=\"black\" stroke-width=\"0\" fill=\"red\" />\n",
       "<circle cx=\"553\" cy=\"286\" r=\"2\" stroke=\"black\" stroke-width=\"0\" fill=\"red\" />\n",
       "<circle cx=\"820\" cy=\"286\" r=\"2\" stroke=\"black\" stroke-width=\"0\" fill=\"red\" />\n",
       "<circle cx=\"20\" cy=\"20\" r=\"2\" stroke=\"black\" stroke-width=\"0\" fill=\"red\" />\n",
       "<circle cx=\"286\" cy=\"20\" r=\"2\" stroke=\"black\" stroke-width=\"0\" fill=\"red\" />\n",
       "<circle cx=\"553\" cy=\"20\" r=\"2\" stroke=\"black\" stroke-width=\"0\" fill=\"red\" />\n",
       "<circle cx=\"820\" cy=\"20\" r=\"2\" stroke=\"black\" stroke-width=\"0\" fill=\"red\" />\n",
       "    </svg>\n",
       "    "
      ],
      "text/html": [
       "<!DOCTYPE html>\n",
       "<html>\n",
       "  <head>\n",
       "    <meta http-equiv=\"content-type\" content=\"text/html;charset=UTF-8\" />\n",
       "    <meta name=\"generator\" content=\"FEniCS/DOLFIN (http://fenicsproject.org)\" />\n",
       "    <title>FEniCS/DOLFIN X3DOM plot</title>\n",
       "    <script type=\"text/javascript\" src=\"https://www.x3dom.org/download/x3dom.js\"></script>\n",
       "    <script type=\"text/javascript\" src=\"https://code.jquery.com/jquery-3.1.0.js\"></script>\n",
       "    <script type=\"text/javascript\" src=\"https://rawgit.com/plscott/fenics-x3dom/master/x3dom_support.js\"></script>\n",
       "    <link rel=\"stylesheet\" type=\"text/css\" href=\"https://www.x3dom.org/download/x3dom.css\" />\n",
       "    <link rel=\"stylesheet\" type=\"text/css\" href=\"https://rawgit.com/plscott/fenics-x3dom/master/x3dom_support.css\" />\n",
       "  </head>\n",
       "  <body>\n",
       "    <x3d showStat=\"false\" xmlns=\"http://www.web3d.org/specifications/x3d-namespace\" width=\"500.000000px\" height=\"400.000000px\">\n",
       "      <scene>\n",
       "        <shape>\n",
       "          <appearance>\n",
       "            <material diffuseColor=\"1.000000 1.000000 1.000000\" emissiveColor=\"0.000000 0.000000 0.000000\" specularColor=\"0.000000 0.000000 0.000000\" ambientIntensity=\"0\" shininess=\"0.5\" transparency=\"0\"></material>\n",
       "          </appearance>\n",
       "          <indexedFaceSet solid=\"false\" colorPerVertex=\"false\" coordIndex=\"0 5 1 -1 0 5 4 -1 1 6 2 -1 1 6 5 -1 2 7 3 -1 2 7 6 -1 4 9 5 -1 4 9 8 -1 5 10 6 -1 5 10 9 -1 6 11 7 -1 6 11 10 -1 8 13 9 -1 8 13 12 -1 9 14 10 -1 9 14 13 -1 10 15 11 -1 10 15 14 -1 \">\n",
       "            <coordinate point=\"0 0 0 1.66667 0 0 3.33333 0 0 5 0 0 0 1.66667 0 1.66667 1.66667 0 3.33333 1.66667 0 5 1.66667 0 0 3.33333 0 1.66667 3.33333 0 3.33333 3.33333 0 5 3.33333 0 0 5 0 1.66667 5 0 3.33333 5 0 5 5 0 \"></coordinate>\n",
       "          </indexedFaceSet>\n",
       "        </shape>\n",
       "        <shape>\n",
       "          <appearance>\n",
       "            <material emissiveColor=\"0.000000 0.000000 0.000000\" specularColor=\"0.000000 0.000000 0.000000\" ambientIntensity=\"0\" shininess=\"0.5\" transparency=\"0\"></material>\n",
       "          </appearance>\n",
       "          <indexedLineSet solid=\"false\" colorPerVertex=\"false\" coordIndex=\"0 1 -1 0 4 -1 0 5 -1 1 2 -1 1 5 -1 1 6 -1 2 3 -1 2 6 -1 2 7 -1 3 7 -1 4 5 -1 4 8 -1 4 9 -1 5 6 -1 5 9 -1 5 10 -1 6 7 -1 6 10 -1 6 11 -1 7 11 -1 8 9 -1 8 12 -1 8 13 -1 9 10 -1 9 13 -1 9 14 -1 10 11 -1 10 14 -1 10 15 -1 11 15 -1 12 13 -1 13 14 -1 14 15 -1 \">\n",
       "            <coordinate point=\"0 0 0 1.66667 0 0 3.33333 0 0 5 0 0 0 1.66667 0 1.66667 1.66667 0 3.33333 1.66667 0 5 1.66667 0 0 3.33333 0 1.66667 3.33333 0 3.33333 3.33333 0 5 3.33333 0 0 5 0 1.66667 5 0 3.33333 5 0 5 5 0 \"></coordinate>\n",
       "          </indexedLineSet>\n",
       "        </shape>\n",
       "        <viewpoint id=\"default\" position=\"9.571068 9.571068 7.071068\" orientation=\"-0.7071067812 0.7071067812 0 1\" fieldOfView=\"0.785398\" centerOfRotation=\"2.500000 2.500000 0.000000\" zNear=\"-1\" zFar=\"-1\"></viewpoint>\n",
       "        <viewpoint id=\"top\" position=\"2.500000 12.500000 0.000000\" orientation=\"-1 0 0 1.5707963267948\" fieldOfView=\"0.785398\" centerOfRotation=\"2.500000 2.500000 0.000000\" zNear=\"-1\" zFar=\"-1\"></viewpoint>\n",
       "        <viewpoint id=\"bottom\" position=\"2.500000 -7.500000 0.000000\" orientation=\"1 0 0 1.5707963267948\" fieldOfView=\"0.785398\" centerOfRotation=\"2.500000 2.500000 0.000000\" zNear=\"-1\" zFar=\"-1\"></viewpoint>\n",
       "        <viewpoint id=\"left\" position=\"12.500000 2.500000 0.000000\" orientation=\"0 1 0 1.5707963267948\" fieldOfView=\"0.785398\" centerOfRotation=\"2.500000 2.500000 0.000000\" zNear=\"-1\" zFar=\"-1\"></viewpoint>\n",
       "        <viewpoint id=\"right\" position=\"-7.500000 2.500000 0.000000\" orientation=\"0 -1 0 1.5707963267948\" fieldOfView=\"0.785398\" centerOfRotation=\"2.500000 2.500000 0.000000\" zNear=\"-1\" zFar=\"-1\"></viewpoint>\n",
       "        <viewpoint id=\"back\" position=\"2.500000 2.500000 -10.000000\" orientation=\"0 1 0 3.1415926535898\" fieldOfView=\"0.785398\" centerOfRotation=\"2.500000 2.500000 0.000000\" zNear=\"-1\" zFar=\"-1\"></viewpoint>\n",
       "        <viewpoint id=\"front\" position=\"2.500000 2.500000 10.000000\" orientation=\"0 0 0 1\" fieldOfView=\"0.785398\" centerOfRotation=\"2.500000 2.500000 0.000000\" zNear=\"-1\" zFar=\"-1\"></viewpoint>\n",
       "        <background skyColor=\"0.950000 0.950000 0.950000\"></background>\n",
       "        <directionalLight ambientIntensity=\"0\" intensity=\"1\"></directionalLight>\n",
       "      </scene>\n",
       "    </x3d>\n",
       "    <div id=\"menu\"><form id=\"menu-items\"><input type=\"radio\" id=\"button-options\" name=\"menu\" checked=\"\" />\n",
       "        <label for=\"button-options\">Options</label>\n",
       "        <input type=\"radio\" id=\"button-summary\" name=\"menu\" />\n",
       "        <label for=\"button-summary\" style=\"display: none;\">Summary</label>\n",
       "        <input type=\"radio\" id=\"button-color\" name=\"menu\" />\n",
       "        <label for=\"button-color\" style=\"display: none;\">Color</label>\n",
       "        <input type=\"radio\" id=\"button-warp\" name=\"menu\" />\n",
       "        <label for=\"button-warp\" style=\"display: none;\">Warp</label>\n",
       "        <input type=\"radio\" id=\"button-viewpoints\" name=\"menu\" />\n",
       "        <label for=\"button-viewpoints\" style=\"display: none;\">Viewpoints</label>\n",
       "      </form>\n",
       "      <div id=\"menu-content\"><div id=\"content-options\" for=\"button-options\"><span>Menu Options</span>\n",
       "          <br />\n",
       "          <form class=\"options\"><input type=\"checkbox\" id=\"select-summary\" />\n",
       "            <label for=\"select-summary\">Summary</label>\n",
       "          </form>\n",
       "          <br />\n",
       "          <form class=\"options\"><input type=\"checkbox\" id=\"select-color\" />\n",
       "            <label for=\"select-color\">Color</label>\n",
       "          </form>\n",
       "          <br />\n",
       "          <form class=\"options\"><input type=\"checkbox\" id=\"select-warp\" />\n",
       "            <label for=\"select-warp\">Warp</label>\n",
       "          </form>\n",
       "          <br />\n",
       "          <form class=\"options\"><input type=\"checkbox\" id=\"select-viewpoints\" />\n",
       "            <label for=\"select-viewpoints\">Viewpoints</label>\n",
       "          </form>\n",
       "        </div>\n",
       "        <div id=\"content-summary\" for=\"button-summary\" hidden=\"\">Number of vertices: 16<br />Number of cells: 18</div>\n",
       "        <div id=\"content-color\" for=\"button-color\" hidden=\"\"><form>\n",
       "            <input id=\"color-checkbox\" type=\"checkbox\" checked=\"\" />\n",
       "            <label for=\"color-checkbox\">Show Color</label>\n",
       "          </form>Current Color Map:<br />\n",
       "          <span id=\"min-color-value\"></span>\n",
       "          <span id=\"color-map\"></span>\n",
       "          <span id=\"max-color-value\"></span>\n",
       "        </div>\n",
       "        <div id=\"content-warp\" for=\"button-warp\" hidden=\"\"><form>\n",
       "            <input id=\"warp-checkbox\" type=\"checkbox\" />\n",
       "            <label for=\"warp-checkbox\">Warp By Scalar</label>\n",
       "            <br />\n",
       "            <input id=\"warp-slider\" type=\"range\" min=\"0\" max=\"5\" step=\"0.01\" value=\"1\" disabled=\"\" />\n",
       "            <br />\n",
       "            <label id=\"warp-slider-val\" for=\"warp-slider\">1</label>\n",
       "          </form>\n",
       "        </div>\n",
       "        <div id=\"content-viewpoints\" for=\"button-viewpoints\" hidden=\"\"><span>Viewpoint Options</span>\n",
       "          <br />\n",
       "          <button class=\"viewpoint\">front</button>\n",
       "          <button class=\"viewpoint\">back</button>\n",
       "          <button class=\"viewpoint\">left</button>\n",
       "          <br />\n",
       "          <button class=\"viewpoint\">right</button>\n",
       "          <button class=\"viewpoint\">top</button>\n",
       "          <button class=\"viewpoint\">bottom</button>\n",
       "        </div>\n",
       "      </div>\n",
       "    </div>\n",
       "  </body>\n",
       "</html>\n"
      ],
      "text/plain": [
       "<dolfin.cpp.generation.RectangleMesh at 0x7f911d5b18e0>"
      ]
     },
     "execution_count": 4,
     "metadata": {},
     "output_type": "execute_result"
    }
   ],
   "source": [
    "mesh_2d = RectangleMesh(Point(0,0),Point(5,5), nx=3, ny=3)\n",
    "# plotting via ipython 3d rendering \n",
    "mesh_2d\n",
    "# or via matplotlib in 2d\n",
    "#plot(mesh_2d)"
   ]
  },
  {
   "cell_type": "markdown",
   "metadata": {},
   "source": [
    "A mesh consists of various 'entities' as detailed [here](https://fenicsproject.org/docs/dolfin/1.5.0/python/programmers-reference/cpp/mesh/Mesh.html)."
   ]
  },
  {
   "cell_type": "code",
   "execution_count": 5,
   "metadata": {},
   "outputs": [
    {
     "name": "stdout",
     "output_type": "stream",
     "text": [
      "Number of cells:     18\n",
      "Number of faces:     18\n",
      "Number of edges:     33\n",
      "Number of vertices:  16\n",
      "Coordinates: \n",
      " [[0.         0.        ]\n",
      " [1.66666667 0.        ]\n",
      " [3.33333333 0.        ]\n",
      " [5.         0.        ]\n",
      " [0.         1.66666667]\n",
      " [1.66666667 1.66666667]\n",
      " [3.33333333 1.66666667]\n",
      " [5.         1.66666667]\n",
      " [0.         3.33333333]\n",
      " [1.66666667 3.33333333]\n",
      " [3.33333333 3.33333333]\n",
      " [5.         3.33333333]\n",
      " [0.         5.        ]\n",
      " [1.66666667 5.        ]\n",
      " [3.33333333 5.        ]\n",
      " [5.         5.        ]]\n"
     ]
    }
   ],
   "source": [
    "print(\"Number of cells:    \", mesh_2d.num_cells())\n",
    "print(\"Number of faces:    \", mesh_2d.num_faces())\n",
    "print(\"Number of edges:    \", mesh_2d.num_edges())\n",
    "print(\"Number of vertices: \", mesh_2d.num_vertices())\n",
    "\n",
    "print(\"Coordinates: \\n\", mesh_2d.coordinates())"
   ]
  },
  {
   "cell_type": "code",
   "execution_count": 6,
   "metadata": {},
   "outputs": [
    {
     "name": "stdout",
     "output_type": "stream",
     "text": [
      "-cell 0 has faces : []\n",
      " -face 0 has edges : [4 2 0]\n",
      "  -edge 4 has vertices : [1 5]\n",
      "  -edge 2 has vertices : [0 5]\n",
      "  -edge 0 has vertices : [0 1]\n",
      "-cell 1 has faces : [1]\n",
      " -face 1 has edges : [10  2  1]\n",
      "  -edge 10 has vertices : [4 5]\n",
      "  -edge 2 has vertices : [0 5]\n",
      "  -edge 1 has vertices : [0 4]\n",
      "-cell 2 has faces : [2]\n",
      " -face 2 has edges : [7 5 3]\n",
      "  -edge 7 has vertices : [2 6]\n",
      "  -edge 5 has vertices : [1 6]\n",
      "  -edge 3 has vertices : [1 2]\n",
      "-cell 3 has faces : [3]\n",
      " -face 3 has edges : [13  5  4]\n",
      "  -edge 13 has vertices : [5 6]\n",
      "  -edge 5 has vertices : [1 6]\n",
      "  -edge 4 has vertices : [1 5]\n",
      "-cell 4 has faces : [4]\n",
      " -face 4 has edges : [9 8 6]\n",
      "  -edge 9 has vertices : [3 7]\n",
      "  -edge 8 has vertices : [2 7]\n",
      "  -edge 6 has vertices : [2 3]\n",
      "-cell 5 has faces : [5]\n",
      " -face 5 has edges : [16  8  7]\n",
      "  -edge 16 has vertices : [6 7]\n",
      "  -edge 8 has vertices : [2 7]\n",
      "  -edge 7 has vertices : [2 6]\n",
      "-cell 6 has faces : [6]\n",
      " -face 6 has edges : [14 12 10]\n",
      "  -edge 14 has vertices : [5 9]\n",
      "  -edge 12 has vertices : [4 9]\n",
      "  -edge 10 has vertices : [4 5]\n",
      "-cell 7 has faces : [7]\n",
      " -face 7 has edges : [20 12 11]\n",
      "  -edge 20 has vertices : [8 9]\n",
      "  -edge 12 has vertices : [4 9]\n",
      "  -edge 11 has vertices : [4 8]\n",
      "-cell 8 has faces : [8]\n",
      " -face 8 has edges : [17 15 13]\n",
      "  -edge 17 has vertices : [ 6 10]\n",
      "  -edge 15 has vertices : [ 5 10]\n",
      "  -edge 13 has vertices : [5 6]\n",
      "-cell 9 has faces : [9]\n",
      " -face 9 has edges : [23 15 14]\n",
      "  -edge 23 has vertices : [ 9 10]\n",
      "  -edge 15 has vertices : [ 5 10]\n",
      "  -edge 14 has vertices : [5 9]\n",
      "-cell 10 has faces : [10]\n",
      " -face 10 has edges : [19 18 16]\n",
      "  -edge 19 has vertices : [ 7 11]\n",
      "  -edge 18 has vertices : [ 6 11]\n",
      "  -edge 16 has vertices : [6 7]\n",
      "-cell 11 has faces : [11]\n",
      " -face 11 has edges : [26 18 17]\n",
      "  -edge 26 has vertices : [10 11]\n",
      "  -edge 18 has vertices : [ 6 11]\n",
      "  -edge 17 has vertices : [ 6 10]\n",
      "-cell 12 has faces : [12]\n",
      " -face 12 has edges : [24 22 20]\n",
      "  -edge 24 has vertices : [ 9 13]\n",
      "  -edge 22 has vertices : [ 8 13]\n",
      "  -edge 20 has vertices : [8 9]\n",
      "-cell 13 has faces : [13]\n",
      " -face 13 has edges : [30 22 21]\n",
      "  -edge 30 has vertices : [12 13]\n",
      "  -edge 22 has vertices : [ 8 13]\n",
      "  -edge 21 has vertices : [ 8 12]\n",
      "-cell 14 has faces : [14]\n",
      " -face 14 has edges : [27 25 23]\n",
      "  -edge 27 has vertices : [10 14]\n",
      "  -edge 25 has vertices : [ 9 14]\n",
      "  -edge 23 has vertices : [ 9 10]\n",
      "-cell 15 has faces : [15]\n",
      " -face 15 has edges : [31 25 24]\n",
      "  -edge 31 has vertices : [13 14]\n",
      "  -edge 25 has vertices : [ 9 14]\n",
      "  -edge 24 has vertices : [ 9 13]\n",
      "-cell 16 has faces : [16]\n",
      " -face 16 has edges : [29 28 26]\n",
      "  -edge 29 has vertices : [11 15]\n",
      "  -edge 28 has vertices : [10 15]\n",
      "  -edge 26 has vertices : [10 11]\n",
      "-cell 17 has faces : [17]\n",
      " -face 17 has edges : [32 28 27]\n",
      "  -edge 32 has vertices : [14 15]\n",
      "  -edge 28 has vertices : [10 15]\n",
      "  -edge 27 has vertices : [10 14]\n"
     ]
    }
   ],
   "source": [
    "for cell in cells(mesh_2d):\n",
    "    print(\"-cell\", cell.index(), \"has faces :\", cell.entities(2)) # cell and faces are identical in 2d\n",
    "                                                                  # try this on a 3d mesh  \n",
    "    for face in faces(cell):\n",
    "        print(\" -face\", face.index(), \"has edges :\", face.entities(1)) \n",
    "        for edge in edges(face):\n",
    "            print(\"  -edge\", edge.index(), \"has vertices :\", edge.entities(0)) "
   ]
  },
  {
   "cell_type": "code",
   "execution_count": 7,
   "metadata": {},
   "outputs": [
    {
     "data": {
      "text/html": [
       "<!DOCTYPE html>\n",
       "<html>\n",
       "  <head>\n",
       "    <meta http-equiv=\"content-type\" content=\"text/html;charset=UTF-8\" />\n",
       "    <meta name=\"generator\" content=\"FEniCS/DOLFIN (http://fenicsproject.org)\" />\n",
       "    <title>FEniCS/DOLFIN X3DOM plot</title>\n",
       "    <script type=\"text/javascript\" src=\"https://www.x3dom.org/download/x3dom.js\"></script>\n",
       "    <script type=\"text/javascript\" src=\"https://code.jquery.com/jquery-3.1.0.js\"></script>\n",
       "    <script type=\"text/javascript\" src=\"https://rawgit.com/plscott/fenics-x3dom/master/x3dom_support.js\"></script>\n",
       "    <link rel=\"stylesheet\" type=\"text/css\" href=\"https://www.x3dom.org/download/x3dom.css\" />\n",
       "    <link rel=\"stylesheet\" type=\"text/css\" href=\"https://rawgit.com/plscott/fenics-x3dom/master/x3dom_support.css\" />\n",
       "  </head>\n",
       "  <body>\n",
       "    <x3d showStat=\"false\" xmlns=\"http://www.web3d.org/specifications/x3d-namespace\" width=\"500.000000px\" height=\"400.000000px\">\n",
       "      <scene>\n",
       "        <shape>\n",
       "          <appearance>\n",
       "            <material diffuseColor=\"1.000000 1.000000 1.000000\" emissiveColor=\"0.000000 0.000000 0.000000\" specularColor=\"0.000000 0.000000 0.000000\" ambientIntensity=\"0\" shininess=\"0.5\" transparency=\"0\"></material>\n",
       "          </appearance>\n",
       "          <indexedFaceSet solid=\"false\" colorPerVertex=\"false\" coordIndex=\"0 7 1 -1 0 37 1 -1 0 7 6 -1 0 42 6 -1 0 37 36 -1 0 42 36 -1 1 8 2 -1 1 38 2 -1 1 8 7 -1 1 38 37 -1 2 9 3 -1 2 39 3 -1 2 9 8 -1 2 39 38 -1 3 10 4 -1 3 40 4 -1 3 10 9 -1 3 40 39 -1 4 11 5 -1 4 41 5 -1 4 11 10 -1 4 41 40 -1 5 43 11 -1 5 43 41 -1 6 13 7 -1 6 13 12 -1 6 44 12 -1 6 44 42 -1 7 14 8 -1 7 14 13 -1 8 15 9 -1 8 15 14 -1 9 16 10 -1 9 16 15 -1 10 17 11 -1 10 17 16 -1 11 45 17 -1 11 45 43 -1 12 19 13 -1 12 19 18 -1 12 46 18 -1 12 46 44 -1 13 20 14 -1 13 20 19 -1 14 21 15 -1 14 21 20 -1 15 22 16 -1 15 22 21 -1 16 23 17 -1 16 23 22 -1 17 47 23 -1 17 47 45 -1 18 25 19 -1 18 25 24 -1 18 48 24 -1 18 48 46 -1 19 26 20 -1 19 26 25 -1 20 27 21 -1 20 27 26 -1 21 28 22 -1 21 28 27 -1 22 29 23 -1 22 29 28 -1 23 49 29 -1 23 49 47 -1 24 31 25 -1 24 31 30 -1 24 50 30 -1 24 50 48 -1 25 32 26 -1 25 32 31 -1 26 33 27 -1 26 33 32 -1 27 34 28 -1 27 34 33 -1 28 35 29 -1 28 35 34 -1 29 55 35 -1 29 55 49 -1 30 51 31 -1 30 51 50 -1 31 52 32 -1 31 52 51 -1 32 53 33 -1 32 53 52 -1 33 54 34 -1 33 54 53 -1 34 55 35 -1 34 55 54 -1 36 57 37 -1 36 62 42 -1 36 57 56 -1 36 62 56 -1 37 58 38 -1 37 58 57 -1 38 59 39 -1 38 59 58 -1 39 60 40 -1 39 60 59 -1 40 61 41 -1 40 61 60 -1 41 63 43 -1 41 63 61 -1 42 64 44 -1 42 64 62 -1 43 65 45 -1 43 65 63 -1 44 66 46 -1 44 66 64 -1 45 67 47 -1 45 67 65 -1 46 68 48 -1 46 68 66 -1 47 69 49 -1 47 69 67 -1 48 70 50 -1 48 70 68 -1 49 75 55 -1 49 75 69 -1 50 71 51 -1 50 71 70 -1 51 72 52 -1 51 72 71 -1 52 73 53 -1 52 73 72 -1 53 74 54 -1 53 74 73 -1 54 75 55 -1 54 75 74 -1 56 77 57 -1 56 82 62 -1 56 77 76 -1 56 82 76 -1 57 78 58 -1 57 78 77 -1 58 79 59 -1 58 79 78 -1 59 80 60 -1 59 80 79 -1 60 81 61 -1 60 81 80 -1 61 83 63 -1 61 83 81 -1 62 84 64 -1 62 84 82 -1 63 85 65 -1 63 85 83 -1 64 86 66 -1 64 86 84 -1 65 87 67 -1 65 87 85 -1 66 88 68 -1 66 88 86 -1 67 89 69 -1 67 89 87 -1 68 90 70 -1 68 90 88 -1 69 95 75 -1 69 95 89 -1 70 91 71 -1 70 91 90 -1 71 92 72 -1 71 92 91 -1 72 93 73 -1 72 93 92 -1 73 94 74 -1 73 94 93 -1 74 95 75 -1 74 95 94 -1 76 97 77 -1 76 102 82 -1 76 97 96 -1 76 102 96 -1 77 98 78 -1 77 98 97 -1 78 99 79 -1 78 99 98 -1 79 100 80 -1 79 100 99 -1 80 101 81 -1 80 101 100 -1 81 103 83 -1 81 103 101 -1 82 104 84 -1 82 104 102 -1 83 105 85 -1 83 105 103 -1 84 106 86 -1 84 106 104 -1 85 107 87 -1 85 107 105 -1 86 108 88 -1 86 108 106 -1 87 109 89 -1 87 109 107 -1 88 110 90 -1 88 110 108 -1 89 115 95 -1 89 115 109 -1 90 111 91 -1 90 111 110 -1 91 112 92 -1 91 112 111 -1 92 113 93 -1 92 113 112 -1 93 114 94 -1 93 114 113 -1 94 115 95 -1 94 115 114 -1 96 117 97 -1 96 122 102 -1 96 117 116 -1 96 122 116 -1 97 118 98 -1 97 118 117 -1 98 119 99 -1 98 119 118 -1 99 120 100 -1 99 120 119 -1 100 121 101 -1 100 121 120 -1 101 127 103 -1 101 127 121 -1 102 128 104 -1 102 128 122 -1 103 133 105 -1 103 133 127 -1 104 134 106 -1 104 134 128 -1 105 139 107 -1 105 139 133 -1 106 140 108 -1 106 140 134 -1 107 145 109 -1 107 145 139 -1 108 146 110 -1 108 146 140 -1 109 151 115 -1 109 151 145 -1 110 147 111 -1 110 147 146 -1 111 148 112 -1 111 148 147 -1 112 149 113 -1 112 149 148 -1 113 150 114 -1 113 150 149 -1 114 151 115 -1 114 151 150 -1 116 123 117 -1 116 123 122 -1 117 124 118 -1 117 124 123 -1 118 125 119 -1 118 125 124 -1 119 126 120 -1 119 126 125 -1 120 127 121 -1 120 127 126 -1 122 129 123 -1 122 129 128 -1 123 130 124 -1 123 130 129 -1 124 131 125 -1 124 131 130 -1 125 132 126 -1 125 132 131 -1 126 133 127 -1 126 133 132 -1 128 135 129 -1 128 135 134 -1 129 136 130 -1 129 136 135 -1 130 137 131 -1 130 137 136 -1 131 138 132 -1 131 138 137 -1 132 139 133 -1 132 139 138 -1 134 141 135 -1 134 141 140 -1 135 142 136 -1 135 142 141 -1 136 143 137 -1 136 143 142 -1 137 144 138 -1 137 144 143 -1 138 145 139 -1 138 145 144 -1 140 147 141 -1 140 147 146 -1 141 148 142 -1 141 148 147 -1 142 149 143 -1 142 149 148 -1 143 150 144 -1 143 150 149 -1 144 151 145 -1 144 151 150 -1 \">\n",
       "            <coordinate point=\"0 0 0 0.2 0 0 0.4 0 0 0.6 0 0 0.8 0 0 1 0 0 0 0.2 0 0.2 0.2 0 0.4 0.2 0 0.6 0.2 0 0.8 0.2 0 1 0.2 0 0 0.4 0 0.2 0.4 0 0.4 0.4 0 0.6 0.4 0 0.8 0.4 0 1 0.4 0 0 0.6 0 0.2 0.6 0 0.4 0.6 0 0.6 0.6 0 0.8 0.6 0 1 0.6 0 0 0.8 0 0.2 0.8 0 0.4 0.8 0 0.6 0.8 0 0.8 0.8 0 1 0.8 0 0 1 0 0.2 1 0 0.4 1 0 0.6 1 0 0.8 1 0 1 1 0 0 0 0.2 0.2 0 0.2 0.4 0 0.2 0.6 0 0.2 0.8 0 0.2 1 0 0.2 0 0.2 0.2 1 0.2 0.2 0 0.4 0.2 1 0.4 0.2 0 0.6 0.2 1 0.6 0.2 0 0.8 0.2 1 0.8 0.2 0 1 0.2 0.2 1 0.2 0.4 1 0.2 0.6 1 0.2 0.8 1 0.2 1 1 0.2 0 0 0.4 0.2 0 0.4 0.4 0 0.4 0.6 0 0.4 0.8 0 0.4 1 0 0.4 0 0.2 0.4 1 0.2 0.4 0 0.4 0.4 1 0.4 0.4 0 0.6 0.4 1 0.6 0.4 0 0.8 0.4 1 0.8 0.4 0 1 0.4 0.2 1 0.4 0.4 1 0.4 0.6 1 0.4 0.8 1 0.4 1 1 0.4 0 0 0.6 0.2 0 0.6 0.4 0 0.6 0.6 0 0.6 0.8 0 0.6 1 0 0.6 0 0.2 0.6 1 0.2 0.6 0 0.4 0.6 1 0.4 0.6 0 0.6 0.6 1 0.6 0.6 0 0.8 0.6 1 0.8 0.6 0 1 0.6 0.2 1 0.6 0.4 1 0.6 0.6 1 0.6 0.8 1 0.6 1 1 0.6 0 0 0.8 0.2 0 0.8 0.4 0 0.8 0.6 0 0.8 0.8 0 0.8 1 0 0.8 0 0.2 0.8 1 0.2 0.8 0 0.4 0.8 1 0.4 0.8 0 0.6 0.8 1 0.6 0.8 0 0.8 0.8 1 0.8 0.8 0 1 0.8 0.2 1 0.8 0.4 1 0.8 0.6 1 0.8 0.8 1 0.8 1 1 0.8 0 0 1 0.2 0 1 0.4 0 1 0.6 0 1 0.8 0 1 1 0 1 0 0.2 1 0.2 0.2 1 0.4 0.2 1 0.6 0.2 1 0.8 0.2 1 1 0.2 1 0 0.4 1 0.2 0.4 1 0.4 0.4 1 0.6 0.4 1 0.8 0.4 1 1 0.4 1 0 0.6 1 0.2 0.6 1 0.4 0.6 1 0.6 0.6 1 0.8 0.6 1 1 0.6 1 0 0.8 1 0.2 0.8 1 0.4 0.8 1 0.6 0.8 1 0.8 0.8 1 1 0.8 1 0 1 1 0.2 1 1 0.4 1 1 0.6 1 1 0.8 1 1 1 1 1 \"></coordinate>\n",
       "          </indexedFaceSet>\n",
       "        </shape>\n",
       "        <shape>\n",
       "          <appearance>\n",
       "            <material emissiveColor=\"0.000000 0.000000 0.000000\" specularColor=\"0.000000 0.000000 0.000000\" ambientIntensity=\"0\" shininess=\"0.5\" transparency=\"0\"></material>\n",
       "          </appearance>\n",
       "          <indexedLineSet solid=\"false\" colorPerVertex=\"false\" coordIndex=\"0 1 -1 0 6 -1 0 7 -1 0 36 -1 0 37 -1 0 42 -1 1 2 -1 1 7 -1 1 8 -1 1 37 -1 1 38 -1 2 3 -1 2 8 -1 2 9 -1 2 38 -1 2 39 -1 3 4 -1 3 9 -1 3 10 -1 3 39 -1 3 40 -1 4 5 -1 4 10 -1 4 11 -1 4 40 -1 4 41 -1 5 11 -1 5 41 -1 5 43 -1 6 7 -1 6 12 -1 6 13 -1 6 42 -1 6 44 -1 7 8 -1 7 13 -1 7 14 -1 8 9 -1 8 14 -1 8 15 -1 9 10 -1 9 15 -1 9 16 -1 10 11 -1 10 16 -1 10 17 -1 11 17 -1 11 43 -1 11 45 -1 12 13 -1 12 18 -1 12 19 -1 12 44 -1 12 46 -1 13 14 -1 13 19 -1 13 20 -1 14 15 -1 14 20 -1 14 21 -1 15 16 -1 15 21 -1 15 22 -1 16 17 -1 16 22 -1 16 23 -1 17 23 -1 17 45 -1 17 47 -1 18 19 -1 18 24 -1 18 25 -1 18 46 -1 18 48 -1 19 20 -1 19 25 -1 19 26 -1 20 21 -1 20 26 -1 20 27 -1 21 22 -1 21 27 -1 21 28 -1 22 23 -1 22 28 -1 22 29 -1 23 29 -1 23 47 -1 23 49 -1 24 25 -1 24 30 -1 24 31 -1 24 48 -1 24 50 -1 25 26 -1 25 31 -1 25 32 -1 26 27 -1 26 32 -1 26 33 -1 27 28 -1 27 33 -1 27 34 -1 28 29 -1 28 34 -1 28 35 -1 29 35 -1 29 49 -1 29 55 -1 30 31 -1 30 50 -1 30 51 -1 31 32 -1 31 51 -1 31 52 -1 32 33 -1 32 52 -1 32 53 -1 33 34 -1 33 53 -1 33 54 -1 34 35 -1 34 54 -1 34 55 -1 35 55 -1 36 37 -1 36 42 -1 36 56 -1 36 57 -1 36 62 -1 37 38 -1 37 57 -1 37 58 -1 38 39 -1 38 58 -1 38 59 -1 39 40 -1 39 59 -1 39 60 -1 40 41 -1 40 60 -1 40 61 -1 41 43 -1 41 61 -1 41 63 -1 42 44 -1 42 62 -1 42 64 -1 43 45 -1 43 63 -1 43 65 -1 44 46 -1 44 64 -1 44 66 -1 45 47 -1 45 65 -1 45 67 -1 46 48 -1 46 66 -1 46 68 -1 47 49 -1 47 67 -1 47 69 -1 48 50 -1 48 68 -1 48 70 -1 49 55 -1 49 69 -1 49 75 -1 50 51 -1 50 70 -1 50 71 -1 51 52 -1 51 71 -1 51 72 -1 52 53 -1 52 72 -1 52 73 -1 53 54 -1 53 73 -1 53 74 -1 54 55 -1 54 74 -1 54 75 -1 55 75 -1 56 57 -1 56 62 -1 56 76 -1 56 77 -1 56 82 -1 57 58 -1 57 77 -1 57 78 -1 58 59 -1 58 78 -1 58 79 -1 59 60 -1 59 79 -1 59 80 -1 60 61 -1 60 80 -1 60 81 -1 61 63 -1 61 81 -1 61 83 -1 62 64 -1 62 82 -1 62 84 -1 63 65 -1 63 83 -1 63 85 -1 64 66 -1 64 84 -1 64 86 -1 65 67 -1 65 85 -1 65 87 -1 66 68 -1 66 86 -1 66 88 -1 67 69 -1 67 87 -1 67 89 -1 68 70 -1 68 88 -1 68 90 -1 69 75 -1 69 89 -1 69 95 -1 70 71 -1 70 90 -1 70 91 -1 71 72 -1 71 91 -1 71 92 -1 72 73 -1 72 92 -1 72 93 -1 73 74 -1 73 93 -1 73 94 -1 74 75 -1 74 94 -1 74 95 -1 75 95 -1 76 77 -1 76 82 -1 76 96 -1 76 97 -1 76 102 -1 77 78 -1 77 97 -1 77 98 -1 78 79 -1 78 98 -1 78 99 -1 79 80 -1 79 99 -1 79 100 -1 80 81 -1 80 100 -1 80 101 -1 81 83 -1 81 101 -1 81 103 -1 82 84 -1 82 102 -1 82 104 -1 83 85 -1 83 103 -1 83 105 -1 84 86 -1 84 104 -1 84 106 -1 85 87 -1 85 105 -1 85 107 -1 86 88 -1 86 106 -1 86 108 -1 87 89 -1 87 107 -1 87 109 -1 88 90 -1 88 108 -1 88 110 -1 89 95 -1 89 109 -1 89 115 -1 90 91 -1 90 110 -1 90 111 -1 91 92 -1 91 111 -1 91 112 -1 92 93 -1 92 112 -1 92 113 -1 93 94 -1 93 113 -1 93 114 -1 94 95 -1 94 114 -1 94 115 -1 95 115 -1 96 97 -1 96 102 -1 96 116 -1 96 117 -1 96 122 -1 97 98 -1 97 117 -1 97 118 -1 98 99 -1 98 118 -1 98 119 -1 99 100 -1 99 119 -1 99 120 -1 100 101 -1 100 120 -1 100 121 -1 101 103 -1 101 121 -1 101 127 -1 102 104 -1 102 122 -1 102 128 -1 103 105 -1 103 127 -1 103 133 -1 104 106 -1 104 128 -1 104 134 -1 105 107 -1 105 133 -1 105 139 -1 106 108 -1 106 134 -1 106 140 -1 107 109 -1 107 139 -1 107 145 -1 108 110 -1 108 140 -1 108 146 -1 109 115 -1 109 145 -1 109 151 -1 110 111 -1 110 146 -1 110 147 -1 111 112 -1 111 147 -1 111 148 -1 112 113 -1 112 148 -1 112 149 -1 113 114 -1 113 149 -1 113 150 -1 114 115 -1 114 150 -1 114 151 -1 115 151 -1 116 117 -1 116 122 -1 116 123 -1 117 118 -1 117 123 -1 117 124 -1 118 119 -1 118 124 -1 118 125 -1 119 120 -1 119 125 -1 119 126 -1 120 121 -1 120 126 -1 120 127 -1 121 127 -1 122 123 -1 122 128 -1 122 129 -1 123 124 -1 123 129 -1 123 130 -1 124 125 -1 124 130 -1 124 131 -1 125 126 -1 125 131 -1 125 132 -1 126 127 -1 126 132 -1 126 133 -1 127 133 -1 128 129 -1 128 134 -1 128 135 -1 129 130 -1 129 135 -1 129 136 -1 130 131 -1 130 136 -1 130 137 -1 131 132 -1 131 137 -1 131 138 -1 132 133 -1 132 138 -1 132 139 -1 133 139 -1 134 135 -1 134 140 -1 134 141 -1 135 136 -1 135 141 -1 135 142 -1 136 137 -1 136 142 -1 136 143 -1 137 138 -1 137 143 -1 137 144 -1 138 139 -1 138 144 -1 138 145 -1 139 145 -1 140 141 -1 140 146 -1 140 147 -1 141 142 -1 141 147 -1 141 148 -1 142 143 -1 142 148 -1 142 149 -1 143 144 -1 143 149 -1 143 150 -1 144 145 -1 144 150 -1 144 151 -1 145 151 -1 146 147 -1 147 148 -1 148 149 -1 149 150 -1 150 151 -1 \">\n",
       "            <coordinate point=\"0 0 0 0.2 0 0 0.4 0 0 0.6 0 0 0.8 0 0 1 0 0 0 0.2 0 0.2 0.2 0 0.4 0.2 0 0.6 0.2 0 0.8 0.2 0 1 0.2 0 0 0.4 0 0.2 0.4 0 0.4 0.4 0 0.6 0.4 0 0.8 0.4 0 1 0.4 0 0 0.6 0 0.2 0.6 0 0.4 0.6 0 0.6 0.6 0 0.8 0.6 0 1 0.6 0 0 0.8 0 0.2 0.8 0 0.4 0.8 0 0.6 0.8 0 0.8 0.8 0 1 0.8 0 0 1 0 0.2 1 0 0.4 1 0 0.6 1 0 0.8 1 0 1 1 0 0 0 0.2 0.2 0 0.2 0.4 0 0.2 0.6 0 0.2 0.8 0 0.2 1 0 0.2 0 0.2 0.2 1 0.2 0.2 0 0.4 0.2 1 0.4 0.2 0 0.6 0.2 1 0.6 0.2 0 0.8 0.2 1 0.8 0.2 0 1 0.2 0.2 1 0.2 0.4 1 0.2 0.6 1 0.2 0.8 1 0.2 1 1 0.2 0 0 0.4 0.2 0 0.4 0.4 0 0.4 0.6 0 0.4 0.8 0 0.4 1 0 0.4 0 0.2 0.4 1 0.2 0.4 0 0.4 0.4 1 0.4 0.4 0 0.6 0.4 1 0.6 0.4 0 0.8 0.4 1 0.8 0.4 0 1 0.4 0.2 1 0.4 0.4 1 0.4 0.6 1 0.4 0.8 1 0.4 1 1 0.4 0 0 0.6 0.2 0 0.6 0.4 0 0.6 0.6 0 0.6 0.8 0 0.6 1 0 0.6 0 0.2 0.6 1 0.2 0.6 0 0.4 0.6 1 0.4 0.6 0 0.6 0.6 1 0.6 0.6 0 0.8 0.6 1 0.8 0.6 0 1 0.6 0.2 1 0.6 0.4 1 0.6 0.6 1 0.6 0.8 1 0.6 1 1 0.6 0 0 0.8 0.2 0 0.8 0.4 0 0.8 0.6 0 0.8 0.8 0 0.8 1 0 0.8 0 0.2 0.8 1 0.2 0.8 0 0.4 0.8 1 0.4 0.8 0 0.6 0.8 1 0.6 0.8 0 0.8 0.8 1 0.8 0.8 0 1 0.8 0.2 1 0.8 0.4 1 0.8 0.6 1 0.8 0.8 1 0.8 1 1 0.8 0 0 1 0.2 0 1 0.4 0 1 0.6 0 1 0.8 0 1 1 0 1 0 0.2 1 0.2 0.2 1 0.4 0.2 1 0.6 0.2 1 0.8 0.2 1 1 0.2 1 0 0.4 1 0.2 0.4 1 0.4 0.4 1 0.6 0.4 1 0.8 0.4 1 1 0.4 1 0 0.6 1 0.2 0.6 1 0.4 0.6 1 0.6 0.6 1 0.8 0.6 1 1 0.6 1 0 0.8 1 0.2 0.8 1 0.4 0.8 1 0.6 0.8 1 0.8 0.8 1 1 0.8 1 0 1 1 0.2 1 1 0.4 1 1 0.6 1 1 0.8 1 1 1 1 1 \"></coordinate>\n",
       "          </indexedLineSet>\n",
       "        </shape>\n",
       "        <viewpoint id=\"default\" position=\"2.267767 2.267767 2.267767\" orientation=\"-0.7071067812 0.7071067812 0 1\" fieldOfView=\"0.785398\" centerOfRotation=\"0.500000 0.500000 0.500000\" zNear=\"-1\" zFar=\"-1\"></viewpoint>\n",
       "        <viewpoint id=\"top\" position=\"0.500000 3.000000 0.500000\" orientation=\"-1 0 0 1.5707963267948\" fieldOfView=\"0.785398\" centerOfRotation=\"0.500000 0.500000 0.500000\" zNear=\"-1\" zFar=\"-1\"></viewpoint>\n",
       "        <viewpoint id=\"bottom\" position=\"0.500000 -2.000000 0.500000\" orientation=\"1 0 0 1.5707963267948\" fieldOfView=\"0.785398\" centerOfRotation=\"0.500000 0.500000 0.500000\" zNear=\"-1\" zFar=\"-1\"></viewpoint>\n",
       "        <viewpoint id=\"left\" position=\"3.000000 0.500000 0.500000\" orientation=\"0 1 0 1.5707963267948\" fieldOfView=\"0.785398\" centerOfRotation=\"0.500000 0.500000 0.500000\" zNear=\"-1\" zFar=\"-1\"></viewpoint>\n",
       "        <viewpoint id=\"right\" position=\"-2.000000 0.500000 0.500000\" orientation=\"0 -1 0 1.5707963267948\" fieldOfView=\"0.785398\" centerOfRotation=\"0.500000 0.500000 0.500000\" zNear=\"-1\" zFar=\"-1\"></viewpoint>\n",
       "        <viewpoint id=\"back\" position=\"0.500000 0.500000 -2.500000\" orientation=\"0 1 0 3.1415926535898\" fieldOfView=\"0.785398\" centerOfRotation=\"0.500000 0.500000 0.500000\" zNear=\"-1\" zFar=\"-1\"></viewpoint>\n",
       "        <viewpoint id=\"front\" position=\"0.500000 0.500000 3.000000\" orientation=\"0 0 0 1\" fieldOfView=\"0.785398\" centerOfRotation=\"0.500000 0.500000 0.500000\" zNear=\"-1\" zFar=\"-1\"></viewpoint>\n",
       "        <background skyColor=\"0.950000 0.950000 0.950000\"></background>\n",
       "        <directionalLight ambientIntensity=\"0\" intensity=\"1\"></directionalLight>\n",
       "      </scene>\n",
       "    </x3d>\n",
       "    <div id=\"menu\"><form id=\"menu-items\"><input type=\"radio\" id=\"button-options\" name=\"menu\" checked=\"\" />\n",
       "        <label for=\"button-options\">Options</label>\n",
       "        <input type=\"radio\" id=\"button-summary\" name=\"menu\" />\n",
       "        <label for=\"button-summary\" style=\"display: none;\">Summary</label>\n",
       "        <input type=\"radio\" id=\"button-color\" name=\"menu\" />\n",
       "        <label for=\"button-color\" style=\"display: none;\">Color</label>\n",
       "        <input type=\"radio\" id=\"button-warp\" name=\"menu\" />\n",
       "        <label for=\"button-warp\" style=\"display: none;\">Warp</label>\n",
       "        <input type=\"radio\" id=\"button-viewpoints\" name=\"menu\" />\n",
       "        <label for=\"button-viewpoints\" style=\"display: none;\">Viewpoints</label>\n",
       "      </form>\n",
       "      <div id=\"menu-content\"><div id=\"content-options\" for=\"button-options\"><span>Menu Options</span>\n",
       "          <br />\n",
       "          <form class=\"options\"><input type=\"checkbox\" id=\"select-summary\" />\n",
       "            <label for=\"select-summary\">Summary</label>\n",
       "          </form>\n",
       "          <br />\n",
       "          <form class=\"options\"><input type=\"checkbox\" id=\"select-color\" />\n",
       "            <label for=\"select-color\">Color</label>\n",
       "          </form>\n",
       "          <br />\n",
       "          <form class=\"options\"><input type=\"checkbox\" id=\"select-warp\" />\n",
       "            <label for=\"select-warp\">Warp</label>\n",
       "          </form>\n",
       "          <br />\n",
       "          <form class=\"options\"><input type=\"checkbox\" id=\"select-viewpoints\" />\n",
       "            <label for=\"select-viewpoints\">Viewpoints</label>\n",
       "          </form>\n",
       "        </div>\n",
       "        <div id=\"content-summary\" for=\"button-summary\" hidden=\"\">Number of vertices: 216<br />Number of cells: 750</div>\n",
       "        <div id=\"content-color\" for=\"button-color\" hidden=\"\"><form>\n",
       "            <input id=\"color-checkbox\" type=\"checkbox\" checked=\"\" />\n",
       "            <label for=\"color-checkbox\">Show Color</label>\n",
       "          </form>Current Color Map:<br />\n",
       "          <span id=\"min-color-value\"></span>\n",
       "          <span id=\"color-map\"></span>\n",
       "          <span id=\"max-color-value\"></span>\n",
       "        </div>\n",
       "        <div id=\"content-warp\" for=\"button-warp\" hidden=\"\"><form>\n",
       "            <input id=\"warp-checkbox\" type=\"checkbox\" />\n",
       "            <label for=\"warp-checkbox\">Warp By Scalar</label>\n",
       "            <br />\n",
       "            <input id=\"warp-slider\" type=\"range\" min=\"0\" max=\"5\" step=\"0.01\" value=\"1\" disabled=\"\" />\n",
       "            <br />\n",
       "            <label id=\"warp-slider-val\" for=\"warp-slider\">1</label>\n",
       "          </form>\n",
       "        </div>\n",
       "        <div id=\"content-viewpoints\" for=\"button-viewpoints\" hidden=\"\"><span>Viewpoint Options</span>\n",
       "          <br />\n",
       "          <button class=\"viewpoint\">front</button>\n",
       "          <button class=\"viewpoint\">back</button>\n",
       "          <button class=\"viewpoint\">left</button>\n",
       "          <br />\n",
       "          <button class=\"viewpoint\">right</button>\n",
       "          <button class=\"viewpoint\">top</button>\n",
       "          <button class=\"viewpoint\">bottom</button>\n",
       "        </div>\n",
       "      </div>\n",
       "    </div>\n",
       "  </body>\n",
       "</html>\n"
      ],
      "text/plain": [
       "<dolfin.cpp.generation.BoxMesh at 0x7f911d5b1678>"
      ]
     },
     "execution_count": 7,
     "metadata": {},
     "output_type": "execute_result"
    }
   ],
   "source": [
    "mesh_3d = BoxMesh(Point(0,0,0), Point(1,1,1), 5, 5, 5)\n",
    "mesh_3d"
   ]
  },
  {
   "cell_type": "code",
   "execution_count": 8,
   "metadata": {},
   "outputs": [],
   "source": [
    "# Save mesh in VTK format\n",
    "file = File(\"mesh_3d.pvd\");\n",
    "file << mesh_3d;"
   ]
  },
  {
   "cell_type": "markdown",
   "metadata": {},
   "source": [
    "Besides those simple geometries, we will use meshes created from medical images:"
   ]
  },
  {
   "cell_type": "code",
   "execution_count": 9,
   "metadata": {},
   "outputs": [
    {
     "data": {
      "text/plain": [
       "[<matplotlib.lines.Line2D at 0x7f91070c47b8>,\n",
       " <matplotlib.lines.Line2D at 0x7f911d59c3c8>]"
      ]
     },
     "execution_count": 9,
     "metadata": {},
     "output_type": "execute_result"
    },
    {
     "data": {
      "image/png": "[encoded data removed]",
      "text/plain": [
       "<Figure size 432x288 with 1 Axes>"
      ]
     },
     "metadata": {
      "needs_background": "light"
     },
     "output_type": "display_data"
    }
   ],
   "source": [
    "path_to_file = \"data/domain_brain_2d.h5\"\n",
    "# load mesh from HDF5\n",
    "mesh_brain_2d = Mesh()\n",
    "hdf = HDF5File(mesh_brain_2d.mpi_comm(),  path_to_file, \"r\")\n",
    "hdf.read(mesh_brain_2d, \"/mesh\", False)\n",
    "\n",
    "# plotting via ipython 3d rendering (slow)\n",
    "#mesh_brain_2d\n",
    "# or via matplotlib in 2d\n",
    "plot(mesh_brain_2d)"
   ]
  },
  {
   "cell_type": "markdown",
   "metadata": {},
   "source": [
    "A mesh can be devided into subdomains:"
   ]
  },
  {
   "cell_type": "code",
   "execution_count": 10,
   "metadata": {},
   "outputs": [
    {
     "data": {
      "text/plain": [
       "<matplotlib.collections.PolyCollection at 0x7f911d1f3c50>"
      ]
     },
     "execution_count": 10,
     "metadata": {},
     "output_type": "execute_result"
    },
    {
     "data": {
      "image/png": "[encoded data removed]",
      "text/plain": [
       "<Figure size 432x288 with 1 Axes>"
      ]
     },
     "metadata": {
      "needs_background": "light"
     },
     "output_type": "display_data"
    }
   ],
   "source": [
    "# we load the subdomains from the hdf file\n",
    "subdomains = MeshFunction(\"size_t\", mesh_brain_2d, mesh_brain_2d.geometry().dim())\n",
    "hdf.read(subdomains, \"/subdomains\")\n",
    "\n",
    "# and plot\n",
    "plot(subdomains)"
   ]
  },
  {
   "cell_type": "markdown",
   "metadata": {},
   "source": [
    "## Function Space"
   ]
  },
  {
   "cell_type": "markdown",
   "metadata": {},
   "source": [
    "The [`FunctionSpace`](https://fenicsproject.org/docs/dolfin/1.5.0/python/programmers-reference/functions/functionspace/FunctionSpace.html) class represents a finite element function space that defines basis functions (shape functions) over a discretized domain."
   ]
  },
  {
   "cell_type": "code",
   "execution_count": 11,
   "metadata": {},
   "outputs": [],
   "source": [
    "V = FunctionSpace(mesh_2d, \"Lagrange\", 1)"
   ]
  },
  {
   "cell_type": "markdown",
   "metadata": {},
   "source": [
    "A function space is linked to a particular element type:"
   ]
  },
  {
   "cell_type": "code",
   "execution_count": 12,
   "metadata": {},
   "outputs": [
    {
     "data": {
      "text/plain": [
       "\"FiniteElement('Lagrange', triangle, 1)\""
      ]
     },
     "execution_count": 12,
     "metadata": {},
     "output_type": "execute_result"
    }
   ],
   "source": [
    "ele = V.element()\n",
    "ele.signature()"
   ]
  },
  {
   "cell_type": "markdown",
   "metadata": {},
   "source": [
    "The number of degrees of freedoms of each finite element depends on the element 'family' (e.g. Lagrange), degree of the element, as well as geometric dimensionality of the domain and dimensionality of the field of interest."
   ]
  },
  {
   "cell_type": "code",
   "execution_count": 13,
   "metadata": {},
   "outputs": [
    {
     "name": "stdout",
     "output_type": "stream",
     "text": [
      "dofs:  [0, 1, 2, 3, 4, 5, 6, 7, 8, 9, 10, 11, 12, 13, 14, 15]\n",
      "dof coordinates: \n",
      " [[0.         0.        ]\n",
      " [0.         1.66666667]\n",
      " [1.66666667 1.66666667]]\n"
     ]
    }
   ],
   "source": [
    "cell = next(cells(mesh_2d))           # a cell from the mesh\n",
    "print(\"dofs: \",V.dofmap().dofs())     \n",
    "                                                                \n",
    "print(\"dof coordinates: \\n\",ele.tabulate_dof_coordinates(cell))  # dof coordinates for that cell  \n",
    "                          \n",
    "# change element type or degree"
   ]
  },
  {
   "cell_type": "markdown",
   "metadata": {},
   "source": [
    "A FunctionSpace over a mesh combines all finite elements of the domain:"
   ]
  },
  {
   "cell_type": "code",
   "execution_count": 14,
   "metadata": {},
   "outputs": [
    {
     "data": {
      "text/plain": [
       "array([[0.        , 5.        ],\n",
       "       [0.        , 3.33333333],\n",
       "       [1.66666667, 5.        ],\n",
       "       [0.        , 1.66666667],\n",
       "       [1.66666667, 3.33333333],\n",
       "       [3.33333333, 5.        ],\n",
       "       [0.        , 0.        ],\n",
       "       [1.66666667, 1.66666667],\n",
       "       [3.33333333, 3.33333333],\n",
       "       [5.        , 5.        ],\n",
       "       [1.66666667, 0.        ],\n",
       "       [3.33333333, 1.66666667],\n",
       "       [5.        , 3.33333333],\n",
       "       [3.33333333, 0.        ],\n",
       "       [5.        , 1.66666667],\n",
       "       [5.        , 0.        ]])"
      ]
     },
     "execution_count": 14,
     "metadata": {},
     "output_type": "execute_result"
    }
   ],
   "source": [
    "V.tabulate_dof_coordinates()"
   ]
  },
  {
   "cell_type": "markdown",
   "metadata": {},
   "source": [
    "The following function spaces exist:\n",
    "- `FunctionSpace` for scalar fields\n",
    "- `VectorFunctionSpace` for vector fields\n",
    "- `TensorFunctionSpace` for tensor fields"
   ]
  },
  {
   "cell_type": "code",
   "execution_count": 15,
   "metadata": {},
   "outputs": [
    {
     "data": {
      "text/plain": [
       "[0,\n",
       " 1,\n",
       " 2,\n",
       " 3,\n",
       " 4,\n",
       " 5,\n",
       " 6,\n",
       " 7,\n",
       " 8,\n",
       " 9,\n",
       " 10,\n",
       " 11,\n",
       " 12,\n",
       " 13,\n",
       " 14,\n",
       " 15,\n",
       " 16,\n",
       " 17,\n",
       " 18,\n",
       " 19,\n",
       " 20,\n",
       " 21,\n",
       " 22,\n",
       " 23,\n",
       " 24,\n",
       " 25,\n",
       " 26,\n",
       " 27,\n",
       " 28,\n",
       " 29,\n",
       " 30,\n",
       " 31]"
      ]
     },
     "execution_count": 15,
     "metadata": {},
     "output_type": "execute_result"
    }
   ],
   "source": [
    "U = VectorFunctionSpace(mesh_2d, \"Lagrange\", 1)\n",
    "U.dofmap().dofs()"
   ]
  },
  {
   "cell_type": "markdown",
   "metadata": {},
   "source": [
    "# Functions"
   ]
  },
  {
   "cell_type": "markdown",
   "metadata": {},
   "source": [
    "The [`Function`](https://fenicsproject.org/olddocs/dolfin/1.3.0/python/programmers-reference/cpp/function/Function.html) class represents a function in a finite element function space."
   ]
  },
  {
   "cell_type": "code",
   "execution_count": 16,
   "metadata": {},
   "outputs": [],
   "source": [
    "v = Function(V)"
   ]
  },
  {
   "cell_type": "markdown",
   "metadata": {},
   "source": [
    "Functions can be created from analytical [expressions](https://fenicsproject.org/docs/dolfin/1.5.0/python/programmers-reference/functions/expression/Expression.html), by [projection](https://fenicsproject.org/docs/dolfin/1.5.0/python/programmers-reference/fem/projection/project.html) into a function space."
   ]
  },
  {
   "cell_type": "code",
   "execution_count": 17,
   "metadata": {},
   "outputs": [],
   "source": [
    "scalar_field_expression = Expression(\"exp( - pow(x[0]-x0, 2) / pow(sigma_x, 2) - pow(x[1]-y0, 2) / pow(sigma_y, 2) )\", \n",
    "                                    x0=3, y0=3, sigma_x=1, sigma_y=1, \n",
    "                                    degree = 1)\n",
    "scalar_field_discrete = project(scalar_field_expression, V)"
   ]
  },
  {
   "cell_type": "markdown",
   "metadata": {},
   "source": [
    "Their values are defined at the integration points and interpolated at all other points according to the basis functions (elements family, degree) of their function space."
   ]
  },
  {
   "cell_type": "code",
   "execution_count": 18,
   "metadata": {},
   "outputs": [
    {
     "name": "stdout",
     "output_type": "stream",
     "text": [
      "Values at integration points: \n",
      " [1.52299797e-08 2.08579001e-05 1.10431945e-04 2.26032941e-06\n",
      " 2.08579001e-05 2.85655008e-02 1.51239760e-01 3.09558685e-03\n",
      " 1.10431945e-04 1.51239760e-01 8.00737403e-01 1.63895538e-02\n",
      " 2.26032941e-06 3.09558685e-03 1.63895538e-02 3.35462628e-04]\n",
      "Value at arbitrary point (1.232, 3.434):  0.10287732297498928\n"
     ]
    }
   ],
   "source": [
    "print(\"Values at integration points: \\n\",scalar_field_discrete.compute_vertex_values())\n",
    "\n",
    "print(\"Value at arbitrary point (1.232, 3.434): \", scalar_field_discrete(1.232, 3.434))"
   ]
  },
  {
   "cell_type": "code",
   "execution_count": 19,
   "metadata": {},
   "outputs": [
    {
     "data": {
      "text/plain": [
       "<matplotlib.tri.tricontour.TriContourSet at 0x7f90fb340a20>"
      ]
     },
     "execution_count": 19,
     "metadata": {},
     "output_type": "execute_result"
    },
    {
     "data": {
      "image/png": "[encoded data removed]",
      "text/plain": [
       "<Figure size 432x288 with 1 Axes>"
      ]
     },
     "metadata": {
      "needs_background": "light"
     },
     "output_type": "display_data"
    }
   ],
   "source": [
    "plot(scalar_field_discrete)"
   ]
  },
  {
   "cell_type": "markdown",
   "metadata": {},
   "source": [
    "Similar for Vector fields and tensor fields"
   ]
  },
  {
   "cell_type": "code",
   "execution_count": 20,
   "metadata": {},
   "outputs": [],
   "source": [
    "vector_field_expression = Expression( (\"cos(x[0])\", \"sin(x[0])\"), degree = 1)\n",
    "vector_field_discrete = project(vector_field_expression, U)"
   ]
  },
  {
   "cell_type": "code",
   "execution_count": 21,
   "metadata": {},
   "outputs": [
    {
     "data": {
      "text/plain": [
       "<matplotlib.quiver.Quiver at 0x7f90fb28fb38>"
      ]
     },
     "execution_count": 21,
     "metadata": {},
     "output_type": "execute_result"
    },
    {
     "data": {
      "image/png": "[encoded data removed]",
      "text/plain": [
       "<Figure size 432x288 with 1 Axes>"
      ]
     },
     "metadata": {
      "needs_background": "light"
     },
     "output_type": "display_data"
    }
   ],
   "source": [
    "plot(vector_field_discrete, wireframe=True)\n",
    "# for this to look prettier:\n",
    "# - define a domain centered around (0,0)\n",
    "# - increase the number of elements"
   ]
  },
  {
   "cell_type": "markdown",
   "metadata": {},
   "source": [
    "## Solving PDEs "
   ]
  },
  {
   "cell_type": "markdown",
   "metadata": {},
   "source": [
    "Above, we have explored the basic components that are needed to define and discretize functions over arbitrarily shaped domains.\n",
    "We are now going to see how to use these tools to solve partial differential equations with given boundary and initial conditions over these domains."
   ]
  },
  {
   "cell_type": "markdown",
   "metadata": {},
   "source": [
    "Consider a diffusion problem, such as the transport of heat in an isotropic homogeneous medium:\n",
    "\n",
    "$$\\frac{\\partial \\Theta}{\\partial t} = - \\alpha\\, \\nabla^2 \\Theta\\, ,$$\n",
    "where $\\Theta$ is the temperature and $\\alpha$ a real coefficient called (thermal) diffusivity.\n",
    "\n",
    "With \n",
    "- initial condition $\\Theta(x, t=0) = \\Theta_0$\n",
    "- flux boundary condition $\\frac{\\partial \\Theta}{\\partial n}$ given"
   ]
  },
  {
   "cell_type": "markdown",
   "metadata": {},
   "source": [
    "To solve this equation, we start by writing the weak form with test function $\\nu$:\n",
    "    \n",
    "\n",
    "$$\\int_\\Omega \\left( \\frac{\\partial \\Theta}{\\partial t}\\right )\\, \\nu\\, dV=  \\alpha\\, \\int_\\Omega \\left( \\nabla^2 \\Theta \\right)\\, \\nu\\, dV \\tag{1}$$ \n"
   ]
  },
  {
   "cell_type": "markdown",
   "metadata": {},
   "source": [
    "Using the chain rule theorem, the second term of above equation can be written as:\n",
    "\n",
    "\\begin{align}\n",
    " \\alpha\\int_\\Omega \\left( \\nabla^2 \\Theta \\right)\\, \\nu\\, dV  \n",
    "&= \\alpha \\int_{\\Omega} \\nabla \\cdot \\left( \\nu\\, \\nabla \\Theta \\right)\\, dV - \\alpha \\int_\\Omega \\left(\\nabla \\nu \\right) \\cdot \\left( \\nabla \\Theta \\right)\\, dV \n",
    "\\end{align}"
   ]
  },
  {
   "cell_type": "markdown",
   "metadata": {},
   "source": [
    "Applying the divergence theorem to the first term yields:\n",
    "\n",
    "\\begin{align}\n",
    "\\alpha \\int_{\\Omega} \\nabla \\cdot \\left( \\nu\\, \\nabla \\Theta \\right)\\, dV\n",
    "&= \\alpha \\int_{\\partial\\Omega} \\nu \\, \\left( \\nabla\\, \\Theta \\right) \\cdot \\mathbf{n} \\, dS \n",
    "\\end{align}"
   ]
  },
  {
   "cell_type": "markdown",
   "metadata": {},
   "source": [
    "Equation (1) now reads:\n",
    "\n",
    "\\begin{align}\n",
    "\\int_\\Omega \\left( \\frac{\\partial \\Theta}{\\partial t}\\right )\\, \\nu\\, dV= \\alpha \\int_{\\partial\\Omega} \\nu \\, \\left( \\nabla\\, \\Theta \\right) \\cdot \\mathbf{n} \\, dS - \\alpha \\int_\\Omega \\left(\\nabla \\nu \\right) \\cdot \\left( \\nabla \\Theta \\right)\\, dV \\tag{2}\n",
    "\\end{align}"
   ]
  },
  {
   "cell_type": "markdown",
   "metadata": {},
   "source": [
    "where $\\mathbf{n}$ is the outward facing unit vector on the domain boundary $\\partial\\Omega$. \n",
    "By construction $\\nu \\equiv 0$ on the parts of the boundary on which essential boundary conditions apply.\n",
    "\n",
    "Therefore, the boundary integral only yields non-zero values where natural boundary conditions are applied.\n",
    "These correspond to the von-Neuman boundary conditions that impose a value on the heatflux $q = \\alpha\\left(\\nabla \\Theta \\right)\\cdot\\mathbf{n}$. \n",
    "\n",
    "Separating terms that depend on $\\left(\\Theta,\\nu\\right)$ and  $\\left(\\nu\\right)$, respectively, yields:"
   ]
  },
  {
   "cell_type": "markdown",
   "metadata": {},
   "source": [
    "\\begin{align}\n",
    "\\int_\\Omega \\left( \\frac{\\partial \\Theta}{\\partial t}\\right )\\, \\nu\\, dV +  \\alpha \\int_\\Omega \\left(\\nabla \\nu \\right) \\cdot \\left( \\nabla \\Theta \\right)\\, dV= \\int_{\\Gamma_{vN}} \\nu \\, q \\, dS \\tag{3}\n",
    "\\end{align}"
   ]
  },
  {
   "cell_type": "markdown",
   "metadata": {},
   "source": [
    "We approximate the time derivative by a backward difference scheme:\n",
    "\n",
    "$$\\left(\\frac{\\partial \\Theta}{\\partial t}\\right)^{k+1} \\approx \\frac{\\Theta^{k+1} - \\Theta^{k}}{\\Delta t}$$\n",
    "\n",
    "Equation (3) then becomes:\n",
    "\n",
    "\\begin{align}\n",
    "\\int_\\Omega \\frac{\\Theta^{k+1} - \\Theta^{k}}{\\Delta t}\\, \\nu\\, dV +  \\alpha \\int_\\Omega \\left(\\nabla \\nu \\right) \\cdot \\left( \\nabla \\Theta^{k+1} \\right)\\, dV= \\int_{\\Gamma_{vN}} \\nu \\, q^{k+1} \\, dS\n",
    "\\end{align}\n",
    "\n",
    "Including the initial condition $\\Theta_0$ and separating terms that depend on the unkown $\\Theta^{k+1}$ yields:\n",
    "\n",
    "\\begin{align}\n",
    "\\Theta^0 &= \\Theta(t=0) = \\Theta_0 \\tag{4}\\\\\n",
    "\\int_\\Omega \\Theta^{k+1}\\, \\nu\\, dV +  \\Delta t \\, \\alpha \\int_\\Omega \\left(\\nabla \\nu \\right) \\cdot \\left( \\nabla \\Theta^{k+1} \\right)\\, dV &= \\Delta t\\, \\int_{\\Gamma_{vN}} \\nu \\, q^{k+1} \\, dS +  \\int_\\Omega \\Theta^{k} \\, \\nu \\, dV \\tag{5} \\\n",
    "\\end{align}"
   ]
  },
  {
   "cell_type": "markdown",
   "metadata": {},
   "source": [
    "To translate this into FEniCS, we first need to define a mesh, a function space over this mesh and suitable functions:"
   ]
  },
  {
   "cell_type": "code",
   "execution_count": 22,
   "metadata": {},
   "outputs": [],
   "source": [
    "# mesh & functionspace\n",
    "mesh = RectangleMesh(Point(-5,-5),Point(5,5), nx=10, ny=10)\n",
    "V = FunctionSpace(mesh, \"Lagrange\", 1)\n",
    "\n",
    "# functions\n",
    "T = TrialFunction(V) # temperature  (k+1)\n",
    "v = TestFunction(V)  # test function\n",
    "T_k= Function(V)     # temperature at previous time point (k)\n",
    "\n",
    "# other parameters\n",
    "q = Constant(0)     # assuming isolated boundaries, zero heatflux in/out of domain\n",
    "alpha = Constant(1) # arbitrary value for thermal diffusivity\n",
    "delta_t = 0.2\n"
   ]
  },
  {
   "cell_type": "markdown",
   "metadata": {},
   "source": [
    "This allows us to encode equation (5):"
   ]
  },
  {
   "cell_type": "code",
   "execution_count": 23,
   "metadata": {},
   "outputs": [],
   "source": [
    "a = T * v * dx + delta_t * alpha * inner(grad(v), grad(T)) * dx # a = a(T, v)\n",
    "L = delta_t * v * q * ds + T_k * v * dx                         # L = L(v)"
   ]
  },
  {
   "cell_type": "markdown",
   "metadata": {},
   "source": [
    "Additionally we need to specify initial and boundary conditions to find a unique solution to our problem."
   ]
  },
  {
   "cell_type": "code",
   "execution_count": 24,
   "metadata": {},
   "outputs": [],
   "source": [
    "# initial value\n",
    "T_0_expression = Expression(\"exp( - pow(x[0]-x0, 2) / pow(sigma_x, 2) - pow(x[1]-y0, 2) / pow(sigma_y, 2) )\", \n",
    "                                    x0=0, y0=0, sigma_x=5, sigma_y=5, \n",
    "                                    degree = 1)\n",
    "T_0 = project(T_0_expression, V)\n",
    "\n",
    "# Natural Boundary Conditions are encoded directly in the variational form\n",
    "# -> heatflux q\n",
    "\n",
    "# Essential boundary conditions can be specified separately:\n",
    "# def boundary(x, on_boundary):\n",
    "#     \"\"\"\n",
    "#     identifies boundary of the domain\n",
    "#     \"\"\"\n",
    "#     return on_boundary\n",
    "# bc = DirichletBC(V, u_D, boundary)\n"
   ]
  },
  {
   "cell_type": "markdown",
   "metadata": {},
   "source": [
    "We can now solve the time-dependent PDE:"
   ]
  },
  {
   "cell_type": "code",
   "execution_count": 25,
   "metadata": {},
   "outputs": [
    {
     "name": "stdout",
     "output_type": "stream",
     "text": [
      "Time step 00, t=0.00: T(0,0)=0.97\n",
      "Time step 01, t=0.20: T(0,0)=0.94\n",
      "Time step 02, t=0.40: T(0,0)=0.91\n",
      "Time step 03, t=0.60: T(0,0)=0.89\n",
      "Time step 04, t=0.80: T(0,0)=0.86\n",
      "Time step 05, t=1.00: T(0,0)=0.84\n",
      "Time step 06, t=1.20: T(0,0)=0.82\n",
      "Time step 07, t=1.40: T(0,0)=0.80\n",
      "Time step 08, t=1.60: T(0,0)=0.78\n",
      "Time step 09, t=1.80: T(0,0)=0.76\n"
     ]
    }
   ],
   "source": [
    "# Create VTK file for saving solution at each time step\n",
    "vtkfile = File('output/temp_diffusion.pvd')\n",
    "\n",
    "# Compute solution\n",
    "T = Function(V)\n",
    "T.rename(\"T\", \"Temperature\")\n",
    "t = 0\n",
    "T_k.assign(T_0)    # assign initial condition\n",
    "for k in range(10):\n",
    "    \n",
    "    # increment time\n",
    "    t = t + delta_t\n",
    "    \n",
    "    # solve linear variation problem\n",
    "    solve(a==L, T)\n",
    "    \n",
    "    # save to file\n",
    "    vtkfile << (T, t)\n",
    "    print(\"Time step %02d, t=%.2f: T(0,0)=%.2f\"%(k, k*delta_t, T(0,0)))\n",
    "    # update T_k with current solution\n",
    "    T_k.assign(T) "
   ]
  },
  {
   "cell_type": "code",
   "execution_count": 26,
   "metadata": {},
   "outputs": [
    {
     "name": "stdout",
     "output_type": "stream",
     "text": [
      "Temperature at center at t=0:     0.9999999999999999\n",
      "Temperature at center at t=1.80:  0.7612013861310724\n"
     ]
    },
    {
     "data": {
      "image/png": "[encoded data removed]",
      "text/plain": [
       "<Figure size 432x288 with 1 Axes>"
      ]
     },
     "metadata": {
      "needs_background": "light"
     },
     "output_type": "display_data"
    }
   ],
   "source": [
    "plot(T)\n",
    "print(\"Temperature at center at t=0:    \", T_0(0,0))\n",
    "print(\"Temperature at center at t=%.2f: \"%(k*delta_t), T(0,0))"
   ]
  },
  {
   "cell_type": "markdown",
   "metadata": {},
   "source": [
    "See this [tutorial](https://fenicsproject.org/pub/tutorial/html/._ftut1006.html) for a more extended version of this example."
   ]
  },
  {
   "cell_type": "markdown",
   "metadata": {
    "jupyter": {
     "outputs_hidden": false
    },
    "pycharm": {
     "name": "#%%\n"
    }
   },
   "source": [
    "The [`solve`](https://fenicsproject.org/olddocs/dolfin/1.3.0/python/programmers-reference/fem/solving/solve.html) command is a high-level call to solve a linear variation problem `a==L` or a linear system $Ax=b$.\n",
    "\n",
    "Alternative ways to call the solver for *linear* problems, including manual assembly of the linear system, are discussed in this [tutorial](https://fenicsproject.org/pub/tutorial/html/._ftut1018.html#___sec121).\n",
    "Solution of *non-linear* problems is briefly introduced [here](https://fenicsproject.org/pub/tutorial/html/._ftut1007.html#ftut1:gallery:nonlinearpoisson) and discussed in more detail [here](http://home.simula.no/~hpl/homepage/fenics-tutorial/release-1.0-nonabla/webm/nonlinear.html)."
   ]
  }
 ],
 "metadata": {
  "kernelspec": {
   "display_name": "Python 3",
   "language": "python",
   "name": "python3"
  },
  "language_info": {
   "codemirror_mode": {
    "name": "ipython",
    "version": 3
   },
   "file_extension": ".py",
   "mimetype": "text/x-python",
   "name": "python",
   "nbconvert_exporter": "python",
   "pygments_lexer": "ipython3",
   "version": "3.7.3"
  },
  "pycharm": {
   "stem_cell": {
    "cell_type": "raw",
    "metadata": {
     "collapsed": false
    },
    "source": []
   }
  }
 },
 "nbformat": 4,
 "nbformat_minor": 4
}
