{
 "cells": [
  {
   "cell_type": "code",
   "execution_count": null,
   "metadata": {},
   "outputs": [],
   "source": [
    "# IPython magic to import matplotlib and plot inline\n",
    "%matplotlib inline"
   ]
  },
  {
   "cell_type": "markdown",
   "metadata": {
    "pycharm": {
     "name": "#%% md\n"
    }
   },
   "source": [
    "# Introduction to FEniCS"
   ]
  },
  {
   "cell_type": "markdown",
   "metadata": {},
   "source": [
    "[FEniCS](https://fenicsproject.org/) is a open-source computing platform for solving partial differential equations (PDEs). \n",
    "The FEniCS Project consists of a number of components with DOLFIN and UFL providing the main user interface. For Detailed documentation of the FEniCS programming interface and its components, see the links on https://fenics.readthedocs.io/en/latest/.\n",
    "\n",
    "\n",
    "[The FEniCS Book](https://link.springer.com/book/10.1007%2F978-3-642-23099-8) provides an overview of the finite element method, its implementation in FEniCS and application examples.\n",
    "[The FEniCS Tutorial](https://fenicsproject.org/tutorial/) is a collection of example problems for learning FEniCS 'by examples'. \n",
    "Source code for the examples used this book can be found [here](https://github.com/hplgit/fenics-tutorial/tree/master/src/vol1/python).\n",
    "Other examples can be found in the [DOLFIN documentation](https://fenicsproject.org/docs/dolfin/latest/python/demos.html).\n",
    "\n",
    "Be aware that FEniCS is under development and unfortunately some class and function names of the current version may differ from those in the tutorials...\n",
    "\n",
    "This notebook assumes FEniCS/Dolfin version `2019.1.0`. \n",
    "\n",
    "You are running this notebook with version:"
   ]
  },
  {
   "cell_type": "code",
   "execution_count": null,
   "metadata": {},
   "outputs": [],
   "source": [
    "from dolfin import __version__ as dolfin_version\n",
    "print(\"Your Dolfin version: \", dolfin_version)"
   ]
  },
  {
   "cell_type": "markdown",
   "metadata": {},
   "source": [
    "## Getting Started"
   ]
  },
  {
   "cell_type": "markdown",
   "metadata": {},
   "source": [
    "- Follow the instructions in the *README.md* file in this repository to set up a running fenics installation.\n",
    "- Skim read section 1 of [The FEniCS Tutorial](https://fenicsproject.org/pub/tutorial/html/._ftut1003.html#ch:prelim)\n",
    "- Work through this notebook. This will give you a quick overview of the basic building blocks of any FEniCS program, and introduce an example how PDE problems can be solved in FEniCS. \n",
    "- Then, read and follow the examples of section 2 in [The FEniCS Tutorial](https://fenicsproject.org/pub/tutorial/html/._ftut1004.html#ch:fundamentals). You will already be familiar with many of the concepts, but they will be explained in more detail.\n",
    "\n",
    "After this, you are ready to explore any of the other examples in the tutorial.\n",
    "Particularly relevant for your projects are:\n",
    "- [Linear Elasticity](https://fenicsproject.org/pub/tutorial/html/._ftut1008.html#ftut:elast) example in the tutorial.\n",
    "- [Hyperelasticity](https://fenicsproject.org/docs/dolfin/1.4.0/python/demo/documented/hyperelasticity/python/documentation.html) from the Dolfin reference. Note that this code is based on an outdated version of Dolfing/FEniCS, so a few adapatations will be necessary to make it run.\n",
    "\n",
    "\n"
   ]
  },
  {
   "cell_type": "markdown",
   "metadata": {},
   "source": [
    "## Importing FEniCS libraries"
   ]
  },
  {
   "cell_type": "code",
   "execution_count": null,
   "metadata": {},
   "outputs": [],
   "source": [
    "from fenics import *"
   ]
  },
  {
   "cell_type": "markdown",
   "metadata": {},
   "source": [
    "## Mesh Creation"
   ]
  },
  {
   "cell_type": "markdown",
   "metadata": {},
   "source": [
    "FEniCS provides various [built-in meshes](https://fenicsproject.org/docs/dolfin/latest/python/demos/built-in-meshes/demo_built-in-meshes.py.html) for simple standard geometries.\n",
    "Meshes for more complex geometries can be generated via [fenics-mshr](https://fenics.readthedocs.io/projects/mshr/en/latest/) / [CGAL](https://www.cgal.org)."
   ]
  },
  {
   "cell_type": "code",
   "execution_count": null,
   "metadata": {},
   "outputs": [],
   "source": [
    "mesh_2d = RectangleMesh(Point(0,0),Point(5,5), nx=3, ny=3)\n",
    "# plotting via ipython 3d rendering \n",
    "mesh_2d\n",
    "# or via matplotlib in 2d\n",
    "#plot(mesh_2d)"
   ]
  },
  {
   "cell_type": "markdown",
   "metadata": {},
   "source": [
    "A mesh consists of various 'entities' as detailed [here](https://fenicsproject.org/docs/dolfin/1.5.0/python/programmers-reference/cpp/mesh/Mesh.html)."
   ]
  },
  {
   "cell_type": "code",
   "execution_count": null,
   "metadata": {},
   "outputs": [],
   "source": [
    "print(\"Number of cells:    \", mesh_2d.num_cells())\n",
    "print(\"Number of faces:    \", mesh_2d.num_faces())\n",
    "print(\"Number of edges:    \", mesh_2d.num_edges())\n",
    "print(\"Number of vertices: \", mesh_2d.num_vertices())\n",
    "\n",
    "print(\"Coordinates: \\n\", mesh_2d.coordinates())"
   ]
  },
  {
   "cell_type": "code",
   "execution_count": null,
   "metadata": {},
   "outputs": [],
   "source": [
    "for cell in cells(mesh_2d):\n",
    "    print(\"-cell\", cell.index(), \"has faces :\", cell.entities(2)) # cell and faces are identical in 2d\n",
    "                                                                  # try this on a 3d mesh  \n",
    "    for face in faces(cell):\n",
    "        print(\" -face\", face.index(), \"has edges :\", face.entities(1)) \n",
    "        for edge in edges(face):\n",
    "            print(\"  -edge\", edge.index(), \"has vertices :\", edge.entities(0)) "
   ]
  },
  {
   "cell_type": "code",
   "execution_count": null,
   "metadata": {},
   "outputs": [],
   "source": [
    "mesh_3d = BoxMesh(Point(0,0,0), Point(1,1,1), 5, 5, 5)\n",
    "mesh_3d"
   ]
  },
  {
   "cell_type": "code",
   "execution_count": null,
   "metadata": {},
   "outputs": [],
   "source": [
    "# Save mesh in VTK format\n",
    "file = File(\"mesh_3d.pvd\");\n",
    "file << mesh_3d;"
   ]
  },
  {
   "cell_type": "markdown",
   "metadata": {},
   "source": [
    "Besides those simple geometries, we will use meshes created from medical images:"
   ]
  },
  {
   "cell_type": "code",
   "execution_count": null,
   "metadata": {},
   "outputs": [],
   "source": [
    "path_to_file = \"../data/domain_brain_2d.h5\"\n",
    "# load mesh from HDF5\n",
    "mesh_brain_2d = Mesh()\n",
    "hdf = HDF5File(mesh_brain_2d.mpi_comm(),  path_to_file, \"r\")\n",
    "hdf.read(mesh_brain_2d, \"/mesh\", False)\n",
    "\n",
    "# plotting via ipython 3d rendering (slow)\n",
    "#mesh_brain_2d\n",
    "# or via matplotlib in 2d\n",
    "plot(mesh_brain_2d)"
   ]
  },
  {
   "cell_type": "markdown",
   "metadata": {},
   "source": [
    "A mesh can be devided into subdomains:"
   ]
  },
  {
   "cell_type": "code",
   "execution_count": null,
   "metadata": {},
   "outputs": [],
   "source": [
    "# we load the subdomains from the hdf file\n",
    "subdomains = MeshFunction(\"size_t\", mesh_brain_2d, mesh_brain_2d.geometry().dim())\n",
    "hdf.read(subdomains, \"/subdomains\")\n",
    "\n",
    "# and plot\n",
    "plot(subdomains)"
   ]
  },
  {
   "cell_type": "markdown",
   "metadata": {},
   "source": [
    "## Function Space"
   ]
  },
  {
   "cell_type": "markdown",
   "metadata": {},
   "source": [
    "The [`FunctionSpace`](https://fenicsproject.org/docs/dolfin/1.5.0/python/programmers-reference/functions/functionspace/FunctionSpace.html) class represents a finite element function space that defines basis functions (shape functions) over a discretized domain."
   ]
  },
  {
   "cell_type": "code",
   "execution_count": null,
   "metadata": {},
   "outputs": [],
   "source": [
    "V = FunctionSpace(mesh_2d, \"Lagrange\", 1)"
   ]
  },
  {
   "cell_type": "markdown",
   "metadata": {},
   "source": [
    "A function space is linked to a particular element type:"
   ]
  },
  {
   "cell_type": "code",
   "execution_count": null,
   "metadata": {},
   "outputs": [],
   "source": [
    "ele = V.element()\n",
    "ele.signature()"
   ]
  },
  {
   "cell_type": "markdown",
   "metadata": {},
   "source": [
    "The number of degrees of freedoms of each finite element depends on the element 'family' (e.g. Lagrange), degree of the element, as well as geometric dimensionality of the domain and dimensionality of the field of interest."
   ]
  },
  {
   "cell_type": "code",
   "execution_count": null,
   "metadata": {},
   "outputs": [],
   "source": [
    "cell = next(cells(mesh_2d))           # a cell from the mesh\n",
    "print(\"dofs: \",V.dofmap().dofs())     \n",
    "                                                                \n",
    "print(\"dof coordinates: \\n\",ele.tabulate_dof_coordinates(cell))  # dof coordinates for that cell  \n",
    "                          \n",
    "# change element type or degree"
   ]
  },
  {
   "cell_type": "markdown",
   "metadata": {},
   "source": [
    "A FunctionSpace over a mesh combines all finite elements of the domain:"
   ]
  },
  {
   "cell_type": "code",
   "execution_count": null,
   "metadata": {},
   "outputs": [],
   "source": [
    "V.tabulate_dof_coordinates()"
   ]
  },
  {
   "cell_type": "markdown",
   "metadata": {},
   "source": [
    "The following function spaces exist:\n",
    "- `FunctionSpace` for scalar fields\n",
    "- `VectorFunctionSpace` for vector fields\n",
    "- `TensorFunctionSpace` for tensor fields"
   ]
  },
  {
   "cell_type": "code",
   "execution_count": null,
   "metadata": {},
   "outputs": [],
   "source": [
    "U = VectorFunctionSpace(mesh_2d, \"Lagrange\", 1)\n",
    "U.dofmap().dofs()"
   ]
  },
  {
   "cell_type": "markdown",
   "metadata": {},
   "source": [
    "# Functions"
   ]
  },
  {
   "cell_type": "markdown",
   "metadata": {},
   "source": [
    "The [`Function`](https://fenicsproject.org/olddocs/dolfin/1.3.0/python/programmers-reference/cpp/function/Function.html) class represents a function in a finite element function space."
   ]
  },
  {
   "cell_type": "code",
   "execution_count": null,
   "metadata": {},
   "outputs": [],
   "source": [
    "v = Function(V)"
   ]
  },
  {
   "cell_type": "markdown",
   "metadata": {},
   "source": [
    "Functions can be created from analytical [expressions](https://fenicsproject.org/docs/dolfin/1.5.0/python/programmers-reference/functions/expression/Expression.html), by [projection](https://fenicsproject.org/docs/dolfin/1.5.0/python/programmers-reference/fem/projection/project.html) into a function space."
   ]
  },
  {
   "cell_type": "code",
   "execution_count": null,
   "metadata": {},
   "outputs": [],
   "source": [
    "scalar_field_expression = Expression(\"exp( - pow(x[0]-x0, 2) / pow(sigma_x, 2) - pow(x[1]-y0, 2) / pow(sigma_y, 2) )\", \n",
    "                                    x0=3, y0=3, sigma_x=1, sigma_y=1, \n",
    "                                    degree = 1)\n",
    "scalar_field_discrete = project(scalar_field_expression, V)"
   ]
  },
  {
   "cell_type": "markdown",
   "metadata": {},
   "source": [
    "Their values are defined at the integration points and interpolated at all other points according to the basis functions (elements family, degree) of their function space."
   ]
  },
  {
   "cell_type": "code",
   "execution_count": null,
   "metadata": {},
   "outputs": [],
   "source": [
    "print(\"Values at integration points: \\n\",scalar_field_discrete.compute_vertex_values())\n",
    "\n",
    "print(\"Value at arbitrary point (1.232, 3.434): \", scalar_field_discrete(1.232, 3.434))"
   ]
  },
  {
   "cell_type": "code",
   "execution_count": null,
   "metadata": {},
   "outputs": [],
   "source": [
    "plot(scalar_field_discrete)"
   ]
  },
  {
   "cell_type": "markdown",
   "metadata": {},
   "source": [
    "Similar for Vector fields and tensor fields"
   ]
  },
  {
   "cell_type": "code",
   "execution_count": null,
   "metadata": {},
   "outputs": [],
   "source": [
    "vector_field_expression = Expression( (\"cos(x[0])\", \"sin(x[0])\"), degree = 1)\n",
    "vector_field_discrete = project(vector_field_expression, U)"
   ]
  },
  {
   "cell_type": "code",
   "execution_count": null,
   "metadata": {},
   "outputs": [],
   "source": [
    "plot(vector_field_discrete, wireframe=True)\n",
    "# for this to look prettier:\n",
    "# - define a domain centered around (0,0)\n",
    "# - increase the number of elements"
   ]
  },
  {
   "cell_type": "markdown",
   "metadata": {},
   "source": [
    "## Solving PDEs "
   ]
  },
  {
   "cell_type": "markdown",
   "metadata": {},
   "source": [
    "Above, we have explored the basic components that are needed to define and discretize functions over arbitrarily shaped domains.\n",
    "We are now going to see how to use these tools to solve partial differential equations with given boundary and initial conditions over these domains."
   ]
  },
  {
   "cell_type": "markdown",
   "metadata": {},
   "source": [
    "Consider a diffusion problem, such as the transport of heat in an isotropic homogeneous medium:\n",
    "\n",
    "$$\\frac{\\partial \\Theta}{\\partial t} = - \\alpha\\, \\nabla^2 \\Theta\\, ,$$\n",
    "where $\\Theta$ is the temperature and $\\alpha$ a real coefficient called (thermal) diffusivity.\n",
    "\n",
    "With \n",
    "- initial condition $\\Theta(x, t=0) = \\Theta_0$\n",
    "- flux boundary condition $\\frac{\\partial \\Theta}{\\partial n}$ given"
   ]
  },
  {
   "cell_type": "markdown",
   "metadata": {},
   "source": [
    "To solve this equation, we start by writing the weak form with test function $\\nu$:\n",
    "    \n",
    "\n",
    "$$\\int_\\Omega \\left( \\frac{\\partial \\Theta}{\\partial t}\\right )\\, \\nu\\, dV=  \\alpha\\, \\int_\\Omega \\left( \\nabla^2 \\Theta \\right)\\, \\nu\\, dV \\tag{1}$$ \n"
   ]
  },
  {
   "cell_type": "markdown",
   "metadata": {},
   "source": [
    "Using the chain rule theorem, the second term of above equation can be written as:\n",
    "\n",
    "\\begin{align}\n",
    " \\alpha\\int_\\Omega \\left( \\nabla^2 \\Theta \\right)\\, \\nu\\, dV  \n",
    "&= \\alpha \\int_{\\Omega} \\nabla \\cdot \\left( \\nu\\, \\nabla \\Theta \\right)\\, dV - \\alpha \\int_\\Omega \\left(\\nabla \\nu \\right) \\cdot \\left( \\nabla \\Theta \\right)\\, dV \n",
    "\\end{align}"
   ]
  },
  {
   "cell_type": "markdown",
   "metadata": {},
   "source": [
    "Applying the divergence theorem to the first term yields:\n",
    "\n",
    "\\begin{align}\n",
    "\\alpha \\int_{\\Omega} \\nabla \\cdot \\left( \\nu\\, \\nabla \\Theta \\right)\\, dV\n",
    "&= \\alpha \\int_{\\partial\\Omega} \\nu \\, \\left( \\nabla\\, \\Theta \\right) \\cdot \\mathbf{n} \\, dS \n",
    "\\end{align}"
   ]
  },
  {
   "cell_type": "markdown",
   "metadata": {},
   "source": [
    "Equation (1) now reads:\n",
    "\n",
    "\\begin{align}\n",
    "\\int_\\Omega \\left( \\frac{\\partial \\Theta}{\\partial t}\\right )\\, \\nu\\, dV= \\alpha \\int_{\\partial\\Omega} \\nu \\, \\left( \\nabla\\, \\Theta \\right) \\cdot \\mathbf{n} \\, dS - \\alpha \\int_\\Omega \\left(\\nabla \\nu \\right) \\cdot \\left( \\nabla \\Theta \\right)\\, dV \\tag{2}\n",
    "\\end{align}"
   ]
  },
  {
   "cell_type": "markdown",
   "metadata": {},
   "source": [
    "where $\\mathbf{n}$ is the outward facing unit vector on the domain boundary $\\partial\\Omega$. \n",
    "By construction $\\nu \\equiv 0$ on the parts of the boundary on which essential boundary conditions apply.\n",
    "\n",
    "Therefore, the boundary integral only yields non-zero values where natural boundary conditions are applied.\n",
    "These correspond to the von-Neuman boundary conditions that impose a value on the heatflux $q = \\alpha\\left(\\nabla \\Theta \\right)\\cdot\\mathbf{n}$. \n",
    "\n",
    "Separating terms that depend on $\\left(\\Theta,\\nu\\right)$ and  $\\left(\\nu\\right)$, respectively, yields:"
   ]
  },
  {
   "cell_type": "markdown",
   "metadata": {},
   "source": [
    "\\begin{align}\n",
    "\\int_\\Omega \\left( \\frac{\\partial \\Theta}{\\partial t}\\right )\\, \\nu\\, dV +  \\alpha \\int_\\Omega \\left(\\nabla \\nu \\right) \\cdot \\left( \\nabla \\Theta \\right)\\, dV= \\int_{\\Gamma_{vN}} \\nu \\, q \\, dS \\tag{3}\n",
    "\\end{align}"
   ]
  },
  {
   "cell_type": "markdown",
   "metadata": {},
   "source": [
    "We approximate the time derivative by a backward difference scheme:\n",
    "\n",
    "$$\\left(\\frac{\\partial \\Theta}{\\partial t}\\right)^{k+1} \\approx \\frac{\\Theta^{k+1} - \\Theta^{k}}{\\Delta t}$$\n",
    "\n",
    "Equation (3) then becomes:\n",
    "\n",
    "\\begin{align}\n",
    "\\int_\\Omega \\frac{\\Theta^{k+1} - \\Theta^{k}}{\\Delta t}\\, \\nu\\, dV +  \\alpha \\int_\\Omega \\left(\\nabla \\nu \\right) \\cdot \\left( \\nabla \\Theta^{k+1} \\right)\\, dV= \\int_{\\Gamma_{vN}} \\nu \\, q^{k+1} \\, dS\n",
    "\\end{align}\n",
    "\n",
    "Including the initial condition $\\Theta_0$ and separating terms that depend on the unkown $\\Theta^{k+1}$ yields:\n",
    "\n",
    "\\begin{align}\n",
    "\\Theta^0 &= \\Theta(t=0) = \\Theta_0 \\tag{4}\\\\\n",
    "\\int_\\Omega \\Theta^{k+1}\\, \\nu\\, dV +  \\Delta t \\, \\alpha \\int_\\Omega \\left(\\nabla \\nu \\right) \\cdot \\left( \\nabla \\Theta^{k+1} \\right)\\, dV &= \\Delta t\\, \\int_{\\Gamma_{vN}} \\nu \\, q^{k+1} \\, dS +  \\int_\\Omega \\Theta^{k} \\, \\nu \\, dV \\tag{5} \\\n",
    "\\end{align}"
   ]
  },
  {
   "cell_type": "markdown",
   "metadata": {},
   "source": [
    "To translate this into FEniCS, we first need to define a mesh, a function space over this mesh and suitable functions:"
   ]
  },
  {
   "cell_type": "code",
   "execution_count": null,
   "metadata": {},
   "outputs": [],
   "source": [
    "# mesh & functionspace\n",
    "mesh = RectangleMesh(Point(-5,-5),Point(5,5), nx=10, ny=10)\n",
    "V = FunctionSpace(mesh, \"Lagrange\", 1)\n",
    "\n",
    "# functions\n",
    "T = TrialFunction(V) # temperature  (k+1)\n",
    "v = TestFunction(V)  # test function\n",
    "T_k= Function(V)     # temperature at previous time point (k)\n",
    "\n",
    "# other parameters\n",
    "q = Constant(0)     # assuming isolated boundaries, zero heatflux in/out of domain\n",
    "alpha = Constant(1) # arbitrary value for thermal diffusivity\n",
    "delta_t = 0.2\n"
   ]
  },
  {
   "cell_type": "markdown",
   "metadata": {},
   "source": [
    "This allows us to encode equation (5):"
   ]
  },
  {
   "cell_type": "code",
   "execution_count": null,
   "metadata": {},
   "outputs": [],
   "source": [
    "LHS = T * v * dx + delta_t * alpha * inner(grad(v), grad(T)) * dx\n",
    "RHS = delta_t * v * q * ds + T_k * v * dx"
   ]
  },
  {
   "cell_type": "markdown",
   "metadata": {},
   "source": [
    "Additionally we need to specify initial and boundary conditions to find a unique solution to our problem."
   ]
  },
  {
   "cell_type": "code",
   "execution_count": null,
   "metadata": {},
   "outputs": [],
   "source": [
    "# initial value\n",
    "T_0_expression = Expression(\"exp( - pow(x[0]-x0, 2) / pow(sigma_x, 2) - pow(x[1]-y0, 2) / pow(sigma_y, 2) )\", \n",
    "                                    x0=0, y0=0, sigma_x=5, sigma_y=5, \n",
    "                                    degree = 1)\n",
    "T_0 = project(T_0_expression, V)\n",
    "\n",
    "# Natural Boundary Conditions are encoded directly in the variational form\n",
    "# -> heatflux q\n",
    "\n",
    "# Essential boundary conditions can be specified separately:\n",
    "# def boundary(x, on_boundary):\n",
    "#     \"\"\"\n",
    "#     identifies boundary of the domain\n",
    "#     \"\"\"\n",
    "#     return on_boundary\n",
    "# bc = DirichletBC(V, u_D, boundary)\n"
   ]
  },
  {
   "cell_type": "markdown",
   "metadata": {},
   "source": [
    "We can now solve the time-dependent PDE:"
   ]
  },
  {
   "cell_type": "code",
   "execution_count": null,
   "metadata": {},
   "outputs": [],
   "source": [
    "# Create VTK file for saving solution at each time step\n",
    "vtkfile = File('output/temp_diffusion.pvd')\n",
    "\n",
    "# Compute solution\n",
    "T = Function(V)\n",
    "T.rename(\"T\", \"Temperature\")\n",
    "t = 0\n",
    "T_k.assign(T_0)    # assign initial condition\n",
    "for k in range(10):\n",
    "    \n",
    "    # increment time\n",
    "    t = t + delta_t\n",
    "    \n",
    "    # solve variation problem\n",
    "    solve(LHS==RHS, T)\n",
    "    \n",
    "    # save to file\n",
    "    vtkfile << (T, t)\n",
    "    print(\"Time step %02d, t=%.2f: T(0,0)=%.2f\"%(k, k*delta_t, T(0,0)))\n",
    "    # update T_k\n",
    "    T_k.assign(T) "
   ]
  },
  {
   "cell_type": "code",
   "execution_count": null,
   "metadata": {},
   "outputs": [],
   "source": [
    "plot(T)\n",
    "print(\"Temperature at center at t=0:    \", T_0(0,0))\n",
    "print(\"Temperature at center at t=%.2f: \"%(k*delta_t), T(0,0))\n"
   ]
  },
  {
   "cell_type": "markdown",
   "metadata": {},
   "source": [
    "See this [tutorial](https://fenicsproject.org/pub/tutorial/html/._ftut1006.html) for a more extended version of this example."
   ]
  }
 ],
 "metadata": {
  "kernelspec": {
   "display_name": "Python 3",
   "language": "python",
   "name": "python3"
  },
  "language_info": {
   "codemirror_mode": {
    "name": "ipython",
    "version": 3
   },
   "file_extension": ".py",
   "mimetype": "text/x-python",
   "name": "python",
   "nbconvert_exporter": "python",
   "pygments_lexer": "ipython3",
   "version": "3.7.3"
  },
  "pycharm": {
   "stem_cell": {
    "cell_type": "raw",
    "metadata": {
     "collapsed": false
    },
    "source": []
   }
  }
 },
 "nbformat": 4,
 "nbformat_minor": 4
}
