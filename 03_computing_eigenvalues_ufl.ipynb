{
 "cells": [
  {
   "cell_type": "code",
   "execution_count": null,
   "metadata": {},
   "outputs": [],
   "source": [
    "# IPython magic to import matplotlib and plot inline\n",
    "%matplotlib inline"
   ]
  },
  {
   "cell_type": "code",
   "execution_count": null,
   "metadata": {},
   "outputs": [],
   "source": [
    "# Path settings\n",
    "import os\n",
    "# we use a relative path here, you can also specify an absolute path for your system\n",
    "out_path = \"output/03_eigenvalues\"\n",
    "os.makedirs(out_path, exist_ok=True)"
   ]
  },
  {
   "cell_type": "markdown",
   "metadata": {},
   "source": [
    "# Computing Eigenvalues in UFL\n",
    "\n",
    "As discussed [here](https://fenicsproject.org/qa/12281/eigenvalues-eigenvectors-stress-strain-tensor-element-level/), [UFL](https://fenics.readthedocs.io/projects/ufl/en/latest/) does not provide operators fof computing Eigenvalues.\n",
    "However, in order to formulate e.g. strain-energy potentials in function of the stretch ratios $\\lambda_i$, UFL compatible expressions are required, not a numerical solution. \n",
    "\n",
    "The Eigenvalue problem can be solved by finding the roots of the characteristic polynomial. \n",
    "Here we look at a general solution for 2x2 matrices and a solution for symmetric, positive definite 3x3 matrices."
   ]
  },
  {
   "cell_type": "markdown",
   "metadata": {},
   "source": [
    "## 2x2 matrices\n",
    "\n",
    "For 2x2 matrices, finding the roots corresponds to solving the quadratic equation. \n",
    "This solution is taken from [here](https://fenicsproject.org/qa/12281/eigenvalues-eigenvectors-stress-strain-tensor-element-level/).\n"
   ]
  },
  {
   "cell_type": "code",
   "execution_count": null,
   "metadata": {},
   "outputs": [],
   "source": [
    "import fenics as fe\n",
    "import sympy as sp\n",
    "import ufl\n",
    "\n",
    "\n",
    "mesh = fe.UnitSquareMesh(1, 1)\n",
    "V = fe.VectorFunctionSpace(mesh, 'CG', 2)\n",
    "u = fe.interpolate(fe.Expression(('x[0]', 'x[0]*x[1]'), degree=2), V)\n",
    "\n",
    "F = fe.Identity(2) + fe.grad(u)\n",
    "C = F*F.T\n",
    "\n",
    "# Eigenvalues are roots of characteristic polynomial\n",
    "# e**2 - tr(A)*e + det(A) = 0\n",
    "def eig_plus(A): \n",
    "    return (fe.tr(A) + fe.sqrt(fe.tr(A)**2-4*fe.det(A)))/2\n",
    "def eig_minus(A): \n",
    "    return (fe.tr(A) - fe.sqrt(fe.tr(A)**2-4*fe.det(A)))/2\n",
    "\n",
    "def eig_vecmat_(A):\n",
    "    lambdap = eig_plus(A)\n",
    "    lambdan = eig_minus(A)\n",
    "    a = A[0,0]\n",
    "    b = A[0,1]\n",
    "    c = A[1,0]\n",
    "    d = A[1,1]\n",
    "    if c != 0:\n",
    "       Eigvecmat = [[lambdap-d,lambdan-d],[c,c]]\n",
    "    elif b != 0:\n",
    "         Eigvecmat = [[b,b],[lambdap-a,lambdan-a]]\n",
    "    elif b == 0 & c == 0:\n",
    "         Eigvecmat = [[1,0],[0,1]]    \n",
    "    return Eigvecmat\n",
    "\n",
    "\n",
    "def eig_vecmat(A):\n",
    "    lambdap = eig_plus(A)\n",
    "    lambdan = eig_minus(A)\n",
    "    a = A[0,0]\n",
    "    b = A[0,1]\n",
    "    c = A[1,0]\n",
    "    d = A[1,1]\n",
    "\n",
    "    return fe.conditional(ufl.ne(c, 0),\n",
    "                       fe.as_matrix(((lambdap-d,lambdan-d), (c,c))),\n",
    "                       fe.conditional(ufl.ne(b, 0),\n",
    "                                   fe.as_matrix(((b,b), (lambdap-a,lambdan-a))),\n",
    "                                   fe.Identity(2)))\n",
    "\n",
    "# Check\n",
    "S = fe.FunctionSpace(mesh, 'CG', 2)\n",
    "T = fe.TensorFunctionSpace(mesh, 'CG', 2)\n",
    "f0 = fe.project(eig_vecmat(C),T) \n",
    "fe.plot(f0[0,1])  "
   ]
  },
  {
   "cell_type": "markdown",
   "metadata": {},
   "source": [
    "## 3x3 matrices\n",
    "\n",
    "Finding a solution for general 3x3 matrices is procedure is more complicated.\n",
    "\n",
    "We could for example derive the analytic expression for the eigenvales using [sympy](https://www.sympy.org/en/index.html) and 'translate' into UFL, as outlined [here](https://fenicsproject.org/qa/13600/possible-perform-spectral-decomposition-current-operators/) for the case of 2x2 matrices. \n",
    "However, for general 3x3 matrices, these expressions contain complex numbers, which UFL is not able to deal with.\n",
    "\n",
    "Here we propose a solution for symmetric, positive definite 3x3 matrices based on [this paper](https://pdfs.semanticscholar.org/8ab1/9ef9ad8f770a85c6283fc37ed6d11ae0eaae.pdf).\n",
    "\n"
   ]
  },
  {
   "cell_type": "markdown",
   "metadata": {},
   "source": [
    "### UFL compatible implementation"
   ]
  },
  {
   "cell_type": "code",
   "execution_count": null,
   "metadata": {},
   "outputs": [],
   "source": [
    "import numpy as np\n",
    "import fenics as fe\n",
    "# computes Eigenvalues of 3D positive definite symmetric matrix\n",
    "\n",
    "# Invariants \n",
    "def I1(T):\n",
    "    return fe.tr(T)\n",
    "\n",
    "def I2(T):\n",
    "    t1 = T[0,0]*T[1,1] + T[0,0]*T[2,2] + T[1,1]*T[2,2]\n",
    "    t2 = T[0,1]*T[0,1] + T[0,2]*T[0,2] + T[1,2]*T[1,2]\n",
    "    return t1 - t2\n",
    "\n",
    "def I3(T):\n",
    "    return fe.det(T)\n",
    "\n",
    "def v(T):\n",
    "    return (I1(T)/3.)**2 - I2(T)/3.\n",
    "\n",
    "def s(T):\n",
    "    return (I1(T)/3.)**3 - I1(T)*I2(T)/6. + I3(T)/2.\n",
    "\n",
    "def phi(T):\n",
    "    arg = s(T)/v(T)*fe.sqrt(1./v(T))\n",
    "    # numerical issues if arg~0 -> https://fenicsproject.org/qa/12299/nan-values-when-computing-arccos-1-0-bug/\n",
    "    arg_cond = fe.conditional( fe.ge(arg,  1-fe.DOLFIN_EPS),  \n",
    "                                     1-fe.DOLFIN_EPS, \n",
    "                                     fe.conditional( fe.le(arg, -1+fe.DOLFIN_EPS), -1+fe.DOLFIN_EPS, arg ))\n",
    "    return fe.acos(arg_cond)/3.\n"
   ]
  },
  {
   "cell_type": "code",
   "execution_count": null,
   "metadata": {},
   "outputs": [],
   "source": [
    "# eigen values\n",
    "\n",
    "def eigen_value(T, i):\n",
    "    if i==1:\n",
    "        ev =  I1(T)/3. + 2*fe.sqrt(v(T))*fe.cos(phi(T))\n",
    "    elif i==2:\n",
    "        ev =  I1(T)/3. - 2*fe.sqrt(v(T))*fe.cos(fe.pi/3. + phi(T))\n",
    "    elif i==3:\n",
    "        ev =  I1(T)/3. - 2*fe.sqrt(v(T))*fe.cos(fe.pi/3. - phi(T))\n",
    "    return ev"
   ]
  },
  {
   "cell_type": "code",
   "execution_count": null,
   "metadata": {},
   "outputs": [],
   "source": [
    "# eigen vectors\n",
    "\n",
    "def eigen_vector(T, i):\n",
    "    eval_i = eigen_value(T, i)\n",
    "    A = T[0,0] - eval_i\n",
    "    B = T[1,1] - eval_i\n",
    "    C = T[2,2] - eval_i\n",
    "    \n",
    "    evec_ix = (T[0,1]*T[1,2] - B*T[0,2]) * (T[0,2]*T[1,2] - C*T[0,1]) # - C*T[0,1] -> not fully typed in paper, there might be an error!\n",
    "    evec_iy = (T[0,2]*T[1,2] - C*T[0,1]) * (T[0,2]*T[0,1] - A*T[1,2]) \n",
    "    evec_iz = (T[0,1]*T[1,2] - B*T[0,2]) * (T[0,2]*T[0,1] - A*T[1,2]) \n",
    "    \n",
    "    evec = fe.as_vector( (evec_ix, evec_iy, evec_iz) )\n",
    "    \n",
    "    evec_norm = evec / fe.sqrt(fe.inner(evec,evec))\n",
    "    return evec_norm\n",
    "    "
   ]
  },
  {
   "cell_type": "markdown",
   "metadata": {},
   "source": [
    "### Examples & comparison to numerical solution"
   ]
  },
  {
   "cell_type": "code",
   "execution_count": null,
   "metadata": {},
   "outputs": [],
   "source": [
    "#=== SOLUTION FROM NUMERICAL DIAGONALIZATION\n",
    "\n",
    "import numpy as np\n",
    "\n",
    "M = np.array([[2.,  1.,  4.], \n",
    "              [1.,  10., -1.], \n",
    "              [4., -1.,  10.]])\n",
    "\n",
    "# M = np.array([[1.25126989, 0.1037006 , 0.1037006],\n",
    "#               [0.1037006 , 0.97212285, 0.00190465], \n",
    "#               [0.1037006 , 0.00190465, 0.97212285]])\n",
    "\n",
    "# M = np.array([[ 1.23034477e+00, -3.67293877e-07, -3.67293877e-07],\n",
    "#               [-3.67293877e-07,  9.19800774e-01, -2.21675491e-07], \n",
    "#               [-3.67293877e-07, -2.21675491e-07,  9.19800774e-01]])\n",
    "\n",
    "# M = np.array([[1., 0, 0], \n",
    "#               [0, 1., 0], \n",
    "#               [0, 0, 1.]])\n",
    "\n",
    "evals, evecs = np.linalg.eig(M)\n",
    "print(\"- is symmetric:    \", np.allclose(M, M.T, rtol=1e-5, atol=1e-8))\n",
    "print(\"- is pos definite: \", np.all(evals > 0))\n",
    "\n",
    "idx_sorted = np.argsort(evals)[::-1]\n",
    "evals = evals[idx_sorted]\n",
    "evecs = evecs[idx_sorted]\n",
    "\n",
    "for i in range(0,3):\n",
    "    print(\"---\")\n",
    "    print(\"- eigenvalue %i:       \"%i, evals[i])\n",
    "    print(\"- eigenvector %i:      \"%i, evecs[:,i])\n",
    "    print(\"- eigenvector %i norm: \"%i, np.linalg.norm(evecs[:,i]))\n",
    "\n"
   ]
  },
  {
   "cell_type": "code",
   "execution_count": null,
   "metadata": {},
   "outputs": [],
   "source": [
    "#=== SOLUTION USING UFL\n",
    "\n",
    "T = fe.as_matrix(M)\n",
    "\n",
    "xdmffile = fe.XDMFFile(os.path.join(out_path, 'eval_evec_test.xdmf'))\n",
    "xdmffile.parameters[\"flush_output\"] = True\n",
    "xdmffile.parameters[\"functions_share_mesh\"] = True\n",
    "\n",
    "mesh = fe.BoxMesh(fe.Point(0,0,0),fe.Point(10.0,1,1),100,10,10)\n",
    "Feval = fe.FunctionSpace(mesh, 'P', 1)\n",
    "Fevec = fe.VectorFunctionSpace(mesh, 'P', 1)\n",
    "\n",
    "evals_ufl = []\n",
    "evecs_ufl = []\n",
    "\n",
    "for i in [1,2,3]:\n",
    "    eval_i = eigen_value(T, i)\n",
    "    eval_field = fe.project(eval_i, Feval)\n",
    "    eval_field.rename(\"lambda_%i\"%i, \"\")\n",
    "    evals_ufl.append(eval_field)\n",
    "    xdmffile.write(eval_field,0)\n",
    "    \n",
    "    evec_i = eigen_vector(T , i)\n",
    "    evec_field = fe.project(evec_i, Fevec)\n",
    "    evec_field.rename(\"ev_%i\"%i, \"\")\n",
    "    evecs_ufl.append(evec_field)\n",
    "    xdmffile.write(evec_field,0)\n",
    "\n",
    "xdmffile.close()\n"
   ]
  },
  {
   "cell_type": "code",
   "execution_count": null,
   "metadata": {},
   "outputs": [],
   "source": [
    "p = (5,0,0)\n",
    "\n",
    "for i in range(0,3):\n",
    "    print('---')\n",
    "    print(\"- eigenvalue %i:       \"%i, evals_ufl[i](p))\n",
    "    print(\"- eigenvector %i:      \"%i, evecs_ufl[i](p))\n",
    "    print(\"- eigenvector %i norm: \"%i, np.linalg.norm(evecs_ufl[i](p)))\n",
    "\n",
    "print(\"- ev1 . ev2: \",np.dot(evecs_ufl[0](p), evecs_ufl[1](p)) )\n",
    "print(\"- ev1 . ev3: \",np.dot(evecs_ufl[0](p), evecs_ufl[2](p)) )\n",
    "print(\"- ev2 . ev3: \",np.dot(evecs_ufl[1](p), evecs_ufl[2](p)) )"
   ]
  },
  {
   "cell_type": "markdown",
   "metadata": {},
   "source": [
    "- Eigenvalues are computed correctly\n",
    "- Eigenvectors are somewhat off ... the UFL soluting implemented here leads to a sign ambiguity according to the [paper](https://pdfs.semanticscholar.org/8ab1/9ef9ad8f770a85c6283fc37ed6d11ae0eaae.pdf), and there is a typo in computation of ev1. REQUIRES MORE TESTING!\n",
    "- BUT, we are mostly interested in Eigenvalue computation!\n",
    "\n",
    "NOTE:\n",
    "- This approach does not work if the matrix is already diagonalized -> try with the identity matrix for example\n",
    "- In this case, the term `v` becomes 0, which results in 'division by zero' in `phi`. "
   ]
  }
 ],
 "metadata": {
  "kernelspec": {
   "display_name": "Python 3",
   "language": "python",
   "name": "python3"
  },
  "language_info": {
   "codemirror_mode": {
    "name": "ipython",
    "version": 3
   },
   "file_extension": ".py",
   "mimetype": "text/x-python",
   "name": "python",
   "nbconvert_exporter": "python",
   "pygments_lexer": "ipython3",
   "version": "3.7.3"
  }
 },
 "nbformat": 4,
 "nbformat_minor": 4
}
