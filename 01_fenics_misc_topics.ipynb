{
 "cells": [
  {
   "cell_type": "code",
   "execution_count": null,
   "metadata": {},
   "outputs": [],
   "source": [
    "# IPython magic to import matplotlib and plot inline\n",
    "%matplotlib inline"
   ]
  },
  {
   "cell_type": "code",
   "execution_count": null,
   "metadata": {},
   "outputs": [],
   "source": [
    "# Path settings\n",
    "import os\n",
    "# we use a relative path here, you can also specify an absolute path for your system\n",
    "out_path = \"output/01_fenics_misc\"\n",
    "os.makedirs(out_path, exist_ok=True)"
   ]
  },
  {
   "cell_type": "markdown",
   "metadata": {},
   "source": [
    "# FEniCS How-Tos\n"
   ]
  },
  {
   "cell_type": "code",
   "execution_count": null,
   "metadata": {},
   "outputs": [],
   "source": [
    "import fenics as fe\n",
    "import mshr "
   ]
  },
  {
   "cell_type": "markdown",
   "metadata": {},
   "source": [
    "## Advanced Meshing"
   ]
  },
  {
   "cell_type": "markdown",
   "metadata": {},
   "source": [
    "Meshes for more complex geometries can be generated via [fenics-mshr](https://fenics.readthedocs.io/projects/mshr/en/latest/) / [CGAL](https://www.cgal.org). See [this](http://anders.logg.org/2016/06/02/mesh-generation-in-fenics/) for an advanced example."
   ]
  },
  {
   "cell_type": "code",
   "execution_count": null,
   "metadata": {},
   "outputs": [],
   "source": [
    "# combine geometric shapes\n",
    "domain = mshr.Rectangle(fe.Point(0.0,0.0),fe.Point(10,5)) \\\n",
    "         - mshr.Circle(fe.Point(2,1.5),r=1,segments=5)    \\\n",
    "         - mshr.Circle(fe.Point(5,1.5),r=0.5,segments=0)    \\\n",
    "         + mshr.Circle(fe.Point(0.0,0.0),r=1,segments=100)    \n",
    "# define subdomains that are meshed spearately\n",
    "domain.set_subdomain(1, mshr.Rectangle(fe.Point(8,0.5),fe.Point(9,4.5)))\n",
    "domain.set_subdomain(2, mshr.Circle(fe.Point(7.,1.),r=0.5, segments=100))\n",
    "mesh = mshr.generate_mesh(domain, 30)"
   ]
  },
  {
   "cell_type": "code",
   "execution_count": null,
   "metadata": {},
   "outputs": [],
   "source": [
    "mesh"
   ]
  },
  {
   "cell_type": "markdown",
   "metadata": {},
   "source": [
    "Subdomains are accessible as part of the mesh:"
   ]
  },
  {
   "cell_type": "code",
   "execution_count": null,
   "metadata": {},
   "outputs": [],
   "source": [
    "# markers for dim=2 (cells in 2D == faces)\n",
    "mesh.domains().markers(2).values()"
   ]
  },
  {
   "cell_type": "markdown",
   "metadata": {},
   "source": [
    "We can use this information to create a `MeshFunction`:"
   ]
  },
  {
   "cell_type": "code",
   "execution_count": null,
   "metadata": {},
   "outputs": [],
   "source": [
    "domains = fe.MeshFunction('size_t', mesh, mesh.geometric_dimension()) \n",
    "domains.set_values(list(mesh.domains().markers(2).values()))"
   ]
  },
  {
   "cell_type": "code",
   "execution_count": null,
   "metadata": {},
   "outputs": [],
   "source": [
    "fe.plot(domains)"
   ]
  },
  {
   "cell_type": "markdown",
   "metadata": {},
   "source": [
    "## Subdomains (cells, facets, edges)"
   ]
  },
  {
   "cell_type": "markdown",
   "metadata": {},
   "source": [
    "The [`MeshFunction`](https://fenicsproject.org/docs/dolfin/1.6.0/python/programmers-reference/cpp/mesh/MeshFunction.html) class allows marking subdomains (1D, 2D, 3D) on a mesh.\n",
    "Good examples are provided [here](https://fenicsproject.org/docs/dolfin/1.4.0/python/demo/documented/subdomains/python/documentation.html) and [here](https://fenicsproject.org/pub/tutorial/sphinx1/._ftut1005.html).\n",
    "\n",
    "A MeshFunction is specific to a mesh and refers to mesh entitities of a specific geometric dimension:\n",
    "- dim=3 -> cells\n",
    "- dim=2 -> facets\n",
    "- dim=1 -> edges\n",
    "\n",
    "### 2D Mesh\n",
    "For 2D meshes, cells and facets are equivalent."
   ]
  },
  {
   "cell_type": "code",
   "execution_count": null,
   "metadata": {},
   "outputs": [],
   "source": [
    "mesh_2d = fe.RectangleMesh(fe.Point(0,0),fe.Point(5,5), nx=5, ny=5)\n",
    "\n",
    "domains_cells_2d = fe.MeshFunction('size_t', mesh_2d, 2) "
   ]
  },
  {
   "cell_type": "markdown",
   "metadata": {},
   "source": [
    "A MeshFunction associates an integer number to each entitiy (of the corresponding dimension) of the mesh."
   ]
  },
  {
   "cell_type": "code",
   "execution_count": null,
   "metadata": {},
   "outputs": [],
   "source": [
    "print(\"Mesh has %i cells.\"%len(mesh_2d.cells()))\n",
    "print(\"%i MeshFunction values: \"% len(domains_cells_2d.array()), domains_cells_2d.array())"
   ]
  },
  {
   "cell_type": "markdown",
   "metadata": {},
   "source": [
    "Subdomains are created by setting MeshFunction values:"
   ]
  },
  {
   "cell_type": "code",
   "execution_count": null,
   "metadata": {},
   "outputs": [],
   "source": [
    "domains_cells_2d.set_all(0)\n",
    "domains_cells_2d.set_value(0,1) # set entity 0 to value 1\n",
    "domains_cells_2d.set_value(6,1) # set entity 7 to value 1\n",
    "domains_cells_2d.set_value(7,1)\n",
    "domains_cells_2d.set_value(8,2) # set entity 9 to value 2\n",
    "domains_cells_2d.set_value(9,2)\n",
    "print(\"%i MeshFunction values: \"% len(domains_cells_2d.array()), domains_cells_2d.array())"
   ]
  },
  {
   "cell_type": "code",
   "execution_count": null,
   "metadata": {},
   "outputs": [],
   "source": [
    "fe.plot(domains_cells_2d)"
   ]
  },
  {
   "cell_type": "markdown",
   "metadata": {},
   "source": [
    "FEniCS provides the [`SubDomain`](https://fenicsproject.org/docs/dolfin/1.6.0/python/programmers-reference/cpp/mesh/SubDomain.html) class for for identifying mesh entitites and setting MeshFunction values."
   ]
  },
  {
   "cell_type": "code",
   "execution_count": null,
   "metadata": {},
   "outputs": [],
   "source": [
    "# create class that inherits from fe.SubDomain\n",
    "class SubdomainRegion(fe.SubDomain):\n",
    "    def inside(self, x, on_boundary):\n",
    "        return x[0]>=2 and x[0]<=4 and x[1]>=4\n",
    "\n",
    "region = SubdomainRegion()\n",
    "region.mark(domains_cells_2d, 3)\n",
    "fe.plot(domains_cells_2d)\n",
    "print(\"%i MeshFunction values: \"% len(domains_cells_2d.array()), domains_cells_2d.array())"
   ]
  },
  {
   "cell_type": "markdown",
   "metadata": {},
   "source": [
    "Similarly for Edges, or geometrical dimension -1 more generally:"
   ]
  },
  {
   "cell_type": "code",
   "execution_count": null,
   "metadata": {},
   "outputs": [],
   "source": [
    "domains_edges_2d  = fe.MeshFunction('size_t', mesh_2d, 1) \n",
    "print(\"%i MeshFunction values: \"% len(domains_edges_2d.array()), domains_edges_2d.array())\n",
    "\n",
    "# using the internal on_boundary function\n",
    "class LeftSide(fe.SubDomain):\n",
    "    def inside(self, x, on_boundary):\n",
    "        tol = 1E-14\n",
    "        return on_boundary and fe.near(x[0], 0, tol)\n",
    "    \n",
    "left = LeftSide()\n",
    "left.mark(domains_edges_2d, 3)\n",
    "print(\"%i MeshFunction values: \"% len(domains_edges_2d.array()), domains_edges_2d.array())\n",
    "\n"
   ]
  },
  {
   "cell_type": "markdown",
   "metadata": {},
   "source": [
    "### 3D Mesh\n",
    "\n",
    "The same concepts can be used in 3D."
   ]
  },
  {
   "cell_type": "code",
   "execution_count": null,
   "metadata": {},
   "outputs": [],
   "source": [
    "mesh_3d = fe.BoxMesh(fe.Point(0,0,0), fe.Point(5,1,1), 10, 5, 5)\n",
    "mesh_3d"
   ]
  },
  {
   "cell_type": "code",
   "execution_count": null,
   "metadata": {},
   "outputs": [],
   "source": [
    "domains_cells_3d   = fe.MeshFunction('size_t', mesh_3d, mesh_3d.geometric_dimension()) \n",
    "domains_facets_3d  = fe.MeshFunction('size_t', mesh_3d, mesh_3d.geometric_dimension()-1) \n",
    "domains_cells_3d.set_all(0)\n",
    "domains_facets_3d.set_all(0)"
   ]
  },
  {
   "cell_type": "code",
   "execution_count": null,
   "metadata": {},
   "outputs": [],
   "source": [
    "class SubdomainRegion(fe.SubDomain):\n",
    "    def inside(self, x, on_boundary):\n",
    "        return x[0]>=2 and x[0]<=4\n",
    "\n",
    "region = SubdomainRegion()\n",
    "region.mark(domains_cells_3d, 1)\n",
    "\n",
    "subdomain_file = fe.File(os.path.join(out_path,\"subdomains.pvd\"))\n",
    "subdomain_file << domains_cells_3d"
   ]
  },
  {
   "cell_type": "code",
   "execution_count": null,
   "metadata": {},
   "outputs": [],
   "source": [
    "# using LeftSide class from 2D example\n",
    "left = LeftSide()\n",
    "left.mark(domains_facets_3d, 1)\n",
    "\n",
    "# more compact way to specify subdomains, no need to define new class\n",
    "right = fe.CompiledSubDomain('on_boundary && near(x[0], 5, tol)', tol=1E-14)\n",
    "right.mark(domains_facets_3d, 2)\n",
    "\n",
    "boundaries_file = fe.File(os.path.join(out_path,\"boundaries.pvd\"))\n",
    "boundaries_file << domains_facets_3d"
   ]
  },
  {
   "cell_type": "markdown",
   "metadata": {},
   "source": [
    "### Subdomains for different materials\n",
    "\n",
    "See [this](https://fenicsproject.org/pub/tutorial/sphinx1/._ftut1005.html) example, around eq. 68."
   ]
  },
  {
   "cell_type": "markdown",
   "metadata": {},
   "source": [
    "## Integration over subdomains\n",
    "Instances of class `MeshFunction` can be used to define integration regions. \n",
    "Integration volumes/regions are identified by a `Measure`. \n",
    "The default measures are `dx` for volume and `ds` for surface integrals over the entire domain/mesh.\n",
    "\n",
    "Providing a MeshFunction with subdomain information to those measures allows us to integrate over specific subdomains.\n"
   ]
  },
  {
   "cell_type": "code",
   "execution_count": null,
   "metadata": {},
   "outputs": [],
   "source": [
    "ds = fe.Measure('ds', domain=mesh_3d, subdomain_data=domains_facets_3d)\n",
    "dx = fe.Measure('dx', domain=mesh_3d, subdomain_data=domains_cells_3d)"
   ]
  },
  {
   "cell_type": "markdown",
   "metadata": {},
   "source": [
    "Integration over the left side of the beam defined above would be expressed by `ds(1)` because we marked up this surface with a mesh function value of 1.\n",
    "\n",
    "Compare integration over the full domain surface(`fe.ds`) to integration over the left surface only:"
   ]
  },
  {
   "cell_type": "code",
   "execution_count": null,
   "metadata": {},
   "outputs": [],
   "source": [
    "# constant 3D vector\n",
    "f = fe.Constant((-1,0,0))\n",
    "# surface normals of the beam\n",
    "n = fe.FacetNormal(mesh_3d)\n",
    "\n",
    "print(\"integral over entire surface:      \", fe.assemble(fe.inner(f,n)*ds) )\n",
    "print(\"integral over left surface only:   \", fe.assemble(fe.inner(f,n)*ds(1)) )\n",
    "print(\"integral over right surface only:   \", fe.assemble(fe.inner(f,n)*ds(2)) )"
   ]
  },
  {
   "cell_type": "markdown",
   "metadata": {},
   "source": [
    "## Boundary Conditions\n",
    "\n",
    "Instances of class `MeshFunction` can be used to define boundary conditions over subdomains.  "
   ]
  },
  {
   "cell_type": "markdown",
   "metadata": {},
   "source": [
    "### Dirichlet BC\n",
    "\n",
    "e.g. zero displacement at left side of beam:"
   ]
  },
  {
   "cell_type": "code",
   "execution_count": null,
   "metadata": {},
   "outputs": [],
   "source": [
    "V = fe.VectorFunctionSpace(mesh_3d, \"Lagrange\", 1)\n",
    "u_0 = fe.Constant((0,0,0))\n",
    "\n",
    "# In FunctionSpace V (this includes a mesh), apply BC u_0 to boundary 1 in labeled by domains_facets_3d\n",
    "bc = fe.DirichletBC(V, u_0, domains_facets_3d, 1)"
   ]
  },
  {
   "cell_type": "markdown",
   "metadata": {},
   "source": [
    "### Von Neuman\n",
    "\n",
    "Typically via integration over subdomain as shown above."
   ]
  },
  {
   "cell_type": "markdown",
   "metadata": {},
   "source": [
    "## File IO\n",
    "\n",
    "Different mechanisms exist for saving and loading meshes, subdomains and functions:"
   ]
  },
  {
   "cell_type": "code",
   "execution_count": null,
   "metadata": {},
   "outputs": [],
   "source": [
    "# define mesh and test function to be visualized\n",
    "mesh = fe.UnitCubeMesh(10,10,10)\n",
    "V = fe.FunctionSpace(mesh, \"Lagrange\", 1)\n",
    "f_expr = fe.Expression(\"exp( - pow(x[0]-x0, 2) / pow(sigma_x, 2) - pow(x[1]-y0, 2) / pow(sigma_y, 2) - pow(x[2]-z0, 2) / pow(sigma_z, 2))\", \n",
    "                                    x0=0, y0=0, z0=0, sigma_x=1, sigma_y=1, sigma_z=1, degree = 1)\n",
    "\n",
    "fun_a = fe.project(f_expr, V)\n",
    "fun_a.rename(\"a\",\"a\") # assign name and label -> this will be displayed in paraview\n",
    "\n",
    "f_expr.x0 = 0.5 # we can update parameters of expression\n",
    "fun_b = fe.project(f_expr, V)\n",
    "fun_b.rename(\"b\",\"b\")\n",
    "\n",
    "f_expr.y0 = 0.5 # we can update parameters of expression\n",
    "fun_c = fe.project(f_expr, V)\n",
    "fun_c.rename(\"c\",\"c\")"
   ]
  },
  {
   "cell_type": "markdown",
   "metadata": {},
   "source": [
    "### VTK Unstructured grid PVD/VTU"
   ]
  },
  {
   "cell_type": "markdown",
   "metadata": {},
   "source": [
    "*pvd* is a wrapper that can compose multiple *vtu* (vtk unstructured grid) files. \n",
    "The following command creates a *pdv* with one linked *vtu* file.\n",
    "Both can be opened and visualized in [ParaView](https://www.paraview.org/)."
   ]
  },
  {
   "cell_type": "code",
   "execution_count": null,
   "metadata": {},
   "outputs": [],
   "source": [
    "vtkfile = fe.File(os.path.join(out_path, 'function.pvd'))\n",
    "vtkfile << (fun_a)"
   ]
  },
  {
   "cell_type": "markdown",
   "metadata": {},
   "source": [
    "Multiple functions can be combined by adding a (numeric) label.\n",
    "Paraview interprets this information as time steps."
   ]
  },
  {
   "cell_type": "code",
   "execution_count": null,
   "metadata": {},
   "outputs": [],
   "source": [
    "vtkfile = fe.File(os.path.join(out_path, 'function_steps.pvd'))\n",
    "vtkfile << (fun_a, 1)\n",
    "vtkfile << (fun_b, 2)\n",
    "vtkfile << (fun_c, 3)"
   ]
  },
  {
   "cell_type": "markdown",
   "metadata": {},
   "source": [
    "### XDMF"
   ]
  },
  {
   "cell_type": "markdown",
   "metadata": {},
   "source": [
    "[XDMF](https://fenicsproject.org/docs/dolfin/2017.2.0/python/programmers-reference/cpp/io/XDMFFile.html):\n",
    "Note that the file has to be closed after writing.\n",
    "Choose 'Xdmf3ReaderT' when prompted by ParaView."
   ]
  },
  {
   "cell_type": "markdown",
   "metadata": {},
   "source": [
    "The following provides a convenient way of outputing multiple quantities on a shared mesh (at a single time point as well as over time!):"
   ]
  },
  {
   "cell_type": "code",
   "execution_count": null,
   "metadata": {},
   "outputs": [],
   "source": [
    "xdmffile = fe.XDMFFile(os.path.join(out_path, 'multiple_functions_in_one.xdmf'))\n",
    "xdmffile.parameters[\"flush_output\"] = True\n",
    "xdmffile.parameters[\"functions_share_mesh\"] = True\n",
    "\n",
    "# single time step id=0\n",
    "xdmffile.write(fun_a,0)\n",
    "xdmffile.write(fun_b,0)\n",
    "xdmffile.write(fun_c,0)\n",
    "# further time steps can be added by incrementing time step id\n",
    "\n",
    "xdmffile.close()\n",
    "\n",
    "# see last block in 02_hyperelasticity.ipynb for more meaningful example"
   ]
  },
  {
   "cell_type": "markdown",
   "metadata": {},
   "source": [
    "In principle, this should also allow writing multiple functions to the same mesh file by specifying different function names.\n",
    "However, visualization of such composed datasets in ParaView appears not be working."
   ]
  },
  {
   "cell_type": "code",
   "execution_count": null,
   "metadata": {},
   "outputs": [],
   "source": [
    "xdmffile = fe.XDMFFile(mesh.mpi_comm(), os.path.join(out_path, 'function.xdmf'))\n",
    "xdmffile.write_checkpoint(fun_a, 'function1a', 1., encoding=fe.XDMFFile.Encoding.HDF5, append=False)\n",
    "xdmffile.write_checkpoint(fun_b, 'function1b', 2., encoding=fe.XDMFFile.Encoding.HDF5, append=True)\n",
    "xdmffile.write_checkpoint(fun_c, 'function1c', 3., encoding=fe.XDMFFile.Encoding.HDF5, append=True)\n",
    "xdmffile.close()"
   ]
  },
  {
   "cell_type": "markdown",
   "metadata": {},
   "source": [
    "Besides *Functions*, instances of *Mesh* and *MeshFunction* can also be saved:"
   ]
  },
  {
   "cell_type": "code",
   "execution_count": null,
   "metadata": {},
   "outputs": [],
   "source": [
    "# save MESH (from above)\n",
    "xdmffile = fe.XDMFFile(os.path.join(out_path, 'mesh.xdmf'))\n",
    "xdmffile.write(mesh_3d)\n",
    "xdmffile.close()\n",
    "\n",
    "# save MESHFUNCTION (Subdomains for Boundary Conditions)\n",
    "xdmffile = fe.XDMFFile(os.path.join(out_path, 'subdomains.xdmf'))\n",
    "xdmffile.write(domains_cells_3d)\n",
    "xdmffile.close()\n",
    "\n",
    "# save MESHFUNCTION (Subdomains for Boundary Conditions)\n",
    "xdmffile = fe.XDMFFile(os.path.join(out_path, 'boundaries.xdmf'))\n",
    "xdmffile.write(domains_facets_3d)\n",
    "xdmffile.close()\n"
   ]
  },
  {
   "cell_type": "markdown",
   "metadata": {},
   "source": [
    "And be reloaded:"
   ]
  },
  {
   "cell_type": "code",
   "execution_count": null,
   "metadata": {},
   "outputs": [],
   "source": [
    "mesh_reloaded = fe.Mesh()\n",
    "xdmffile_mesh = fe.XDMFFile(os.path.join(out_path, 'mesh.xdmf'))\n",
    "xdmffile_mesh.read(mesh_reloaded)"
   ]
  },
  {
   "cell_type": "code",
   "execution_count": null,
   "metadata": {},
   "outputs": [],
   "source": [
    "subdomains_reloaded = fe.MeshFunction('size_t', mesh_reloaded, mesh_reloaded.geometric_dimension())\n",
    "xdmffile_subdomains = fe.XDMFFile(os.path.join(out_path, 'subdomains.xdmf'))\n",
    "xdmffile_subdomains.read(subdomains_reloaded)\n",
    "subdomains_reloaded"
   ]
  },
  {
   "cell_type": "code",
   "execution_count": null,
   "metadata": {},
   "outputs": [],
   "source": [
    "boundaries_reloaded = fe.MeshFunction('size_t', mesh_reloaded, mesh_reloaded.geometric_dimension()-1)\n",
    "xdmffile_boundaries = fe.XDMFFile(os.path.join(out_path, 'boundaries.xdmf'))\n",
    "xdmffile_boundaries.read(boundaries_reloaded)\n",
    "boundaries_reloaded"
   ]
  }
 ],
 "metadata": {
  "kernelspec": {
   "display_name": "Python 3",
   "language": "python",
   "name": "python3"
  },
  "language_info": {
   "codemirror_mode": {
    "name": "ipython",
    "version": 3
   },
   "file_extension": ".py",
   "mimetype": "text/x-python",
   "name": "python",
   "nbconvert_exporter": "python",
   "pygments_lexer": "ipython3",
   "version": "3.7.3"
  }
 },
 "nbformat": 4,
 "nbformat_minor": 4
}
