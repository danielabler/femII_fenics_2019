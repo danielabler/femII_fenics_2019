{
 "cells": [
  {
   "cell_type": "code",
   "execution_count": null,
   "metadata": {},
   "outputs": [],
   "source": [
    "# IPython magic to import matplotlib and plot inline\n",
    "%matplotlib inline"
   ]
  },
  {
   "cell_type": "code",
   "execution_count": null,
   "metadata": {},
   "outputs": [],
   "source": [
    "# Path settings\n",
    "import os\n",
    "# we use a relative path here, you can also specify an absolute path for your system\n",
    "out_path = \"output/05_hyperelasticity_neohook_testing\"\n",
    "os.makedirs(out_path, exist_ok=True)\n",
    "\n",
    "import fenics as fe\n",
    "import pandas as pd\n",
    "import numpy as np\n",
    "import matplotlib.pyplot as plt \n",
    "import matplotlib.pyplot as plt \n",
    "\n",
    "fe.parameters[\"form_compiler\"][\"representation\"] = \"uflacs\"\n",
    "#fe.parameters[\"form_compiler\"][\"quadrature_degree\"] = \"2\""
   ]
  },
  {
   "cell_type": "code",
   "execution_count": null,
   "metadata": {},
   "outputs": [],
   "source": [
    "def get_tensor_components(tensor, point, name=None):\n",
    "    index_2d = {   'xx' : 0, 'xy' : 1,\n",
    "                   'yx' : 2, 'yy' : 3}\n",
    "    index_3d = {   'xx' : 0, 'xy' : 1, 'xz' : 2,\n",
    "                   'yx' : 3, 'yy' : 4, 'yz' : 5,\n",
    "                   'zx' : 6, 'zy' : 7, 'zz' : 8}\n",
    "    tensor_at_point = tensor(point)\n",
    "    if len(tensor_at_point)==4:\n",
    "        name_val_dict = { key : tensor_at_point[index] for key, index in index_2d.items()}\n",
    "    elif len(tensor_at_point)==9:\n",
    "        name_val_dict = { key : tensor_at_point[index] for key, index in index_3d.items()}\n",
    "    else:\n",
    "        print(\"Tensor at has %i elements -- can't handle\"%len(tensor_at_point))\n",
    "        name_val_dict = {}\n",
    "    if name:\n",
    "        name_val_dict = { \"%s_%s\"%(name, key) : val for key, val in name_val_dict.items()}\n",
    "    return name_val_dict\n",
    "        "
   ]
  },
  {
   "cell_type": "code",
   "execution_count": null,
   "metadata": {},
   "outputs": [],
   "source": [
    "# mesh\n",
    "\n",
    "length_x = 1.0\n",
    "length_y = 1.0\n",
    "length_z = 1.0\n",
    "#mesh = fe.RectangleMesh(fe.Point(0,0), fe.Point(length_x,length_y), 100,100)\n",
    "mesh = fe.BoxMesh(fe.Point(0,0,0),fe.Point(length_x, length_y, length_z),1,1,1)\n",
    "\n",
    "# FunctionSpace\n",
    "V = fe.VectorFunctionSpace(mesh, \"Lagrange\", 1)\n",
    "\n",
    "# Finite element functions\n",
    "du = fe.TrialFunction(V)\n",
    "v  = fe.TestFunction(V)\n",
    "u  = fe.Function(V)\n",
    "u.rename(\"displacement[mm]\", \"\")"
   ]
  },
  {
   "cell_type": "code",
   "execution_count": null,
   "metadata": {},
   "outputs": [],
   "source": [
    "# Mark edges\n",
    "edges_y  = fe.CompiledSubDomain(\"(near(x[0], side_x_1) || near(x[0], side_x_2) ) && ( near(x[2], side_z_1) || near(x[2], side_z_2) ) && on_boundary\", side_x_1 = 0, side_x_2 = 1, side_z_1=0, side_z_2=1)\n",
    "edges_z  = fe.CompiledSubDomain(\"(near(x[0], side_x_1) || near(x[0], side_x_2) ) && ( near(x[1], side_y_1) || near(x[1], side_y_2) ) && on_boundary\", side_x_1 = 0, side_x_2 = 1, side_y_1=0, side_y_2=1)\n",
    "\n",
    "edges = fe.MeshFunction(\"size_t\", mesh, mesh.topology().dim() - 2)\n",
    "edges.set_all(0)\n",
    "edges_y.mark(edges, 1)\n",
    "edges_z.mark(edges, 2)\n",
    "\n",
    "#-- save boundary to vtu for inspection\n",
    "boundary_file = fe.File(os.path.join(out_path, \"edges.pvd\"))\n",
    "boundary_file << edges"
   ]
  },
  {
   "cell_type": "code",
   "execution_count": null,
   "metadata": {},
   "outputs": [],
   "source": [
    "# Mark boundary subdomians\n",
    "left =  fe.CompiledSubDomain(\"near(x[0], side) && on_boundary\", side = 0.0)\n",
    "# Define Dirichlet BC: zero displacement on left side (x = 0)\n",
    "#bc_left_expr = fe.Expression((\"0.0\", \"0.0\", \"0.0\"), element=V.ufl_element())\n",
    "#bcl = fe.DirichletBC(V, bc_left_expr, left)\n",
    "bcl = fe.DirichletBC(V.sub(0), 0, left)\n",
    "\n",
    "\n",
    "# Mark boundary subdomians\n",
    "right =  fe.CompiledSubDomain(\"near(x[0], side) && on_boundary\", side = 1.0)\n",
    "# Define Dirichlet BC: zero displacement on left side (x = 0)\n",
    "#bc_right_expr = fe.Expression((\"d\", \"0.0\", \"0.0\"), d=0.0, element=V.ufl_element())\n",
    "bc_right_expr = fe.Expression((\"d\"), d=0.0, element=V.sub(0).ufl_element())\n",
    "#bcr = fe.DirichletBC(V, bc_right_expr, right)\n",
    "#d=0\n",
    "bcr = fe.DirichletBC(V.sub(0), bc_right_expr, right)\n",
    "\n",
    "# Dirichlet egdes\n",
    "bc_egdes_y = fe.DirichletBC(V.sub(1), 0, edges_y, method=\"pointwise\")\n",
    "bc_egdes_z = fe.DirichletBC(V.sub(2), 0, edges_z, method=\"pointwise\")\n",
    "\n",
    "bcs = [bcl, bcr, bc_egdes_y, bc_egdes_z]"
   ]
  },
  {
   "cell_type": "code",
   "execution_count": null,
   "metadata": {},
   "outputs": [],
   "source": [
    "# Functions for \n",
    "\n",
    "def defGrad(u):\n",
    "    \"\"\"\n",
    "    Compute deformation gradient from displacements\n",
    "    \"\"\"\n",
    "    d = u.geometric_dimension()\n",
    "    I = fe.Identity(d)\n",
    "    F = I + fe.grad(u)             \n",
    "    return F\n",
    "\n",
    "\n",
    "def strainEnergyDensityFunctionNeoHookean(F, mu, lmbda):\n",
    "    C = F.T*F      # Right Cauchy-Green tensor\n",
    "    I1 = fe.tr(C)  # Invariants \n",
    "    J = fe.det(F)\n",
    "    #return (mu/2)*(I1 - 3)- mu*fe.ln(J) + (lmbda/2)*(fe.ln(J))**2\n",
    "    return (mu/2.)*(I1 - 3.) - mu*fe.ln(J) + (lmbda/2.)*(J-1.)**2."
   ]
  },
  {
   "cell_type": "code",
   "execution_count": null,
   "metadata": {},
   "outputs": [],
   "source": [
    "Ey = 1000E-6\n",
    "nu= 0.499999999999998\n",
    "\n",
    "mu    = Ey / (2.*(1+nu))\n",
    "lmbda = Ey*nu / ((1+nu)*(1-2*nu))\n",
    "print(mu, lmbda)"
   ]
  },
  {
   "cell_type": "code",
   "execution_count": null,
   "metadata": {},
   "outputs": [],
   "source": [
    "# create deformation gradient\n",
    "F = defGrad(u)\n",
    "\n",
    "F = fe.variable(F) # !!! needed to be able to differentiate strain energydensity function wrt F for stress computation\n",
    "\n",
    "# instantiate strain energy density function for given material properties\n",
    "\n",
    "psi = strainEnergyDensityFunctionNeoHookean(F=F, mu=mu, lmbda=lmbda)\n",
    "\n",
    "# total potential energy \n",
    "Pi = psi * fe.dx \n",
    "\n",
    "# Compute 1st variation of Pi (directional derivative about u in dir. of v)\n",
    "Fpi = fe.derivative(Pi, u, v)\n",
    "\n",
    "# Compute Jacobian of F\n",
    "Jac = fe.derivative(Fpi, u, du)"
   ]
  },
  {
   "cell_type": "code",
   "execution_count": null,
   "metadata": {},
   "outputs": [],
   "source": [
    "# Define the solver\n",
    "problem = fe.NonlinearVariationalProblem(Fpi, u, bcs, Jac)\n",
    "solver = fe.NonlinearVariationalSolver(problem)\n",
    "\n",
    "# Set solver parameters (optional)\n",
    "prm = solver.parameters\n",
    "prm['nonlinear_solver'] = 'newton'\n",
    "prm['newton_solver']['linear_solver'] = 'mumps'\n",
    "# prm['newton_solver']['linear_solver'] = 'cg'\n",
    "# prm['newton_solver']['preconditioner'] = 'icc'"
   ]
  },
  {
   "cell_type": "code",
   "execution_count": null,
   "metadata": {},
   "outputs": [],
   "source": [
    "T = fe.TensorFunctionSpace(mesh, 'P', 1)\n",
    "W = fe.FunctionSpace(mesh, 'P', 1)\n",
    "\n",
    "# Create XMDF file for the solution\n",
    "xmdffile = fe.XDMFFile(os.path.join(out_path, 'results.xdmf'))\n",
    "xmdffile.parameters[\"flush_output\"] = True\n",
    "xmdffile.parameters[\"functions_share_mesh\"] = True\n",
    "\n",
    "df = pd.DataFrame()\n",
    "\n",
    "for d in np.arange(-0.5, 2, 0.2):\n",
    "    stretch = (length_x + d)/length_x\n",
    "    print(\"-- solving for stretch = %.2f\"%stretch)\n",
    "    bc_right_expr.d = d\n",
    "    solver.solve()\n",
    "    # compute stresS\n",
    "    S = 1/fe.det(F)*fe.diff(psi, F)*F.T            \n",
    "    #S = fe.diff(psi, F)  \n",
    "    S_project = fe.project(S, T, solver_type='cg')\n",
    "    S_project.rename(\"cauchy_stress[MPa]\", \"\")\n",
    "    xmdffile.write(S_project,d)\n",
    "    # output\n",
    "    xmdffile.write(u,d)\n",
    "    u_project = fe.project(u, V, solver_type='cg')\n",
    "    # project F\n",
    "    F_project = fe.project(F, T, solver_type='cg')\n",
    "    F_project.rename(\"deformation_gradient\", \"\")\n",
    "    xmdffile.write(F_project,d)\n",
    "    # project C\n",
    "    C_project = fe.project(F.T*F, T, solver_type='cg')\n",
    "    C_project.rename(\"cauchy_green\", \"\")\n",
    "    xmdffile.write(C_project,d)\n",
    "    # compute J\n",
    "    J = fe.det(F)\n",
    "    J_project = fe.project(J, W, solver_type='cg')\n",
    "    J_project.rename(\"det(F)\", \"\")\n",
    "    xmdffile.write(J_project,d)\n",
    "    \n",
    "    # to table\n",
    "    point = fe.Point(1, 0.5)\n",
    "    s = S_project(point)\n",
    "    f = F_project(point)\n",
    "    c = C_project(point)\n",
    "    j = J_project(point)\n",
    "    U = u_project(point)\n",
    "    df_dict = {}\n",
    "    df_dict[\"stretch_ratio\"] = stretch\n",
    "    df_dict.update( get_tensor_components(S_project, point, 'S') )\n",
    "    df_dict.update( get_tensor_components(F_project, point, 'F') )\n",
    "    df_dict.update( get_tensor_components(C_project, point, 'C') )\n",
    "    df_dict[\"Sxx_analytic\"] = mu/np.power(j, 5./3.) * (stretch*stretch - j/stretch) # 3D, uniaxial tension, unconstrained; https://en.wikipedia.org/wiki/Neo-Hookean_solid\n",
    "    df_dict[\"Syy_analytic\"] = 0.0\n",
    "    df_dict[\"Szz_analytic\"] = df_dict[\"Syy_analytic\"]\n",
    "    df_dict[\"u_x\"] = U[0]\n",
    "    df = df.append(df_dict, ignore_index=True)\n",
    "\n",
    "\n",
    "xmdffile.close()    \n",
    "    "
   ]
  },
  {
   "cell_type": "code",
   "execution_count": null,
   "metadata": {},
   "outputs": [],
   "source": [
    "print(j)\n",
    "J_project.vector().get_local()"
   ]
  },
  {
   "cell_type": "code",
   "execution_count": null,
   "metadata": {},
   "outputs": [],
   "source": [
    "df[\"S_xx_norm\"] = df[\"S_xx\"]/mu\n",
    "df[\"S_xy_norm\"] = df[\"S_xy\"]/mu\n",
    "df[\"S_yx_norm\"] = df[\"S_yx\"]/mu\n",
    "df[\"S_yy_norm\"] = df[\"S_yy\"]/mu\n",
    "df[\"S_zz_norm\"] = df[\"S_zz\"]/mu\n",
    "df[\"Sxx_analytic_norm\"] = df[\"Sxx_analytic\"]/mu\n",
    "df[\"Syy_analytic_norm\"] = df[\"Syy_analytic\"]/mu\n",
    "df[\"Szz_analytic_norm\"] = df[\"Szz_analytic\"]/mu\n",
    "df[\"1/stretch_ratio\"] = 1./df[\"stretch_ratio\"]\n",
    "df[\"stretch_ratio_quad\"] = np.power(df[\"stretch_ratio\"],2)\n",
    "df[\"1/stretch_ratio_quad\"] = np.power(df[\"1/stretch_ratio\"],2)\n",
    "df[\"S_xx_rel_error\"] = (df[\"Sxx_analytic_norm\"]-df[\"S_xx_norm\"])/df[\"Sxx_analytic_norm\"]\n",
    "df.loc[np.isclose(df.stretch_ratio,1.0),\"S_xx_rel_error\"]=np.nan\n",
    "df[[\"S_xx_norm\", \"Sxx_analytic_norm\", \"S_xx_rel_error\", \"stretch_ratio\", \"u_x\"]]"
   ]
  },
  {
   "cell_type": "code",
   "execution_count": null,
   "metadata": {},
   "outputs": [],
   "source": []
  },
  {
   "cell_type": "code",
   "execution_count": null,
   "metadata": {},
   "outputs": [],
   "source": [
    "fig, ax = plt.subplots(figsize=(8,6))\n",
    "df.plot(x=\"stretch_ratio\", y=[\"S_xx_norm\", \"S_yy_norm\", \"S_zz_norm\"], marker='o', ax=ax)\n",
    "df.plot(x=\"stretch_ratio\", y=[\"Sxx_analytic_norm\", \"Syy_analytic_norm\", \"Szz_analytic_norm\"], marker='x', linestyle='--', ax=ax)\n",
    "#df.plot(x=\"stretch_ratio\", y=[\"S_xx_norm_ana<lytic\"], marker='x', ax=ax)\n",
    "#df.plot(x=\"stretch_ratio\", y=[\"1/stretch_ratio\"], marker='s', ax=ax)\n",
    "ax.set_ylabel(\"$\\sigma$ [normalized by $\\mu$]\")\n",
    "ax.set_xlabel(\"stretch ratio along x\")\n",
    "plt.show()\n"
   ]
  },
  {
   "cell_type": "code",
   "execution_count": null,
   "metadata": {},
   "outputs": [],
   "source": [
    "fig, ax = plt.subplots(figsize=(8,6))\n",
    "df.plot(x=\"stretch_ratio\", y=[\"S_xx_rel_error\"], marker='o', ax=ax)\n",
    "    \n",
    "ax.set_ylabel(\"$\\sigma$ [normalized by $\\mu$]\")\n",
    "ax.set_xlabel(\"stretch ratio along x\")\n",
    "plt.show()\n"
   ]
  },
  {
   "cell_type": "code",
   "execution_count": null,
   "metadata": {},
   "outputs": [],
   "source": [
    "fig, ax = plt.subplots(figsize=(8,6))\n",
    "df.plot(x=\"stretch_ratio\", y=[\"F_xx\", \"F_yy\", \"F_xy\", \"F_yx\"], marker='o', ax=ax)\n",
    "    \n",
    "ax.set_ylabel(\"$F$\")\n",
    "ax.set_xlabel(\"stretch ratio along x\")\n",
    "plt.show()\n"
   ]
  },
  {
   "cell_type": "code",
   "execution_count": null,
   "metadata": {},
   "outputs": [],
   "source": [
    "fig, ax = plt.subplots(figsize=(8,6))\n",
    "df.plot(x=\"stretch_ratio\", y=[\"C_xx\", \"C_yy\", \"C_zz\"], marker='o', ax=ax)\n",
    "df.plot(x=\"stretch_ratio\", y=[\"stretch_ratio_quad\", \"1/stretch_ratio\"], marker='x', ax=ax)\n",
    "    \n",
    "    \n",
    "ax.set_ylabel(\"Cauchy-Green\")\n",
    "ax.set_xlabel(\"stretch ratio along x\")\n",
    "plt.show()\n"
   ]
  },
  {
   "cell_type": "code",
   "execution_count": null,
   "metadata": {},
   "outputs": [],
   "source": [
    "F"
   ]
  },
  {
   "cell_type": "code",
   "execution_count": null,
   "metadata": {},
   "outputs": [],
   "source": []
  }
 ],
 "metadata": {
  "kernelspec": {
   "display_name": "Python 3",
   "language": "python",
   "name": "python3"
  },
  "language_info": {
   "codemirror_mode": {
    "name": "ipython",
    "version": 3
   },
   "file_extension": ".py",
   "mimetype": "text/x-python",
   "name": "python",
   "nbconvert_exporter": "python",
   "pygments_lexer": "ipython3",
   "version": "3.7.3"
  }
 },
 "nbformat": 4,
 "nbformat_minor": 4
}
