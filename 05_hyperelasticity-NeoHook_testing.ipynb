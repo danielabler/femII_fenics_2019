{
 "cells": [
  {
   "cell_type": "code",
   "execution_count": 19,
   "metadata": {},
   "outputs": [],
   "source": [
    "# IPython magic to import matplotlib and plot inline\n",
    "%matplotlib inline"
   ]
  },
  {
   "cell_type": "code",
   "execution_count": 20,
   "metadata": {},
   "outputs": [],
   "source": [
    "# Path settings\n",
    "import os\n",
    "# we use a relative path here, you can also specify an absolute path for your system\n",
    "out_path = \"output/05_hyperelasticity_neohook_testing\"\n",
    "os.makedirs(out_path, exist_ok=True)\n",
    "\n",
    "import fenics as fe\n",
    "import pandas as pd\n",
    "import numpy as np\n",
    "import matplotlib.pyplot as plt \n",
    "import matplotlib.pyplot as plt \n",
    "\n",
    "fe.parameters[\"form_compiler\"][\"representation\"] = \"uflacs\"\n",
    "#fe.parameters[\"form_compiler\"][\"quadrature_degree\"] = \"2\""
   ]
  },
  {
   "cell_type": "code",
   "execution_count": 21,
   "metadata": {},
   "outputs": [],
   "source": [
    "def get_tensor_components(tensor, point, name=None):\n",
    "    index_2d = {   'xx' : 0, 'xy' : 1,\n",
    "                   'yx' : 2, 'yy' : 3}\n",
    "    index_3d = {   'xx' : 0, 'xy' : 1, 'xz' : 2,\n",
    "                   'yx' : 3, 'yy' : 4, 'yz' : 5,\n",
    "                   'zx' : 6, 'zy' : 7, 'zz' : 8}\n",
    "    tensor_at_point = tensor(point)\n",
    "    if len(tensor_at_point)==4:\n",
    "        name_val_dict = { key : tensor_at_point[index] for key, index in index_2d.items()}\n",
    "    elif len(tensor_at_point)==9:\n",
    "        name_val_dict = { key : tensor_at_point[index] for key, index in index_3d.items()}\n",
    "    else:\n",
    "        print(\"Tensor at has %i elements -- can't handle\"%len(tensor_at_point))\n",
    "        name_val_dict = {}\n",
    "    if name:\n",
    "        name_val_dict = { \"%s_%s\"%(name, key) : val for key, val in name_val_dict.items()}\n",
    "    return name_val_dict\n",
    "        "
   ]
  },
  {
   "cell_type": "code",
   "execution_count": 22,
   "metadata": {},
   "outputs": [],
   "source": [
    "# mesh\n",
    "\n",
    "length_x = 1.0\n",
    "length_y = 1.0\n",
    "length_z = 1.0\n",
    "#mesh = fe.RectangleMesh(fe.Point(0,0), fe.Point(length_x,length_y), 100,100)\n",
    "mesh = fe.BoxMesh(fe.Point(0,0,0),fe.Point(length_x, length_y, length_z),1,1,1)\n",
    "\n",
    "# FunctionSpace\n",
    "V = fe.VectorFunctionSpace(mesh, \"Lagrange\", 1)\n",
    "\n",
    "# Finite element functions\n",
    "du = fe.TrialFunction(V)\n",
    "v  = fe.TestFunction(V)\n",
    "u  = fe.Function(V)\n",
    "u.rename(\"displacement[mm]\", \"\")"
   ]
  },
  {
   "cell_type": "code",
   "execution_count": 23,
   "metadata": {},
   "outputs": [],
   "source": [
    "# Mark edges\n",
    "edges_y  = fe.CompiledSubDomain(\"(near(x[0], side_x_1) || near(x[0], side_x_2) ) && ( near(x[2], side_z_1) || near(x[2], side_z_2) ) && on_boundary\", side_x_1 = 0, side_x_2 = 1, side_z_1=0, side_z_2=1)\n",
    "edges_z  = fe.CompiledSubDomain(\"(near(x[0], side_x_1) || near(x[0], side_x_2) ) && ( near(x[1], side_y_1) || near(x[1], side_y_2) ) && on_boundary\", side_x_1 = 0, side_x_2 = 1, side_y_1=0, side_y_2=1)\n",
    "\n",
    "edges = fe.MeshFunction(\"size_t\", mesh, mesh.topology().dim() - 2)\n",
    "edges.set_all(0)\n",
    "edges_y.mark(edges, 1)\n",
    "edges_z.mark(edges, 2)\n",
    "\n",
    "#-- save boundary to vtu for inspection\n",
    "boundary_file = fe.File(os.path.join(out_path, \"edges.pvd\"))\n",
    "boundary_file << edges"
   ]
  },
  {
   "cell_type": "code",
   "execution_count": 24,
   "metadata": {},
   "outputs": [],
   "source": [
    "# Mark boundary subdomians\n",
    "left =  fe.CompiledSubDomain(\"near(x[0], side) && on_boundary\", side = 0.0)\n",
    "# Define Dirichlet BC: zero displacement on left side (x = 0)\n",
    "#bc_left_expr = fe.Expression((\"0.0\", \"0.0\", \"0.0\"), element=V.ufl_element())\n",
    "#bcl = fe.DirichletBC(V, bc_left_expr, left)\n",
    "bcl = fe.DirichletBC(V.sub(0), 0, left)\n",
    "\n",
    "\n",
    "# Mark boundary subdomians\n",
    "right =  fe.CompiledSubDomain(\"near(x[0], side) && on_boundary\", side = 1.0)\n",
    "# Define Dirichlet BC: zero displacement on left side (x = 0)\n",
    "#bc_right_expr = fe.Expression((\"d\", \"0.0\", \"0.0\"), d=0.0, element=V.ufl_element())\n",
    "bc_right_expr = fe.Expression((\"d\"), d=0.0, element=V.sub(0).ufl_element())\n",
    "#bcr = fe.DirichletBC(V, bc_right_expr, right)\n",
    "#d=0\n",
    "bcr = fe.DirichletBC(V.sub(0), bc_right_expr, right)\n",
    "\n",
    "# Dirichlet egdes\n",
    "bc_egdes_y = fe.DirichletBC(V.sub(1), 0, edges_y, method=\"pointwise\")\n",
    "bc_egdes_z = fe.DirichletBC(V.sub(2), 0, edges_z, method=\"pointwise\")\n",
    "\n",
    "bcs = [bcl, bcr, bc_egdes_y, bc_egdes_z]"
   ]
  },
  {
   "cell_type": "code",
   "execution_count": 25,
   "metadata": {},
   "outputs": [],
   "source": [
    "# Functions for \n",
    "\n",
    "def defGrad(u):\n",
    "    \"\"\"\n",
    "    Compute deformation gradient from displacements\n",
    "    \"\"\"\n",
    "    d = u.geometric_dimension()\n",
    "    I = fe.Identity(d)\n",
    "    F = I + fe.grad(u)             \n",
    "    return F\n",
    "\n",
    "\n",
    "def strainEnergyDensityFunctionNeoHookean(F, mu, lmbda):\n",
    "    C = F.T*F      # Right Cauchy-Green tensor\n",
    "    I1 = fe.tr(C)  # Invariants \n",
    "    J = fe.det(F)\n",
    "    #return (mu/2)*(I1 - 3)- mu*fe.ln(J) + (lmbda/2)*(fe.ln(J))**2\n",
    "    return (mu/2.)*(I1 - 3.) - mu*fe.ln(J) + (lmbda/2.)*(J-1.)**2."
   ]
  },
  {
   "cell_type": "code",
   "execution_count": 26,
   "metadata": {},
   "outputs": [
    {
     "name": "stdout",
     "output_type": "stream",
     "text": [
      "0.0003448275862068966 0.00310344827586207\n"
     ]
    }
   ],
   "source": [
    "Ey = 1000E-6\n",
    "nu= 0.45\n",
    "\n",
    "mu    = Ey / (2.*(1+nu))\n",
    "lmbda = Ey*nu / ((1+nu)*(1-2*nu))\n",
    "print(mu, lmbda)"
   ]
  },
  {
   "cell_type": "code",
   "execution_count": 27,
   "metadata": {},
   "outputs": [],
   "source": [
    "# create deformation gradient\n",
    "F = defGrad(u)\n",
    "\n",
    "F = fe.variable(F) # !!! needed to be able to differentiate strain energydensity function wrt F for stress computation\n",
    "\n",
    "# instantiate strain energy density function for given material properties\n",
    "\n",
    "psi = strainEnergyDensityFunctionNeoHookean(F=F, mu=mu, lmbda=lmbda)\n",
    "\n",
    "# total potential energy \n",
    "Pi = psi * fe.dx \n",
    "\n",
    "# Compute 1st variation of Pi (directional derivative about u in dir. of v)\n",
    "Fpi = fe.derivative(Pi, u, v)\n",
    "\n",
    "# Compute Jacobian of F\n",
    "Jac = fe.derivative(Fpi, u, du)"
   ]
  },
  {
   "cell_type": "code",
   "execution_count": 28,
   "metadata": {},
   "outputs": [
    {
     "name": "stdout",
     "output_type": "stream",
     "text": [
      "Calling FFC just-in-time (JIT) compiler, this may take some time.\n",
      "Calling FFC just-in-time (JIT) compiler, this may take some time.\n"
     ]
    }
   ],
   "source": [
    "# Define the solver\n",
    "problem = fe.NonlinearVariationalProblem(Fpi, u, bcs, Jac)\n",
    "solver = fe.NonlinearVariationalSolver(problem)\n",
    "\n",
    "# Set solver parameters (optional)\n",
    "prm = solver.parameters\n",
    "prm['nonlinear_solver'] = 'newton'\n",
    "prm['newton_solver']['linear_solver'] = 'mumps'\n",
    "# prm['newton_solver']['linear_solver'] = 'cg'\n",
    "# prm['newton_solver']['preconditioner'] = 'icc'"
   ]
  },
  {
   "cell_type": "code",
   "execution_count": 29,
   "metadata": {},
   "outputs": [
    {
     "name": "stdout",
     "output_type": "stream",
     "text": [
      "-- solving for stretch = 0.50\n",
      "Calling FFC just-in-time (JIT) compiler, this may take some time.\n",
      "-- solving for stretch = 0.70\n",
      "-- solving for stretch = 0.90\n",
      "-- solving for stretch = 1.10\n",
      "-- solving for stretch = 1.30\n",
      "-- solving for stretch = 1.50\n",
      "-- solving for stretch = 1.70\n",
      "-- solving for stretch = 1.90\n",
      "-- solving for stretch = 2.10\n",
      "-- solving for stretch = 2.30\n",
      "-- solving for stretch = 2.50\n",
      "-- solving for stretch = 2.70\n",
      "-- solving for stretch = 2.90\n"
     ]
    }
   ],
   "source": [
    "T = fe.TensorFunctionSpace(mesh, 'P', 1)\n",
    "W = fe.FunctionSpace(mesh, 'P', 1)\n",
    "\n",
    "# Create XMDF file for the solution\n",
    "xmdffile = fe.XDMFFile(os.path.join(out_path, 'results.xdmf'))\n",
    "xmdffile.parameters[\"flush_output\"] = True\n",
    "xmdffile.parameters[\"functions_share_mesh\"] = True\n",
    "\n",
    "df = pd.DataFrame()\n",
    "\n",
    "for d in np.arange(-0.5, 2, 0.2):\n",
    "    stretch = (length_x + d)/length_x\n",
    "    print(\"-- solving for stretch = %.2f\"%stretch)\n",
    "    bc_right_expr.d = d\n",
    "    solver.solve()\n",
    "    # compute stresS\n",
    "    S = 1/fe.det(F)*fe.diff(psi, F)*F.T            \n",
    "    #S = fe.diff(psi, F)  \n",
    "    S_project = fe.project(S, T, solver_type='cg')\n",
    "    S_project.rename(\"cauchy_stress[MPa]\", \"\")\n",
    "    xmdffile.write(S_project,d)\n",
    "    # output\n",
    "    xmdffile.write(u,d)\n",
    "    u_project = fe.project(u, V, solver_type='cg')\n",
    "    # project F\n",
    "    F_project = fe.project(F, T, solver_type='cg')\n",
    "    F_project.rename(\"deformation_gradient\", \"\")\n",
    "    xmdffile.write(F_project,d)\n",
    "    # project C\n",
    "    C_project = fe.project(F.T*F, T, solver_type='cg')\n",
    "    C_project.rename(\"cauchy_green\", \"\")\n",
    "    xmdffile.write(C_project,d)\n",
    "    # compute J\n",
    "    J = fe.det(F)\n",
    "    J_project = fe.project(J, W, solver_type='cg')\n",
    "    J_project.rename(\"det(F)\", \"\")\n",
    "    xmdffile.write(J_project,d)\n",
    "    \n",
    "    # to table\n",
    "    point = fe.Point(1, 0.5)\n",
    "    s = S_project(point)\n",
    "    f = F_project(point)\n",
    "    c = C_project(point)\n",
    "    j = J_project(point)\n",
    "    U = u_project(point)\n",
    "    df_dict = {}\n",
    "    df_dict[\"stretch_ratio\"] = stretch\n",
    "    df_dict.update( get_tensor_components(S_project, point, 'S') )\n",
    "    df_dict.update( get_tensor_components(F_project, point, 'F') )\n",
    "    df_dict.update( get_tensor_components(C_project, point, 'C') )\n",
    "    df_dict[\"Sxx_analytic\"] = mu/np.power(j, 5./3.) * (stretch*stretch - j/stretch) # 3D, uniaxial tension, unconstrained; https://en.wikipedia.org/wiki/Neo-Hookean_solid\n",
    "    df_dict[\"Syy_analytic\"] = 0.0\n",
    "    df_dict[\"Szz_analytic\"] = df_dict[\"Syy_analytic\"]\n",
    "    df_dict[\"u_x\"] = U[0]\n",
    "    df = df.append(df_dict, ignore_index=True)\n",
    "\n",
    "\n",
    "xmdffile.close()    \n",
    "    "
   ]
  },
  {
   "cell_type": "code",
   "execution_count": 30,
   "metadata": {},
   "outputs": [
    {
     "name": "stdout",
     "output_type": "stream",
     "text": [
      "1.0659249720062043\n"
     ]
    },
    {
     "data": {
      "text/plain": [
       "array([1.06592497, 1.06592497, 1.06592497, 1.06592497, 1.06592497,\n",
       "       1.06592497, 1.06592497, 1.06592497])"
      ]
     },
     "execution_count": 30,
     "metadata": {},
     "output_type": "execute_result"
    }
   ],
   "source": [
    "print(j)\n",
    "J_project.vector().get_local()"
   ]
  },
  {
   "cell_type": "code",
   "execution_count": 31,
   "metadata": {},
   "outputs": [
    {
     "data": {
      "text/html": [
       "<div>\n",
       "<style scoped>\n",
       "    .dataframe tbody tr th:only-of-type {\n",
       "        vertical-align: middle;\n",
       "    }\n",
       "\n",
       "    .dataframe tbody tr th {\n",
       "        vertical-align: top;\n",
       "    }\n",
       "\n",
       "    .dataframe thead th {\n",
       "        text-align: right;\n",
       "    }\n",
       "</style>\n",
       "<table border=\"1\" class=\"dataframe\">\n",
       "  <thead>\n",
       "    <tr style=\"text-align: right;\">\n",
       "      <th></th>\n",
       "      <th>S_xx_norm</th>\n",
       "      <th>Sxx_analytic_norm</th>\n",
       "      <th>S_xx_rel_error</th>\n",
       "      <th>stretch_ratio</th>\n",
       "      <th>u_x</th>\n",
       "    </tr>\n",
       "  </thead>\n",
       "  <tbody>\n",
       "    <tr>\n",
       "      <th>0</th>\n",
       "      <td>-1.722556</td>\n",
       "      <td>-1.846416</td>\n",
       "      <td>0.067081</td>\n",
       "      <td>0.5</td>\n",
       "      <td>-0.500000</td>\n",
       "    </tr>\n",
       "    <tr>\n",
       "      <th>1</th>\n",
       "      <td>-0.916733</td>\n",
       "      <td>-0.943773</td>\n",
       "      <td>0.028651</td>\n",
       "      <td>0.7</td>\n",
       "      <td>-0.300000</td>\n",
       "    </tr>\n",
       "    <tr>\n",
       "      <th>2</th>\n",
       "      <td>-0.292020</td>\n",
       "      <td>-0.294201</td>\n",
       "      <td>0.007413</td>\n",
       "      <td>0.9</td>\n",
       "      <td>-0.100000</td>\n",
       "    </tr>\n",
       "    <tr>\n",
       "      <th>3</th>\n",
       "      <td>0.290000</td>\n",
       "      <td>0.288252</td>\n",
       "      <td>-0.006062</td>\n",
       "      <td>1.1</td>\n",
       "      <td>0.100000</td>\n",
       "    </tr>\n",
       "    <tr>\n",
       "      <th>4</th>\n",
       "      <td>0.882565</td>\n",
       "      <td>0.869213</td>\n",
       "      <td>-0.015361</td>\n",
       "      <td>1.3</td>\n",
       "      <td>0.300000</td>\n",
       "    </tr>\n",
       "    <tr>\n",
       "      <th>5</th>\n",
       "      <td>1.510525</td>\n",
       "      <td>1.477760</td>\n",
       "      <td>-0.022172</td>\n",
       "      <td>1.5</td>\n",
       "      <td>0.500000</td>\n",
       "    </tr>\n",
       "    <tr>\n",
       "      <th>6</th>\n",
       "      <td>2.187033</td>\n",
       "      <td>2.128761</td>\n",
       "      <td>-0.027374</td>\n",
       "      <td>1.7</td>\n",
       "      <td>0.700000</td>\n",
       "    </tr>\n",
       "    <tr>\n",
       "      <th>7</th>\n",
       "      <td>2.919707</td>\n",
       "      <td>2.830609</td>\n",
       "      <td>-0.031477</td>\n",
       "      <td>1.9</td>\n",
       "      <td>0.900000</td>\n",
       "    </tr>\n",
       "    <tr>\n",
       "      <th>8</th>\n",
       "      <td>3.713259</td>\n",
       "      <td>3.588400</td>\n",
       "      <td>-0.034795</td>\n",
       "      <td>2.1</td>\n",
       "      <td>1.100000</td>\n",
       "    </tr>\n",
       "    <tr>\n",
       "      <th>9</th>\n",
       "      <td>4.570766</td>\n",
       "      <td>4.405409</td>\n",
       "      <td>-0.037535</td>\n",
       "      <td>2.3</td>\n",
       "      <td>1.300000</td>\n",
       "    </tr>\n",
       "    <tr>\n",
       "      <th>10</th>\n",
       "      <td>5.494317</td>\n",
       "      <td>5.283836</td>\n",
       "      <td>-0.039835</td>\n",
       "      <td>2.5</td>\n",
       "      <td>1.500000</td>\n",
       "    </tr>\n",
       "    <tr>\n",
       "      <th>11</th>\n",
       "      <td>6.485384</td>\n",
       "      <td>6.225213</td>\n",
       "      <td>-0.041793</td>\n",
       "      <td>2.7</td>\n",
       "      <td>1.700001</td>\n",
       "    </tr>\n",
       "    <tr>\n",
       "      <th>12</th>\n",
       "      <td>7.545034</td>\n",
       "      <td>7.230640</td>\n",
       "      <td>-0.043481</td>\n",
       "      <td>2.9</td>\n",
       "      <td>1.900001</td>\n",
       "    </tr>\n",
       "  </tbody>\n",
       "</table>\n",
       "</div>"
      ],
      "text/plain": [
       "    S_xx_norm  Sxx_analytic_norm  S_xx_rel_error  stretch_ratio       u_x\n",
       "0   -1.722556          -1.846416        0.067081            0.5 -0.500000\n",
       "1   -0.916733          -0.943773        0.028651            0.7 -0.300000\n",
       "2   -0.292020          -0.294201        0.007413            0.9 -0.100000\n",
       "3    0.290000           0.288252       -0.006062            1.1  0.100000\n",
       "4    0.882565           0.869213       -0.015361            1.3  0.300000\n",
       "5    1.510525           1.477760       -0.022172            1.5  0.500000\n",
       "6    2.187033           2.128761       -0.027374            1.7  0.700000\n",
       "7    2.919707           2.830609       -0.031477            1.9  0.900000\n",
       "8    3.713259           3.588400       -0.034795            2.1  1.100000\n",
       "9    4.570766           4.405409       -0.037535            2.3  1.300000\n",
       "10   5.494317           5.283836       -0.039835            2.5  1.500000\n",
       "11   6.485384           6.225213       -0.041793            2.7  1.700001\n",
       "12   7.545034           7.230640       -0.043481            2.9  1.900001"
      ]
     },
     "execution_count": 31,
     "metadata": {},
     "output_type": "execute_result"
    }
   ],
   "source": [
    "df[\"S_xx_norm\"] = df[\"S_xx\"]/mu\n",
    "df[\"S_xy_norm\"] = df[\"S_xy\"]/mu\n",
    "df[\"S_yx_norm\"] = df[\"S_yx\"]/mu\n",
    "df[\"S_yy_norm\"] = df[\"S_yy\"]/mu\n",
    "df[\"S_zz_norm\"] = df[\"S_zz\"]/mu\n",
    "df[\"Sxx_analytic_norm\"] = df[\"Sxx_analytic\"]/mu\n",
    "df[\"Syy_analytic_norm\"] = df[\"Syy_analytic\"]/mu\n",
    "df[\"Szz_analytic_norm\"] = df[\"Szz_analytic\"]/mu\n",
    "df[\"1/stretch_ratio\"] = 1./df[\"stretch_ratio\"]\n",
    "df[\"stretch_ratio_quad\"] = np.power(df[\"stretch_ratio\"],2)\n",
    "df[\"1/stretch_ratio_quad\"] = np.power(df[\"1/stretch_ratio\"],2)\n",
    "df[\"S_xx_rel_error\"] = (df[\"Sxx_analytic_norm\"]-df[\"S_xx_norm\"])/df[\"Sxx_analytic_norm\"]\n",
    "df.loc[np.isclose(df.stretch_ratio,1.0),\"S_xx_rel_error\"]=np.nan\n",
    "df[[\"S_xx_norm\", \"Sxx_analytic_norm\", \"S_xx_rel_error\", \"stretch_ratio\", \"u_x\"]]"
   ]
  },
  {
   "cell_type": "code",
   "execution_count": null,
   "metadata": {},
   "outputs": [],
   "source": []
  },
  {
   "cell_type": "code",
   "execution_count": 32,
   "metadata": {},
   "outputs": [
    {
     "data": {
      "image/png": "[encoded data removed]",
      "text/plain": [
       "<Figure size 576x432 with 1 Axes>"
      ]
     },
     "metadata": {
      "needs_background": "light"
     },
     "output_type": "display_data"
    }
   ],
   "source": [
    "fig, ax = plt.subplots(figsize=(8,6))\n",
    "df.plot(x=\"stretch_ratio\", y=[\"S_xx_norm\", \"S_yy_norm\", \"S_zz_norm\"], marker='o', ax=ax)\n",
    "df.plot(x=\"stretch_ratio\", y=[\"Sxx_analytic_norm\", \"Syy_analytic_norm\", \"Szz_analytic_norm\"], marker='x', linestyle='--', ax=ax)\n",
    "#df.plot(x=\"stretch_ratio\", y=[\"S_xx_norm_ana<lytic\"], marker='x', ax=ax)\n",
    "#df.plot(x=\"stretch_ratio\", y=[\"1/stretch_ratio\"], marker='s', ax=ax)\n",
    "ax.set_ylabel(\"$\\sigma$ [normalized by $\\mu$]\")\n",
    "ax.set_xlabel(\"stretch ratio along x\")\n",
    "plt.show()\n"
   ]
  },
  {
   "cell_type": "code",
   "execution_count": 33,
   "metadata": {},
   "outputs": [
    {
     "data": {
      "image/png": "[encoded data removed]",
      "text/plain": [
       "<Figure size 576x432 with 1 Axes>"
      ]
     },
     "metadata": {
      "needs_background": "light"
     },
     "output_type": "display_data"
    }
   ],
   "source": [
    "fig, ax = plt.subplots(figsize=(8,6))\n",
    "df.plot(x=\"stretch_ratio\", y=[\"S_xx_rel_error\"], marker='o', ax=ax)\n",
    "    \n",
    "ax.set_ylabel(\"$\\sigma$ error [normalized by $\\mu$]\")\n",
    "ax.set_xlabel(\"stretch ratio along x\")\n",
    "plt.show()\n"
   ]
  },
  {
   "cell_type": "code",
   "execution_count": 34,
   "metadata": {},
   "outputs": [
    {
     "data": {
      "image/png": "[encoded data removed]",
      "text/plain": [
       "<Figure size 576x432 with 1 Axes>"
      ]
     },
     "metadata": {
      "needs_background": "light"
     },
     "output_type": "display_data"
    }
   ],
   "source": [
    "fig, ax = plt.subplots(figsize=(8,6))\n",
    "df.plot(x=\"stretch_ratio\", y=[\"F_xx\", \"F_yy\", \"F_xy\", \"F_yx\"], marker='o', ax=ax)\n",
    "    \n",
    "ax.set_ylabel(\"$F$\")\n",
    "ax.set_xlabel(\"stretch ratio along x\")\n",
    "plt.show()\n"
   ]
  },
  {
   "cell_type": "code",
   "execution_count": 35,
   "metadata": {},
   "outputs": [
    {
     "data": {
      "image/png": "[encoded data removed]",
      "text/plain": [
       "<Figure size 576x432 with 1 Axes>"
      ]
     },
     "metadata": {
      "needs_background": "light"
     },
     "output_type": "display_data"
    }
   ],
   "source": [
    "fig, ax = plt.subplots(figsize=(8,6))\n",
    "df.plot(x=\"stretch_ratio\", y=[\"C_xx\", \"C_yy\", \"C_zz\"], marker='o', ax=ax)\n",
    "df.plot(x=\"stretch_ratio\", y=[\"stretch_ratio_quad\", \"1/stretch_ratio\"], marker='x', ax=ax)\n",
    "    \n",
    "    \n",
    "ax.set_ylabel(\"Cauchy-Green\")\n",
    "ax.set_xlabel(\"stretch ratio along x\")\n",
    "plt.show()\n"
   ]
  },
  {
   "cell_type": "code",
   "execution_count": null,
   "metadata": {},
   "outputs": [],
   "source": []
  }
 ],
 "metadata": {
  "kernelspec": {
   "display_name": "Python 3",
   "language": "python",
   "name": "python3"
  },
  "language_info": {
   "codemirror_mode": {
    "name": "ipython",
    "version": 3
   },
   "file_extension": ".py",
   "mimetype": "text/x-python",
   "name": "python",
   "nbconvert_exporter": "python",
   "pygments_lexer": "ipython3",
   "version": "3.7.3"
  }
 },
 "nbformat": 4,
 "nbformat_minor": 4
}
