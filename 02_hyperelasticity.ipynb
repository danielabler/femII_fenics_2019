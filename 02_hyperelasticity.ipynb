{
 "cells": [
  {
   "cell_type": "code",
   "execution_count": null,
   "metadata": {},
   "outputs": [],
   "source": [
    "# IPython magic to import matplotlib and plot inline\n",
    "%matplotlib inline"
   ]
  },
  {
   "cell_type": "code",
   "execution_count": null,
   "metadata": {},
   "outputs": [],
   "source": [
    "# Path settings\n",
    "import os\n",
    "# we use a relative path here, you can also specify an absolute path for your system\n",
    "out_path = \"output/01_hyperelasticity\"\n",
    "os.makedirs(out_path, exist_ok=True)"
   ]
  },
  {
   "cell_type": "markdown",
   "metadata": {},
   "source": [
    "# Hyperelasticity\n",
    "\n",
    "Solves a simple mechanical problem with hyperelastic material model and demonstrates computation of stress, strain etc and export to ParaView."
   ]
  },
  {
   "cell_type": "code",
   "execution_count": null,
   "metadata": {},
   "outputs": [],
   "source": [
    "import fenics as fe\n",
    "import os"
   ]
  },
  {
   "cell_type": "code",
   "execution_count": null,
   "metadata": {},
   "outputs": [],
   "source": [
    "# mesh\n",
    "mesh = fe.BoxMesh(fe.Point(0,0,0),fe.Point(10.0,1,1),100,10,10)\n",
    "mesh"
   ]
  },
  {
   "cell_type": "code",
   "execution_count": null,
   "metadata": {},
   "outputs": [],
   "source": [
    "# FunctionSpace\n",
    "V = fe.VectorFunctionSpace(mesh, \"Lagrange\", 1)"
   ]
  },
  {
   "cell_type": "code",
   "execution_count": null,
   "metadata": {},
   "outputs": [],
   "source": [
    "# Finite element functions\n",
    "du = fe.TrialFunction(V)\n",
    "v  = fe.TestFunction(V)\n",
    "u  = fe.Function(V)"
   ]
  },
  {
   "cell_type": "code",
   "execution_count": null,
   "metadata": {},
   "outputs": [],
   "source": [
    "# Mark boundary subdomians\n",
    "left =  fe.CompiledSubDomain(\"near(x[0], side) && on_boundary\", side = 0.0)\n",
    "\n",
    "# Define Dirichlet BC: zero displacement on left side (x = 0)\n",
    "c = fe.Expression((\"0.0\", \"0.0\", \"0.0\"), element=V.ufl_element())\n",
    "bcl = fe.DirichletBC(V, c, left)\n",
    "bcs = [bcl]\n",
    "\n",
    "\n",
    "# Define Von Neuman BC: surface load on right side (x=10)\n",
    "#-- a) function to define boundary\n",
    "class RightBorder(fe.SubDomain):\n",
    "    def inside(self, x, on_boundary):\n",
    "        return x[0] >= 10.0-fe.DOLFIN_EPS and on_boundary\n",
    "#-- b) mark up boundary in meshfunction\n",
    "boundaries = fe.MeshFunction(\"size_t\", mesh, mesh.topology().dim() - 1)\n",
    "boundaries.set_all(0)\n",
    "right_border = RightBorder()\n",
    "right_border.mark(boundaries, 1)\n",
    "\n",
    "#-- c) compute surface load over buondary\n",
    "dsp    = fe.Measure('ds', domain=mesh, subdomain_data=boundaries)\n",
    "load_s = fe.Constant((100., 0., 0.))\n",
    "# term in variational form\n",
    "integral_S = fe.inner(load_s, u) * dsp(1)\n",
    "\n",
    "\n",
    "#-- save boundary to vtu for inspection\n",
    "boundary_file = fe.File(os.path.join(out_path, \"boundaries.pvd\"))\n",
    "boundary_file << boundaries"
   ]
  },
  {
   "cell_type": "code",
   "execution_count": null,
   "metadata": {},
   "outputs": [],
   "source": [
    "# Functions for \n",
    "\n",
    "def defGrad(u):\n",
    "    \"\"\"\n",
    "    Compute deformation gradient from displacements\n",
    "    \"\"\"\n",
    "    d = u.geometric_dimension()\n",
    "    I = fe.Identity(d)\n",
    "    F = I + fe.grad(u)             \n",
    "    return F\n",
    "\n",
    "\n",
    "def strainEnergyDensityFunctionNeoHookean(F, Ey, nu):\n",
    "    \"\"\"\n",
    "    Computes strain energy density of neo hookean material model in function o f\n",
    "    - F: deformation gradient\n",
    "    - Ey: young's modulus\n",
    "    - nu: poisson ratio\n",
    "    \"\"\"\n",
    "    mu    = Ey / (2.*(1+nu))\n",
    "    lmbda = Ey*nu / ((1+nu)*(1-2*nu))\n",
    "    C = F.T*F      # Right Cauchy-Green tensor\n",
    "    I1 = fe.tr(C)  # Invariants \n",
    "    J = fe.det(F)\n",
    "    return (mu/2)*(I1 - 3) - mu*fe.ln(J) + (lmbda/2)*(fe.ln(J))**2"
   ]
  },
  {
   "cell_type": "code",
   "execution_count": null,
   "metadata": {},
   "outputs": [],
   "source": [
    "\n",
    "# create deformation gradient\n",
    "F = defGrad(u)\n",
    "\n",
    "F = fe.variable(F) # !!! needed to be able to differentiate strain energydensity function wrt F for stress computation\n",
    "\n",
    "# instantiate strain energy density function for given material properties\n",
    "psi = strainEnergyDensityFunctionNeoHookean(F=F, Ey=1000, nu=0.4)\n",
    "\n",
    "# body force\n",
    "B = fe.Constant((0., 0., 0.))\n",
    "\n",
    "# total potential energy \n",
    "Pi = psi * fe.dx - fe.inner(B, u) * fe.dx - integral_S\n",
    "\n",
    "# Compute 1st variation of Pi (directional derivative about u in dir. of v)\n",
    "Fpi = fe.derivative(Pi, u, v)\n",
    "\n",
    "# Compute Jacobian of F\n",
    "Jac = fe.derivative(Fpi, u, du)"
   ]
  },
  {
   "cell_type": "code",
   "execution_count": null,
   "metadata": {},
   "outputs": [],
   "source": [
    "# Define the solver\n",
    "problem = fe.NonlinearVariationalProblem(Fpi, u, bcs, Jac)\n",
    "solver = fe.NonlinearVariationalSolver(problem)\n",
    "\n",
    "# Set solver parameters (optional)\n",
    "prm = solver.parameters\n",
    "prm['nonlinear_solver'] = 'newton'\n",
    "prm['newton_solver']['linear_solver'] = 'petsc'\n",
    "\n",
    "prm['newton_solver']['error_on_nonconvergence'] = True\n",
    "prm['newton_solver']['absolute_tolerance'] = 1E-9\n",
    "prm['newton_solver']['relative_tolerance'] = 1E-8\n",
    "prm['newton_solver']['maximum_iterations'] = 25\n",
    "prm['newton_solver']['relaxation_parameter'] = 1.0\n",
    "\n",
    "prm['newton_solver']['lu_solver']['report'] = True\n",
    "#prm['newton_solver']['lu_solver']['reuse_factorization'] = False\n",
    "#prm['newton_solver']['lu_solver']['same_nonzero_pattern'] = False\n",
    "prm['newton_solver']['lu_solver']['symmetric'] = False\n",
    "\n",
    "prm['newton_solver']['krylov_solver']['error_on_nonconvergence'] = True\n",
    "prm['newton_solver']['krylov_solver']['absolute_tolerance'] = 1E-7\n",
    "prm['newton_solver']['krylov_solver']['relative_tolerance'] = 1E-5\n",
    "prm['newton_solver']['krylov_solver']['maximum_iterations'] = 1000\n",
    "prm['newton_solver']['krylov_solver']['nonzero_initial_guess'] = True\n",
    "if prm['newton_solver']['linear_solver'] == 'gmres':\n",
    "    prm['newton_solver']['preconditioner'] = 'ilu'\n",
    "\n",
    "# solve\n",
    "solver.solve()"
   ]
  },
  {
   "cell_type": "code",
   "execution_count": null,
   "metadata": {},
   "outputs": [],
   "source": [
    "# Save results\n",
    "\n",
    "path_to_displ = os.path.join(out_path, \"displacement.pvd\")\n",
    "print(\"Saving displacement solution to file. '%s'\"%path_to_displ)\n",
    "u.rename(\"displacement\", \"\")\n",
    "uViewer = fe.File(path_to_displ)\n",
    "uViewer << u"
   ]
  },
  {
   "cell_type": "code",
   "execution_count": null,
   "metadata": {},
   "outputs": [],
   "source": [
    "# compute max / min displacement\n",
    "W = fe.FunctionSpace(mesh, 'P', 1)\n",
    "\n",
    "u_magnitude = fe.sqrt(fe.dot(u, u))\n",
    "u_magnitude = fe.project(u_magnitude, W)\n",
    "print('Min/Max displacement:',\n",
    "      u_magnitude.vector().get_local().min(),\n",
    "      u_magnitude.vector().get_local().max())"
   ]
  },
  {
   "cell_type": "code",
   "execution_count": null,
   "metadata": {},
   "outputs": [],
   "source": [
    "# displacement magnitude at some random point in domain\n",
    "u_magnitude(fe.Point(9.2342, 0.234, 0.7364))"
   ]
  },
  {
   "cell_type": "code",
   "execution_count": null,
   "metadata": {},
   "outputs": [],
   "source": [
    "Z = fe.TensorFunctionSpace(mesh, 'P', 1)\n",
    "\n",
    "# Computation of the stresses\n",
    "path_to_stress = os.path.join(out_path, \"stress.pvd\")\n",
    "print(\"Stress derivation and saving to file '%s'\"%path_to_displ)\n",
    "S = fe.diff(psi, F)            # compute stress by differentiation of psi!\n",
    "S_project = fe.project(S, Z)\n",
    "S_project.rename(\"stress\", \"\")\n",
    "sigmaViewer = fe.File(path_to_stress)\n",
    "sigmaViewer << S_project\n"
   ]
  },
  {
   "cell_type": "code",
   "execution_count": null,
   "metadata": {},
   "outputs": [],
   "source": [
    "# Computation of van Mises Stress\n",
    "s = S - (1./3) * fe.tr(S) * fe.Identity(u.geometric_dimension())\n",
    "von_Mises = fe.sqrt( 3./2 * fe.inner(s, s) )\n",
    "von_Mises_project = fe.project(von_Mises, W)\n",
    "von_Mises_project.rename(\"van_mises\", \"\")\n",
    "path_to_stress = os.path.join(out_path, \"stress_van_mises.pvd\")\n",
    "misesViewer = fe.File(path_to_stress)\n",
    "misesViewer << von_Mises_project\n",
    "print(\"Maximum equivalent stress:\", von_Mises_project.vector().get_local().max())"
   ]
  },
  {
   "cell_type": "code",
   "execution_count": null,
   "metadata": {},
   "outputs": [],
   "source": [
    "# a more compact way of writing all results into the same file:\n",
    "\n",
    "xdmffile = fe.XDMFFile(os.path.join(out_path, 'results.xdmf'))\n",
    "xdmffile.parameters[\"flush_output\"] = True\n",
    "xdmffile.parameters[\"functions_share_mesh\"] = True\n",
    "\n",
    "xdmffile.write(S_project,0)\n",
    "xdmffile.write(von_Mises_project,0)\n",
    "xdmffile.write(u,0)\n",
    "\n",
    "xdmffile.close()"
   ]
  }
 ],
 "metadata": {
  "kernelspec": {
   "display_name": "Python 3",
   "language": "python",
   "name": "python3"
  },
  "language_info": {
   "codemirror_mode": {
    "name": "ipython",
    "version": 3
   },
   "file_extension": ".py",
   "mimetype": "text/x-python",
   "name": "python",
   "nbconvert_exporter": "python",
   "pygments_lexer": "ipython3",
   "version": "3.7.3"
  }
 },
 "nbformat": 4,
 "nbformat_minor": 4
}
